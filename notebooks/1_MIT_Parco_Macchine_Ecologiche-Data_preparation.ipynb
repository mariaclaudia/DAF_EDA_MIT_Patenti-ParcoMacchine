{
 "cells": [
  {
   "cell_type": "markdown",
   "metadata": {},
   "source": [
    "# MIT Parco Macchine Italia\n",
    "\n",
    "## Data description and Data preparation\n",
    "\n",
    "\n",
    "Il Ministero dei Trasporti pubblica in formato aperto i dati relativi al parco macchine circolante e le patenti di guida regione per regione.\n",
    "\n",
    "\n",
    "### Parco circolante veicoli\n",
    "- [Parco Circolante](http://dati.mit.gov.it/catalog/dataset/parco-circolante-dei-veicoli)\n",
    "\n",
    "Questo dataset contiene il parco circolante dei veicoli su strada ( categorie Autoveicoli e Motoveicoli ) diviso per regione estratto dall'archivio nazionale dei veicoli gestito dalla Motorizzazione.\n",
    "\n",
    "I dati si riferiscono alla situazione del parco vetture al 31/10/2017\n",
    "\n",
    "-[Qui](http://dati.mit.gov.it/catalog/dataset/60a57c60-758c-4bd9-8d87-c286b797c289/resource/5d21aa87-a57d-42ee-b504-7da3218152be/download/metadata-parco-circolante-vetture.pdf) la scheda contenente i metadati\n",
    "\n",
    "\n",
    "### Auto Eco friendly\n",
    "Inoltre in questo notebook verrà segmentato il dataset complessivo del parco macchine sui veicoli \"Eco_friendly\" in modo da condurre un'analisi esplorativa nel notebook successivo\n",
    "\n",
    "Questo primo notebook si occupa quindi di caricare tutti i dati del parco macchine regione per regione, eseguire alcune operazioni di utilità ed infine estratte un unico dataframe con solamente le auto che appartengono alle categorie scelte.\n",
    "In particolare verrà filtrato il campo \"alimentazione\" per i seguenti valori:\n",
    "\n",
    "- 'METANO'\n",
    "- 'ELETTR'\n",
    "- 'GPL'\n",
    "- 'B/GPL'\n",
    "- 'B/MET'\n",
    "- 'IBRIDO BENZINA/ELETTRICO'\n",
    "- 'IBRIDO GASOLIO/ELETTRICO'"
   ]
  },
  {
   "cell_type": "code",
   "execution_count": 34,
   "metadata": {},
   "outputs": [],
   "source": [
    "%matplotlib inline \n",
    "import csv\n",
    "import numpy as np \n",
    "import scipy.stats as sp \n",
    "import pandas as pd \n",
    "import matplotlib as mpl \n",
    "import matplotlib.cm as cm \n",
    "import matplotlib.pyplot as plt \n",
    "import matplotlib.style as style\n",
    "import seaborn as sns \n",
    "#sets up pandas table display\n",
    "pd.set_option('display.width', 500)\n",
    "pd.set_option('display.max_columns', 200)\n",
    "pd.set_option('display.notebook_repr_html', True)\n",
    "\n",
    "mpl.rcParams['figure.figsize'] = (6.0, 10.0)\n",
    "\n",
    "sns.set_context(\"notebook\")\n",
    "sns.set()\n",
    "sns.set_style(\"darkgrid\")\n",
    "sns.set_palette(sns.color_palette(\"Set2\", 10))\n",
    "\n",
    "style.use('fivethirtyeight')"
   ]
  },
  {
   "cell_type": "code",
   "execution_count": 3,
   "metadata": {},
   "outputs": [],
   "source": [
    "pd.set_option('display.float_format', lambda x: '%.3f' % x)"
   ]
  },
  {
   "cell_type": "code",
   "execution_count": 32,
   "metadata": {},
   "outputs": [],
   "source": [
    "# Seaborn for pairplots\n",
    "sns.set_context('talk', font_scale=1.2);"
   ]
  },
  {
   "cell_type": "markdown",
   "metadata": {},
   "source": [
    "## Parco Macchine\n",
    "### Part 1: Loading and Cleaning with Pandas - quick checks Parco macchine\n",
    "\n"
   ]
  },
  {
   "cell_type": "code",
   "execution_count": 5,
   "metadata": {},
   "outputs": [
    {
     "name": "stdout",
     "output_type": "stream",
     "text": [
      "./../data/parco/parco_circolante_Calabria.csv\n",
      "./../data/parco/parco_circolante_Molise.csv\n",
      "./../data/parco/parco_circolante_EmiliaRomagna.csv\n",
      "./../data/parco/parco_circolante_Veneto.csv\n",
      "./../data/parco/parco_circolante_Umbria.csv\n",
      "./../data/parco/parco_circolante_Sardegna.csv\n",
      "./../data/parco/parco_circolante_Liguria.csv\n",
      "./../data/parco/parco_circolante_Puglia.csv\n",
      "./../data/parco/parco_circolante_Abruzzo.csv\n",
      "./../data/parco/parco_circolante_Lazio.csv\n",
      "./../data/parco/parco_circolante_Piemonte.csv\n",
      "./../data/parco/parco_circolante_FriuliVeneziaGiulia.csv\n",
      "./../data/parco/parco_circolante_Lombardia.csv\n",
      "./../data/parco/parco_circolante_Marche.csv\n",
      "./../data/parco/parco_circolante_ValleAosta.csv\n",
      "./../data/parco/parco_circolante_Basilicata.csv\n",
      "./../data/parco/parco_circolante_Toscana.csv\n",
      "./../data/parco/parco_circolante_TrentinoAltoAdige.csv\n",
      "./../data/parco/parco_circolante_Sicilia.csv\n",
      "./../data/parco/parco_circolante_Campania.csv\n"
     ]
    },
    {
     "data": {
      "text/plain": [
       "52165189"
      ]
     },
     "execution_count": 5,
     "metadata": {},
     "output_type": "execute_result"
    }
   ],
   "source": [
    "folder_dati = \"../data/parco\"\n",
    "folder = glob.glob('./'+folder_dati+'/*.csv')\n",
    "\n",
    "list_ =[]\n",
    "for file_ in folder:\n",
    "    print (file_)\n",
    "    name = (os.path.basename(file_)).split(\".\")[0]\n",
    "    \n",
    "    #leggo il dataset originario\n",
    "    df = pd.read_csv(file_, sep=\",\", encoding=\"ISO-8859-1\", decimal=\",\",low_memory=False)\n",
    "    list_.append(df)\n",
    "parco = pd.concat(list_)\n",
    "len(parco)"
   ]
  },
  {
   "cell_type": "markdown",
   "metadata": {},
   "source": [
    "Il totale del parco macchine ammonta a **52.165.189 veicoli** (autoveicoli e motoveicoli)\n",
    "Calcola il rapporto con il numero di abitanti."
   ]
  },
  {
   "cell_type": "code",
   "execution_count": 4,
   "metadata": {},
   "outputs": [],
   "source": [
    "#Cast data_immatricolazione to datetime\n",
    "parco['data_immatricolazione'] = pd.to_datetime(parco['data_immatricolazione'])"
   ]
  },
  {
   "cell_type": "code",
   "execution_count": 5,
   "metadata": {},
   "outputs": [
    {
     "data": {
      "text/plain": [
       "id                                  int64\n",
       "progressivo                         int64\n",
       "tipo_veicolo                       object\n",
       "destinazione                       object\n",
       "uso                                object\n",
       "comune_residenza                   object\n",
       "provincia_residenza                object\n",
       "regione_residenza                  object\n",
       "eta_intestatario                  float64\n",
       "sesso                              object\n",
       "marca                              object\n",
       "cilindrata                         object\n",
       "alimentazione                      object\n",
       "kw                                float64\n",
       "data_immatricolazione      datetime64[ns]\n",
       "classe_euro                       float64\n",
       "emissioni_co2                      object\n",
       "massa_complessiva                 float64\n",
       "revisione_in_regola                object\n",
       "assicurazione_in_regola            object\n",
       "dtype: object"
      ]
     },
     "execution_count": 5,
     "metadata": {},
     "output_type": "execute_result"
    }
   ],
   "source": [
    "parco.dtypes"
   ]
  },
  {
   "cell_type": "code",
   "execution_count": 8,
   "metadata": {},
   "outputs": [
    {
     "name": "stdout",
     "output_type": "stream",
     "text": [
      "(52165189, 20)\n"
     ]
    }
   ],
   "source": [
    "print(parco.shape)"
   ]
  },
  {
   "cell_type": "code",
   "execution_count": 6,
   "metadata": {},
   "outputs": [
    {
     "data": {
      "text/html": [
       "<div>\n",
       "<style scoped>\n",
       "    .dataframe tbody tr th:only-of-type {\n",
       "        vertical-align: middle;\n",
       "    }\n",
       "\n",
       "    .dataframe tbody tr th {\n",
       "        vertical-align: top;\n",
       "    }\n",
       "\n",
       "    .dataframe thead th {\n",
       "        text-align: right;\n",
       "    }\n",
       "</style>\n",
       "<table border=\"1\" class=\"dataframe\">\n",
       "  <thead>\n",
       "    <tr style=\"text-align: right;\">\n",
       "      <th></th>\n",
       "      <th>id</th>\n",
       "      <th>progressivo</th>\n",
       "      <th>tipo_veicolo</th>\n",
       "      <th>destinazione</th>\n",
       "      <th>uso</th>\n",
       "      <th>comune_residenza</th>\n",
       "      <th>provincia_residenza</th>\n",
       "      <th>regione_residenza</th>\n",
       "      <th>eta_intestatario</th>\n",
       "      <th>sesso</th>\n",
       "      <th>marca</th>\n",
       "      <th>cilindrata</th>\n",
       "      <th>alimentazione</th>\n",
       "      <th>kw</th>\n",
       "      <th>data_immatricolazione</th>\n",
       "      <th>classe_euro</th>\n",
       "      <th>emissioni_co2</th>\n",
       "      <th>massa_complessiva</th>\n",
       "      <th>revisione_in_regola</th>\n",
       "      <th>assicurazione_in_regola</th>\n",
       "    </tr>\n",
       "  </thead>\n",
       "  <tbody>\n",
       "    <tr>\n",
       "      <th>0</th>\n",
       "      <td>1647312</td>\n",
       "      <td>124592</td>\n",
       "      <td>A</td>\n",
       "      <td>AUTOVETTURA PER TRASPORTO DI PERSONE</td>\n",
       "      <td>PROPRIO</td>\n",
       "      <td>ZUMPANO</td>\n",
       "      <td>COSENZA</td>\n",
       "      <td>CALABRIA</td>\n",
       "      <td>65.000</td>\n",
       "      <td>M</td>\n",
       "      <td>NaN</td>\n",
       "      <td>1990.00</td>\n",
       "      <td>BENZ</td>\n",
       "      <td>96.000</td>\n",
       "      <td>1974-01-01</td>\n",
       "      <td>0.000</td>\n",
       "      <td>NaN</td>\n",
       "      <td>1390.000</td>\n",
       "      <td>N</td>\n",
       "      <td>N</td>\n",
       "    </tr>\n",
       "    <tr>\n",
       "      <th>1</th>\n",
       "      <td>1647313</td>\n",
       "      <td>139878</td>\n",
       "      <td>M</td>\n",
       "      <td>TRICICLO PER TRASPORTO COSE</td>\n",
       "      <td>PROPRIO</td>\n",
       "      <td>MELICUCCO</td>\n",
       "      <td>REGGIO DI CALABRIA</td>\n",
       "      <td>CALABRIA</td>\n",
       "      <td>85.000</td>\n",
       "      <td>M</td>\n",
       "      <td>NaN</td>\n",
       "      <td>218.00</td>\n",
       "      <td>B/OLIO</td>\n",
       "      <td>8.000</td>\n",
       "      <td>NaT</td>\n",
       "      <td>0.000</td>\n",
       "      <td>NaN</td>\n",
       "      <td>1160.000</td>\n",
       "      <td>N</td>\n",
       "      <td>S</td>\n",
       "    </tr>\n",
       "    <tr>\n",
       "      <th>2</th>\n",
       "      <td>1647314</td>\n",
       "      <td>184563</td>\n",
       "      <td>M</td>\n",
       "      <td>MOTOCICLO PER TRASPORTO PERSONE</td>\n",
       "      <td>PROPRIO</td>\n",
       "      <td>CROTONE</td>\n",
       "      <td>CROTONE</td>\n",
       "      <td>CALABRIA</td>\n",
       "      <td>51.000</td>\n",
       "      <td>M</td>\n",
       "      <td>NaN</td>\n",
       "      <td>903.00</td>\n",
       "      <td>BENZ</td>\n",
       "      <td>56.000</td>\n",
       "      <td>1976-01-01</td>\n",
       "      <td>0.000</td>\n",
       "      <td>NaN</td>\n",
       "      <td>nan</td>\n",
       "      <td>S</td>\n",
       "      <td>S</td>\n",
       "    </tr>\n",
       "    <tr>\n",
       "      <th>3</th>\n",
       "      <td>1647363</td>\n",
       "      <td>957766</td>\n",
       "      <td>A</td>\n",
       "      <td>AUTOCARRO PER TRASPORTO DI COSE</td>\n",
       "      <td>PROPRIO</td>\n",
       "      <td>RENDE</td>\n",
       "      <td>COSENZA</td>\n",
       "      <td>CALABRIA</td>\n",
       "      <td>46.000</td>\n",
       "      <td>M</td>\n",
       "      <td>OPEL</td>\n",
       "      <td>1995.00</td>\n",
       "      <td>GASOL</td>\n",
       "      <td>84.000</td>\n",
       "      <td>2009-02-16</td>\n",
       "      <td>4.000</td>\n",
       "      <td>NaN</td>\n",
       "      <td>2770.000</td>\n",
       "      <td>N</td>\n",
       "      <td>N</td>\n",
       "    </tr>\n",
       "    <tr>\n",
       "      <th>4</th>\n",
       "      <td>1647602</td>\n",
       "      <td>4068491</td>\n",
       "      <td>A</td>\n",
       "      <td>AUTOCARRO PER TRASPORTO DI COSE</td>\n",
       "      <td>PROPRIO</td>\n",
       "      <td>CUTRO</td>\n",
       "      <td>CROTONE</td>\n",
       "      <td>CALABRIA</td>\n",
       "      <td>30.000</td>\n",
       "      <td>M</td>\n",
       "      <td>NaN</td>\n",
       "      <td>3455.00</td>\n",
       "      <td>GASOL</td>\n",
       "      <td>60.000</td>\n",
       "      <td>1976-01-01</td>\n",
       "      <td>0.000</td>\n",
       "      <td>NaN</td>\n",
       "      <td>3500.000</td>\n",
       "      <td>S</td>\n",
       "      <td>S</td>\n",
       "    </tr>\n",
       "  </tbody>\n",
       "</table>\n",
       "</div>"
      ],
      "text/plain": [
       "        id  progressivo tipo_veicolo                          destinazione      uso comune_residenza provincia_residenza regione_residenza  eta_intestatario sesso marca cilindrata alimentazione     kw data_immatricolazione  classe_euro emissioni_co2  massa_complessiva revisione_in_regola assicurazione_in_regola\n",
       "0  1647312       124592            A  AUTOVETTURA PER TRASPORTO DI PERSONE  PROPRIO          ZUMPANO             COSENZA          CALABRIA            65.000     M   NaN    1990.00          BENZ 96.000            1974-01-01        0.000           NaN           1390.000                   N                       N\n",
       "1  1647313       139878            M           TRICICLO PER TRASPORTO COSE  PROPRIO        MELICUCCO  REGGIO DI CALABRIA          CALABRIA            85.000     M   NaN     218.00        B/OLIO  8.000                   NaT        0.000           NaN           1160.000                   N                       S\n",
       "2  1647314       184563            M       MOTOCICLO PER TRASPORTO PERSONE  PROPRIO          CROTONE             CROTONE          CALABRIA            51.000     M   NaN     903.00          BENZ 56.000            1976-01-01        0.000           NaN                nan                   S                       S\n",
       "3  1647363       957766            A       AUTOCARRO PER TRASPORTO DI COSE  PROPRIO            RENDE             COSENZA          CALABRIA            46.000     M  OPEL    1995.00         GASOL 84.000            2009-02-16        4.000           NaN           2770.000                   N                       N\n",
       "4  1647602      4068491            A       AUTOCARRO PER TRASPORTO DI COSE  PROPRIO            CUTRO             CROTONE          CALABRIA            30.000     M   NaN    3455.00         GASOL 60.000            1976-01-01        0.000           NaN           3500.000                   S                       S"
      ]
     },
     "execution_count": 6,
     "metadata": {},
     "output_type": "execute_result"
    }
   ],
   "source": [
    "parco.head(5)"
   ]
  },
  {
   "cell_type": "code",
   "execution_count": 8,
   "metadata": {},
   "outputs": [
    {
     "data": {
      "text/html": [
       "<div>\n",
       "<style scoped>\n",
       "    .dataframe tbody tr th:only-of-type {\n",
       "        vertical-align: middle;\n",
       "    }\n",
       "\n",
       "    .dataframe tbody tr th {\n",
       "        vertical-align: top;\n",
       "    }\n",
       "\n",
       "    .dataframe thead th {\n",
       "        text-align: right;\n",
       "    }\n",
       "</style>\n",
       "<table border=\"1\" class=\"dataframe\">\n",
       "  <thead>\n",
       "    <tr style=\"text-align: right;\">\n",
       "      <th></th>\n",
       "      <th>id</th>\n",
       "      <th>progressivo</th>\n",
       "      <th>eta_intestatario</th>\n",
       "      <th>kw</th>\n",
       "      <th>classe_euro</th>\n",
       "      <th>massa_complessiva</th>\n",
       "    </tr>\n",
       "  </thead>\n",
       "  <tbody>\n",
       "    <tr>\n",
       "      <th>count</th>\n",
       "      <td>52165189.000</td>\n",
       "      <td>52165189.000</td>\n",
       "      <td>46312796.000</td>\n",
       "      <td>52116408.000</td>\n",
       "      <td>52165175.000</td>\n",
       "      <td>51906600.000</td>\n",
       "    </tr>\n",
       "    <tr>\n",
       "      <th>mean</th>\n",
       "      <td>26082595.000</td>\n",
       "      <td>26082595.000</td>\n",
       "      <td>53.726</td>\n",
       "      <td>65.268</td>\n",
       "      <td>3.240</td>\n",
       "      <td>1808.169</td>\n",
       "    </tr>\n",
       "    <tr>\n",
       "      <th>std</th>\n",
       "      <td>15058793.100</td>\n",
       "      <td>15058793.100</td>\n",
       "      <td>14.639</td>\n",
       "      <td>40.385</td>\n",
       "      <td>1.786</td>\n",
       "      <td>2268.266</td>\n",
       "    </tr>\n",
       "    <tr>\n",
       "      <th>min</th>\n",
       "      <td>1.000</td>\n",
       "      <td>1.000</td>\n",
       "      <td>0.000</td>\n",
       "      <td>0.000</td>\n",
       "      <td>0.000</td>\n",
       "      <td>0.000</td>\n",
       "    </tr>\n",
       "    <tr>\n",
       "      <th>25%</th>\n",
       "      <td>13041298.000</td>\n",
       "      <td>13041298.000</td>\n",
       "      <td>43.000</td>\n",
       "      <td>44.000</td>\n",
       "      <td>2.000</td>\n",
       "      <td>1305.000</td>\n",
       "    </tr>\n",
       "    <tr>\n",
       "      <th>50%</th>\n",
       "      <td>26082595.000</td>\n",
       "      <td>26082595.000</td>\n",
       "      <td>53.000</td>\n",
       "      <td>57.000</td>\n",
       "      <td>4.000</td>\n",
       "      <td>1560.000</td>\n",
       "    </tr>\n",
       "    <tr>\n",
       "      <th>75%</th>\n",
       "      <td>39123892.000</td>\n",
       "      <td>39123892.000</td>\n",
       "      <td>64.000</td>\n",
       "      <td>81.000</td>\n",
       "      <td>5.000</td>\n",
       "      <td>1885.000</td>\n",
       "    </tr>\n",
       "    <tr>\n",
       "      <th>max</th>\n",
       "      <td>52165189.000</td>\n",
       "      <td>52165189.000</td>\n",
       "      <td>2017.000</td>\n",
       "      <td>1000.000</td>\n",
       "      <td>6.000</td>\n",
       "      <td>99999.000</td>\n",
       "    </tr>\n",
       "  </tbody>\n",
       "</table>\n",
       "</div>"
      ],
      "text/plain": [
       "                id  progressivo  eta_intestatario           kw  classe_euro  massa_complessiva\n",
       "count 52165189.000 52165189.000      46312796.000 52116408.000 52165175.000       51906600.000\n",
       "mean  26082595.000 26082595.000            53.726       65.268        3.240           1808.169\n",
       "std   15058793.100 15058793.100            14.639       40.385        1.786           2268.266\n",
       "min          1.000        1.000             0.000        0.000        0.000              0.000\n",
       "25%   13041298.000 13041298.000            43.000       44.000        2.000           1305.000\n",
       "50%   26082595.000 26082595.000            53.000       57.000        4.000           1560.000\n",
       "75%   39123892.000 39123892.000            64.000       81.000        5.000           1885.000\n",
       "max   52165189.000 52165189.000          2017.000     1000.000        6.000          99999.000"
      ]
     },
     "execution_count": 8,
     "metadata": {},
     "output_type": "execute_result"
    }
   ],
   "source": [
    "parco.describe()"
   ]
  },
  {
   "cell_type": "markdown",
   "metadata": {},
   "source": [
    "#### Check Valori nulli nel DataFrame Parco macchine completo"
   ]
  },
  {
   "cell_type": "code",
   "execution_count": 9,
   "metadata": {},
   "outputs": [
    {
     "data": {
      "text/plain": [
       "id                                0\n",
       "progressivo                       0\n",
       "tipo_veicolo                      0\n",
       "destinazione                  31003\n",
       "uso                           31043\n",
       "comune_residenza              17731\n",
       "provincia_residenza               0\n",
       "regione_residenza                 0\n",
       "eta_intestatario            5852393\n",
       "sesso                       6144681\n",
       "marca                       2946408\n",
       "cilindrata                    69755\n",
       "alimentazione                 48578\n",
       "kw                            48781\n",
       "data_immatricolazione        134237\n",
       "classe_euro                      14\n",
       "emissioni_co2              18866494\n",
       "massa_complessiva            258589\n",
       "revisione_in_regola               0\n",
       "assicurazione_in_regola           0\n",
       "dtype: int64"
      ]
     },
     "execution_count": 9,
     "metadata": {},
     "output_type": "execute_result"
    }
   ],
   "source": [
    "parco.isnull().sum()\n",
    "\n"
   ]
  },
  {
   "cell_type": "code",
   "execution_count": 9,
   "metadata": {},
   "outputs": [
    {
     "data": {
      "text/plain": [
       "52165189"
      ]
     },
     "execution_count": 9,
     "metadata": {},
     "output_type": "execute_result"
    }
   ],
   "source": [
    "len(parco)"
   ]
  },
  {
   "cell_type": "markdown",
   "metadata": {},
   "source": [
    "### Seziono il campo tipo_veicolo\n",
    "Creo per comodità un dataset contenente solo gli autoveicoli e uno solo i motoveicoli"
   ]
  },
  {
   "cell_type": "code",
   "execution_count": 36,
   "metadata": {},
   "outputs": [
    {
     "data": {
      "text/plain": [
       "A    44961663\n",
       "M     7203526\n",
       "Name: tipo_veicolo, dtype: int64"
      ]
     },
     "execution_count": 36,
     "metadata": {},
     "output_type": "execute_result"
    }
   ],
   "source": [
    "parco.tipo_veicolo.value_counts()"
   ]
  },
  {
   "cell_type": "code",
   "execution_count": 37,
   "metadata": {},
   "outputs": [],
   "source": [
    "auto = parco[parco.tipo_veicolo==\"A\"]\n",
    "moto = parco[parco.tipo_veicolo==\"M\"]"
   ]
  },
  {
   "cell_type": "code",
   "execution_count": 42,
   "metadata": {},
   "outputs": [
    {
     "name": "stdout",
     "output_type": "stream",
     "text": [
      "Parco totale: 52165189 di cui AUTO: 44961663, di cui MOTO: 7203526\n"
     ]
    }
   ],
   "source": [
    "print (\"Parco totale: \"+ str(len(parco)) + \" di cui AUTO: \"+ str(len(auto)) + \", di cui MOTO: \" +str(len(moto)))"
   ]
  },
  {
   "cell_type": "markdown",
   "metadata": {},
   "source": [
    "## Part 2 - Global properties \n",
    "### Descrizione e analisi di ogni campo del dataset"
   ]
  },
  {
   "cell_type": "markdown",
   "metadata": {},
   "source": [
    "###  - **progressivo**: \n",
    "Questa colonna contiene il numero progressivo del veicolo come record nel datase"
   ]
  },
  {
   "cell_type": "markdown",
   "metadata": {},
   "source": [
    "### - tipo veicolo\n",
    "\n",
    "Questa colonna contiene il tipo di veicolo (**A** = Autoveicolo, **M** = Motoveicolo)"
   ]
  },
  {
   "cell_type": "code",
   "execution_count": 28,
   "metadata": {},
   "outputs": [
    {
     "data": {
      "text/plain": [
       "A    44961663\n",
       "M     7203526\n",
       "Name: tipo_veicolo, dtype: int64"
      ]
     },
     "execution_count": 28,
     "metadata": {},
     "output_type": "execute_result"
    }
   ],
   "source": [
    "parco.tipo_veicolo.value_counts()"
   ]
  },
  {
   "cell_type": "code",
   "execution_count": 70,
   "metadata": {},
   "outputs": [
    {
     "name": "stdout",
     "output_type": "stream",
     "text": [
      "record nulli: 0 - : 0.0% \n"
     ]
    }
   ],
   "source": [
    "print (\"record nulli: \"+ str(parco.tipo_veicolo.isnull().sum()) + \n",
    "       \" - : \"+ str(round((parco.tipo_veicolo.isnull().sum()/len(parco)*100),2))+ \"% \")"
   ]
  },
  {
   "cell_type": "code",
   "execution_count": 35,
   "metadata": {},
   "outputs": [
    {
     "data": {
      "text/plain": [
       "Text(0,0.5,'Frequency')"
      ]
     },
     "execution_count": 35,
     "metadata": {},
     "output_type": "execute_result"
    },
    {
     "data": {
      "image/png": "[encoded data removed]",
      "text/plain": [
       "<Figure size 432x720 with 1 Axes>"
      ]
     },
     "metadata": {},
     "output_type": "display_data"
    }
   ],
   "source": [
    "ax = sns.countplot(x=\"tipo_veicolo\",  data=parco)\n",
    "ax.set_title(\"Tipo veicolo\")\n",
    "ax.set_ylabel(\"Frequency\")"
   ]
  },
  {
   "cell_type": "markdown",
   "metadata": {},
   "source": [
    "### - destinazione\n",
    "\n",
    "Questa colonna contiene la destinazione del veicolo. Per destinazione del veicolo s'intende la sua utilizzazione in base alle caratteristiche tecniche. \n",
    "\n",
    "Per A gli autoveicoli: \n",
    "\n",
    "- AUTOVEICOLO IN SERVIZIO PUBBLICO DI LINEA INTEGRATIVO, \n",
    "- AUTOVEICOLO USO ESCLUSIVO DI POLIZIA\n",
    "- AUTOVETTURA PER TRASPORTO DI PERSONE\n",
    "- AUTOBUS PER TRASPORTO DI PERSONE \n",
    "- AUTOCARRO PER TRASPORTO DI COSE\n",
    "- AUTOCARAVAN\n",
    "- AUTOVEICOLO PER USO SPECIALE\n",
    "- TRAS.SPECIFICO PERSONE PART.CONDIZIONI\n",
    "- AUTOVEIC. TRASP. PROMISCUO PERSONE/COSE \n",
    "- TRATTORE STRADALE PER RIMORCHIO,TRATTORE PER SEMIRIMORCHIO . \n",
    "\n",
    "Per M i Motoveicoli: \n",
    "\n",
    "- QUADRICICLO PER TRASPORTO DI PERSONE\n",
    "- QUADRICICLO PER TRASPORTO DI COSE\n",
    "- QUADRICICLO PER USO SPECIALE,QUADRICICLO TRASPORTO SPECIFICO\n",
    "- MOTOVEICOLO USO ESCLUSIVO DI POLIZIA\n",
    "- TRICICLO PER TRASPORTO PROMISCUO\n",
    "- TRICICLO PER USO SPECIALE\n",
    "- TRICICLO PER TRASPORTO SPECIFICO\n",
    "- MOTOCICLO PER TRASPORTO PERSONE\n",
    "- TRICICLO PER TRASPORTO COSE\n",
    "- TRICICLO PER TRASPORTO DI PERSONE."
   ]
  },
  {
   "cell_type": "code",
   "execution_count": 69,
   "metadata": {},
   "outputs": [
    {
     "name": "stdout",
     "output_type": "stream",
     "text": [
      "record nulli: 31003 - : 0.06% \n"
     ]
    }
   ],
   "source": [
    "print (\"record nulli: \"+ str(parco.destinazione.isnull().sum()) + \n",
    "       \" - : \"+ str(round((parco.destinazione.isnull().sum()/len(parco)*100),2))+ \"% \")"
   ]
  },
  {
   "cell_type": "code",
   "execution_count": 59,
   "metadata": {},
   "outputs": [
    {
     "data": {
      "text/plain": [
       "AUTOVETTURA PER TRASPORTO DI PERSONE                     39161407\n",
       "AUTOCARRO PER TRASPORTO DI COSE                           4151272\n",
       "AUTOVEIC.TRASP.PROMISCUO PERSONE/COSE                      601596\n",
       "AUTOCARAVAN                                                279698\n",
       "AUTOVEICOLO PER TRASPORTO SPECIFICO                        274121\n",
       "AUTOVEICOLO PER USO SPECIALE                               193042\n",
       "TRATTORE PER SEMIRIMORCHIO                                 167726\n",
       "AUTOBUS PER TRASPORTO DI PERSONE                            96479\n",
       "AUTOVEICOLO USO ESCLUSIVO DI POLIZIA                         7849\n",
       "TRAS.SPECIFICO PERSONE PART.CONDIZIONI                       4964\n",
       "TRATTORE STRADALE PER RIMORCHIO                               488\n",
       "AUTOVEICOLO IN SERVIZIO PUBBLICO DI LINEA INTEGRATIVO         346\n",
       "VEICOLO SPECIALE USO AUTOSCUOLA                                77\n",
       "AUTOVEICOLO PER USO SPECIALE DELLA POLIZIA LOCALE              29\n",
       "Name: destinazione, dtype: int64"
      ]
     },
     "execution_count": 59,
     "metadata": {},
     "output_type": "execute_result"
    }
   ],
   "source": [
    "auto.destinazione.value_counts()"
   ]
  },
  {
   "cell_type": "code",
   "execution_count": 44,
   "metadata": {},
   "outputs": [
    {
     "ename": "AttributeError",
     "evalue": "'AxesSubplot' object has no attribute 'fig'",
     "output_type": "error",
     "traceback": [
      "\u001b[0;31m---------------------------------------------------------------------------\u001b[0m",
      "\u001b[0;31mAttributeError\u001b[0m                            Traceback (most recent call last)",
      "\u001b[0;32m<ipython-input-44-f2bcf15c7ea9>\u001b[0m in \u001b[0;36m<module>\u001b[0;34m()\u001b[0m\n\u001b[1;32m      3\u001b[0m \u001b[0max\u001b[0m\u001b[0;34m.\u001b[0m\u001b[0mset_ylabel\u001b[0m\u001b[0;34m(\u001b[0m\u001b[0;34m\"Frequency\"\u001b[0m\u001b[0;34m)\u001b[0m\u001b[0;34m\u001b[0m\u001b[0m\n\u001b[1;32m      4\u001b[0m \u001b[0;34m\u001b[0m\u001b[0m\n\u001b[0;32m----> 5\u001b[0;31m \u001b[0max\u001b[0m\u001b[0;34m.\u001b[0m\u001b[0mfig\u001b[0m\u001b[0;34m.\u001b[0m\u001b[0mget_axes\u001b[0m\u001b[0;34m(\u001b[0m\u001b[0;34m)\u001b[0m\u001b[0;34m[\u001b[0m\u001b[0;36m0\u001b[0m\u001b[0;34m]\u001b[0m\u001b[0;34m.\u001b[0m\u001b[0mset_yscale\u001b[0m\u001b[0;34m(\u001b[0m\u001b[0;34m'log'\u001b[0m\u001b[0;34m)\u001b[0m\u001b[0;34m\u001b[0m\u001b[0m\n\u001b[0m",
      "\u001b[0;31mAttributeError\u001b[0m: 'AxesSubplot' object has no attribute 'fig'"
     ]
    },
    {
     "data": {
      "image/png": "[encoded data removed]",
      "text/plain": [
       "<Figure size 432x720 with 1 Axes>"
      ]
     },
     "metadata": {},
     "output_type": "display_data"
    }
   ],
   "source": [
    "ax = sns.countplot(x=\"destinazione\",  data=auto)\n",
    "ax.set_title(\"Tipo destinazione Autoveicoli\")\n",
    "ax.set_ylabel(\"Frequency\")\n",
    "\n",
    "ax.fig.get_axes()[0].set_yscale('log')"
   ]
  },
  {
   "cell_type": "code",
   "execution_count": 45,
   "metadata": {},
   "outputs": [
    {
     "ename": "AttributeError",
     "evalue": "'AxesSubplot' object has no attribute 'fig'",
     "output_type": "error",
     "traceback": [
      "\u001b[0;31m---------------------------------------------------------------------------\u001b[0m",
      "\u001b[0;31mAttributeError\u001b[0m                            Traceback (most recent call last)",
      "\u001b[0;32m<ipython-input-45-660cd52c470f>\u001b[0m in \u001b[0;36m<module>\u001b[0;34m()\u001b[0m\n\u001b[1;32m      2\u001b[0m \u001b[0max\u001b[0m\u001b[0;34m.\u001b[0m\u001b[0mset_title\u001b[0m\u001b[0;34m(\u001b[0m\u001b[0;34m\"Tipo destinazione Motoveicoli\"\u001b[0m\u001b[0;34m)\u001b[0m\u001b[0;34m\u001b[0m\u001b[0m\n\u001b[1;32m      3\u001b[0m \u001b[0max\u001b[0m\u001b[0;34m.\u001b[0m\u001b[0mset_ylabel\u001b[0m\u001b[0;34m(\u001b[0m\u001b[0;34m\"Frequency\"\u001b[0m\u001b[0;34m)\u001b[0m\u001b[0;34m\u001b[0m\u001b[0m\n\u001b[0;32m----> 4\u001b[0;31m \u001b[0max\u001b[0m\u001b[0;34m.\u001b[0m\u001b[0mfig\u001b[0m\u001b[0;34m.\u001b[0m\u001b[0mget_axes\u001b[0m\u001b[0;34m(\u001b[0m\u001b[0;34m)\u001b[0m\u001b[0;34m[\u001b[0m\u001b[0;36m0\u001b[0m\u001b[0;34m]\u001b[0m\u001b[0;34m.\u001b[0m\u001b[0mset_yscale\u001b[0m\u001b[0;34m(\u001b[0m\u001b[0;34m'log'\u001b[0m\u001b[0;34m)\u001b[0m\u001b[0;34m\u001b[0m\u001b[0m\n\u001b[0m",
      "\u001b[0;31mAttributeError\u001b[0m: 'AxesSubplot' object has no attribute 'fig'"
     ]
    },
    {
     "data": {
      "image/png": "[encoded data removed]",
      "text/plain": [
       "<Figure size 432x720 with 1 Axes>"
      ]
     },
     "metadata": {},
     "output_type": "display_data"
    }
   ],
   "source": [
    "ax = sns.countplot(x=\"destinazione\",  data=moto)\n",
    "ax.set_title(\"Tipo destinazione Motoveicoli\")\n",
    "ax.set_ylabel(\"Frequency\")\n",
    "ax.fig.get_axes()[0].set_yscale('log')"
   ]
  },
  {
   "cell_type": "markdown",
   "metadata": {},
   "source": [
    "### - uso \n",
    "\n",
    "Questa colonna contiene il tipo d'uso del veicolo. \n",
    "\n",
    "Per uso del veicolo s'intende la sua utilizzazione economica. I veicoli possono essere adibiti a uso proprio o a uso di terzi. \n",
    "- Proprio\n",
    "- Di terzi da noleggio con conducente\n",
    "- di terzi da locare senza conducente\n",
    "- Di terzi\n",
    "- Di terzi con autorizzazione vincolate\n",
    "- Di terzi con autorizzazione libera\n",
    "- Uso speciale"
   ]
  },
  {
   "cell_type": "code",
   "execution_count": 72,
   "metadata": {},
   "outputs": [
    {
     "name": "stdout",
     "output_type": "stream",
     "text": [
      "record nulli: 31043 - : 0.06% \n"
     ]
    }
   ],
   "source": [
    "print (\"record nulli: \"+ str(parco.uso.isnull().sum()) + \n",
    "       \" - : \"+ str(round((parco.uso.isnull().sum()/len(parco)*100),2))+ \"% \")"
   ]
  },
  {
   "cell_type": "code",
   "execution_count": 46,
   "metadata": {},
   "outputs": [
    {
     "data": {
      "text/plain": [
       "Text(0,0.5,'Frequency')"
      ]
     },
     "execution_count": 46,
     "metadata": {},
     "output_type": "execute_result"
    },
    {
     "data": {
      "image/png": "[encoded data removed]",
      "text/plain": [
       "<Figure size 432x720 with 1 Axes>"
      ]
     },
     "metadata": {},
     "output_type": "display_data"
    }
   ],
   "source": [
    "ax = sns.countplot(x=\"uso\",  data=auto)\n",
    "ax.set_title(\"Tipo USO Autoveicoli\")\n",
    "ax.set_ylabel(\"Frequency\")\n"
   ]
  },
  {
   "cell_type": "code",
   "execution_count": null,
   "metadata": {},
   "outputs": [],
   "source": [
    "ax = sns.countplot(x=\"uso\",  data=moto)\n",
    "ax.set_title(\"Tipo Uso Motoveicoli\")\n",
    "ax.set_ylabel(\"Frequency\")"
   ]
  },
  {
   "cell_type": "markdown",
   "metadata": {},
   "source": [
    "### - comune residenza \n",
    "\n",
    "Questa colonna contiene il comune dove risiede l'intestatario del veicolo"
   ]
  },
  {
   "cell_type": "code",
   "execution_count": 73,
   "metadata": {},
   "outputs": [
    {
     "name": "stdout",
     "output_type": "stream",
     "text": [
      "record nulli: 17731 - : 0.03% \n"
     ]
    }
   ],
   "source": [
    "print (\"record nulli: \"+ str(parco.comune_residenza.isnull().sum()) + \n",
    "       \" - : \"+ str(round((parco.comune_residenza.isnull().sum()/len(parco)*100),2))+ \"% \")"
   ]
  },
  {
   "cell_type": "markdown",
   "metadata": {},
   "source": [
    "### - provincia residenza\n",
    "\n",
    "Questa colonna contiene la provincia dove risiede l'intestatario del veicolo"
   ]
  },
  {
   "cell_type": "code",
   "execution_count": 74,
   "metadata": {},
   "outputs": [
    {
     "name": "stdout",
     "output_type": "stream",
     "text": [
      "record nulli: 0 - : 0.0% \n"
     ]
    }
   ],
   "source": [
    "print (\"record nulli: \"+ str(parco.provincia_residenza.isnull().sum()) + \n",
    "       \" - : \"+ str(round((parco.provincia_residenza.isnull().sum()/len(parco)*100),2))+ \"% \")"
   ]
  },
  {
   "cell_type": "markdown",
   "metadata": {},
   "source": [
    "### - età intestatario\n",
    "\n",
    "Questa colonna contiene l'età dell'intestatario del veicolo alla data di produzione del dataset"
   ]
  },
  {
   "cell_type": "code",
   "execution_count": 75,
   "metadata": {},
   "outputs": [
    {
     "name": "stdout",
     "output_type": "stream",
     "text": [
      "record nulli: 5852393 - : 11.22% \n"
     ]
    }
   ],
   "source": [
    "print (\"record nulli: \"+ str(parco.eta_intestatario.isnull().sum()) + \n",
    "       \" - : \"+ str(round((parco.eta_intestatario.isnull().sum()/len(parco)*100),2))+ \"% \")"
   ]
  },
  {
   "cell_type": "markdown",
   "metadata": {},
   "source": [
    "### - sesso\n",
    "\n",
    "Questa colonna contiene il sesso dell'intestatario del veicolo"
   ]
  },
  {
   "cell_type": "code",
   "execution_count": 76,
   "metadata": {},
   "outputs": [
    {
     "name": "stdout",
     "output_type": "stream",
     "text": [
      "record nulli: 6144681 - : 11.78% \n"
     ]
    }
   ],
   "source": [
    "print (\"record nulli: \"+ str(parco.sesso.isnull().sum()) + \n",
    "       \" - : \"+ str(round((parco.sesso.isnull().sum()/len(parco)*100),2))+ \"% \")"
   ]
  },
  {
   "cell_type": "markdown",
   "metadata": {},
   "source": [
    "### - marca\n",
    "\n",
    "Questa colonna contiene la marca del veicolo"
   ]
  },
  {
   "cell_type": "code",
   "execution_count": 77,
   "metadata": {},
   "outputs": [
    {
     "name": "stdout",
     "output_type": "stream",
     "text": [
      "record nulli: 2946408 - : 5.65% \n"
     ]
    }
   ],
   "source": [
    "print (\"record nulli: \"+ str(parco.marca.isnull().sum()) + \n",
    "       \" - : \"+ str(round((parco.marca.isnull().sum()/len(parco)*100),2))+ \"% \")"
   ]
  },
  {
   "cell_type": "code",
   "execution_count": 61,
   "metadata": {},
   "outputs": [
    {
     "data": {
      "text/plain": [
       "FIAT - INNOCENTI                                                11775799\n",
       "FORD                                                             3165904\n",
       "VOLKSWAGEN                                                       2970088\n",
       "OPEL                                                             2461750\n",
       "RENAULT                                                          2374495\n",
       "LANCIA - AUTOBIANCHI                                             1984163\n",
       "PEUGEOT                                                          1820632\n",
       "CITROEN                                                          1753210\n",
       "MERCEDES                                                         1710339\n",
       "TOYOTA                                                           1598468\n",
       "ALFA ROMEO                                                       1228028\n",
       "NISSAN                                                           1201664\n",
       "AUDI                                                             1149314\n",
       "IVECO - FIAT                                                      994697\n",
       "BMW                                                               990227\n",
       "HYUNDAI                                                           712793\n",
       "SMART                                                             560677\n",
       "SUZUKI                                                            554113\n",
       "CHEVROLET                                                         464975\n",
       "KIA                                                               435307\n",
       "SEAT                                                              433438\n",
       "CHRYSLER                                                          331630\n",
       "DACIA                                                             328074\n",
       "VOLVO                                                             327980\n",
       "MINI                                                              309537\n",
       "MITSUBISHI                                                        289260\n",
       "LAND ROVER                                                        280976\n",
       "SKODA                                                             238609\n",
       "HONDA                                                             224891\n",
       "MAZDA                                                             172919\n",
       "                                                                  ...   \n",
       "BUICK                                                                 89\n",
       "GOES                                                                  35\n",
       "MARUTI                                                                29\n",
       "MV AGUSTA - CAGIVA - HUSQVARNA                                        16\n",
       "ELLEBI                                                                16\n",
       "CARGOBULL                                                             13\n",
       "DE TOMASO                                                             13\n",
       "CAMPER MONOSCOCCA S.R.L.                                              13\n",
       "LANCIA - AUTOBIANCHI                                                  12\n",
       "KAWASAKI                                                              12\n",
       "KTM                                                                   12\n",
       "MALAGUTI                                                              10\n",
       "SEA                                                                    8\n",
       "AUTOSAN                                                                7\n",
       "MICROCAR                                                               7\n",
       "KYMCO                                                                  7\n",
       "PIACENZA                                                               4\n",
       "ADRIA MOBIL                                                            4\n",
       "BENELLI                                                                3\n",
       "AIXAM MEGA                                                             3\n",
       "PIACENZA                                                               2\n",
       "DRESEL MOTORCYCLETRADING GMBH & CO.KG                                  2\n",
       "TRIUMPH                                                                2\n",
       "BIGA'                                                                  2\n",
       "FIAT - INNOCENTI                                                       1\n",
       "BIMOTA                                                                 1\n",
       "MAGGIORA                                                               1\n",
       "LML ITALIA                                                             1\n",
       "TRIGANO                                                                1\n",
       "INDUSTRIE RIMORCHI VERONA                                              1\n",
       "Name: marca, Length: 108, dtype: int64"
      ]
     },
     "execution_count": 61,
     "metadata": {},
     "output_type": "execute_result"
    }
   ],
   "source": [
    "auto.marca.value_counts()"
   ]
  },
  {
   "cell_type": "code",
   "execution_count": 86,
   "metadata": {},
   "outputs": [
    {
     "data": {
      "text/plain": [
       "HONDA                                                           1107928\n",
       "PIAGGIO                                                         1002628\n",
       "YAMAHA                                                           696322\n",
       "KYMCO                                                            391694\n",
       "APRILIA                                                          356122\n",
       "SUZUKI                                                           333506\n",
       "BMW                                                              219144\n",
       "DUCATI                                                           168795\n",
       "KAWASAKI                                                         140434\n",
       "HARLEY-DAVIDSON                                                  112122\n",
       "MALAGUTI                                                         101891\n",
       "MBK                                                               88404\n",
       "KTM                                                               85948\n",
       "SANYANG                                                           76565\n",
       "PEUGEOT                                                           64505\n",
       "TRIUMPH                                                           61185\n",
       "OPEL                                                              57885\n",
       "MV AGUSTA - CAGIVA - HUSQVARNA                                    46035\n",
       "MOTO GUZZI                                                        36081\n",
       "BETA                                                              30422\n",
       "LML ITALIA                                                        29660\n",
       "FIAT - INNOCENTI                                                  15895\n",
       "BENELLI                                                           15192\n",
       "HM MOTO                                                           13421\n",
       "SHERCO                                                            10939\n",
       "IVECO - FIAT                                                      10834\n",
       "RENAULT                                                           10556\n",
       "BOXER S.R.L.                                                       9867\n",
       "DERBI                                                              8485\n",
       "GAS GAS                                                            7945\n",
       "                                                                 ...   \n",
       "MORGAN MOTOR                                                         26\n",
       "SEAT                                                                 24\n",
       "TRIGANO                                                              21\n",
       "BOVA                                                                 17\n",
       "JAGUAR                                                               13\n",
       "TIEMME RIMORCHI S.R.L.                                               10\n",
       "VOLVO                                                                10\n",
       "MAURI BUS                                                            10\n",
       "MAHINDRA                                                              8\n",
       "VOLKSWAGEN                                                            6\n",
       "INDUSTRIE RIMORCHI VERONA                                             5\n",
       "LANCIA - AUTOBIANCHI                                                  5\n",
       "DE TOMASO                                                             5\n",
       "GIOTTI VICTORIA                                                       5\n",
       "SUBARU                                                                4\n",
       "GONOW                                                                 4\n",
       "MENARINI                                                              4\n",
       "FERRARI                                                               4\n",
       "PONTIAC                                                               3\n",
       "DUCATI ENERGIA                                                        3\n",
       "PIACENZA                                                              2\n",
       "MOBILVETTA                                                            2\n",
       "ASTRA VEICOLI INDUSTRIALI                                             2\n",
       "BIGA'                                                                 1\n",
       "LOTUS                                                                 1\n",
       "SMART                                                                 1\n",
       "FIAT - INNOCENTI                                                      1\n",
       "SEA                                                                   1\n",
       "ROLLS ROYCE                                                           1\n",
       "ELLEBI                                                                1\n",
       "Name: marca, Length: 122, dtype: int64"
      ]
     },
     "execution_count": 86,
     "metadata": {},
     "output_type": "execute_result"
    }
   ],
   "source": [
    "moto.marca.value_counts()"
   ]
  },
  {
   "cell_type": "markdown",
   "metadata": {},
   "source": [
    "### - cilindrata\n",
    "\n",
    "Questa colonna contiene la cilindrata del veicolo misurata in centimetro cubo (cm3)."
   ]
  },
  {
   "cell_type": "code",
   "execution_count": 78,
   "metadata": {},
   "outputs": [
    {
     "name": "stdout",
     "output_type": "stream",
     "text": [
      "record nulli: 69755 - : 0.13% \n"
     ]
    }
   ],
   "source": [
    "print (\"record nulli: \"+ str(parco.cilindrata.isnull().sum()) + \n",
    "       \" - : \"+ str(round((parco.cilindrata.isnull().sum()/len(parco)*100),2))+ \"% \")"
   ]
  },
  {
   "cell_type": "markdown",
   "metadata": {},
   "source": [
    "### - alimentazione\n",
    "\n",
    "Questa colonna contiene l'alimentazione del motore del veicolo, ossia il tipo di combustibile \n",
    "- GASOLIO/METANO\n",
    "- GASOLIO/GPL\n",
    "- BENZINA\n",
    "- BENZINA/OLIO\n",
    "- BENZINA/WANK\n",
    "- ELETTRICA\n",
    "- GASOLIO\n",
    "- GPL\n",
    "- BENZINA/GPL\n",
    "- BENZINA/METANO\n",
    "- METANO\n",
    "- MISCELA\n",
    "- PETROLIO\n",
    "- IBRIDO BENZINA/ELETTRICO\n",
    "- IBRIDO GASOLIO/ELETTRICO\n",
    "- BENZINA/ETANOLO"
   ]
  },
  {
   "cell_type": "code",
   "execution_count": 79,
   "metadata": {},
   "outputs": [
    {
     "name": "stdout",
     "output_type": "stream",
     "text": [
      "record nulli: 48578 - : 0.09% \n"
     ]
    }
   ],
   "source": [
    "print (\"record nulli: \"+ str(parco.alimentazione.isnull().sum()) + \n",
    "       \" - : \"+ str(round((parco.alimentazione.isnull().sum()/len(parco)*100),2))+ \"% \")"
   ]
  },
  {
   "cell_type": "markdown",
   "metadata": {},
   "source": [
    "### - data immatricolazione\n",
    "\n",
    "Questa colonna contiene la data di immatricolazione del veicolo"
   ]
  },
  {
   "cell_type": "code",
   "execution_count": 80,
   "metadata": {},
   "outputs": [
    {
     "name": "stdout",
     "output_type": "stream",
     "text": [
      "record nulli: 134237 - : 0.26% \n"
     ]
    }
   ],
   "source": [
    "print (\"record nulli: \"+ str(parco.data_immatricolazione.isnull().sum()) + \n",
    "       \" - : \"+ str(round((parco.data_immatricolazione.isnull().sum()/len(parco)*100),2))+ \"% \")"
   ]
  },
  {
   "cell_type": "code",
   "execution_count": null,
   "metadata": {},
   "outputs": [],
   "source": [
    "#SEt data immatricolazione as index\n",
    "auto = auto.set_index('data_immatricolazione')"
   ]
  },
  {
   "cell_type": "code",
   "execution_count": 37,
   "metadata": {},
   "outputs": [],
   "source": [
    "# ci sono delle stagionalità sulle immatricolazioni?\n",
    "monthly = auto.resample(rule='M').count()"
   ]
  },
  {
   "cell_type": "markdown",
   "metadata": {},
   "source": [
    "### - classe euro\n",
    "\n",
    "Questa colonna contiene la classe ambientale di appartenenza (categoria Euro) di autoveicoli:\n",
    "\n",
    "- pre-Euro 1, Euro 1, Euro 2, Euro 3, Euro 4, Euro 5, Euro 6\n",
    "\n",
    "e motoveicoli \n",
    "- pre-Euro 1, Euro 1, Euro 2, Euro 3\n",
    "\n",
    "definita dalle direttive europee rispettate nell'anno di produzione e che è riportata nel libretto di circolazione."
   ]
  },
  {
   "cell_type": "code",
   "execution_count": 81,
   "metadata": {},
   "outputs": [
    {
     "name": "stdout",
     "output_type": "stream",
     "text": [
      "record nulli: 14 - : 0.0% \n"
     ]
    }
   ],
   "source": [
    "print (\"record nulli: \"+ str(parco.classe_euro.isnull().sum()) + \n",
    "       \" - : \"+ str(round((parco.classe_euro.isnull().sum()/len(parco)*100),2))+ \"% \")"
   ]
  },
  {
   "cell_type": "markdown",
   "metadata": {},
   "source": [
    "### - emissioni co2\n",
    "\n",
    "Questa colonna contiene l’emissione CO2 del veicolo misurate in g/km ossia grammi al chilometro."
   ]
  },
  {
   "cell_type": "code",
   "execution_count": 82,
   "metadata": {},
   "outputs": [
    {
     "name": "stdout",
     "output_type": "stream",
     "text": [
      "record nulli: 18866494 - : 36.17% \n"
     ]
    }
   ],
   "source": [
    "print (\"record nulli: \"+ str(parco.emissioni_co2.isnull().sum()) + \n",
    "       \" - : \"+ str(round((parco.emissioni_co2.isnull().sum()/len(parco)*100),2))+ \"% \")"
   ]
  },
  {
   "cell_type": "markdown",
   "metadata": {},
   "source": [
    "### - massa complessiva\n",
    "\n",
    "Questa colonna contiene la massa complessiva del veicolo misurata attraverso il suo peso in chilogrammi (Kg). \n",
    "\n",
    "Si definisce massa complessiva la massa del veicolo in ordine di marcia (tara) più tutto il suo carico (portata)."
   ]
  },
  {
   "cell_type": "code",
   "execution_count": 83,
   "metadata": {},
   "outputs": [
    {
     "name": "stdout",
     "output_type": "stream",
     "text": [
      "record nulli: 258589 - : 0.5% \n"
     ]
    }
   ],
   "source": [
    "print (\"record nulli: \"+ str(parco.massa_complessiva.isnull().sum()) + \n",
    "       \" - : \"+ str(round((parco.massa_complessiva.isnull().sum()/len(parco)*100),2))+ \"% \")"
   ]
  },
  {
   "cell_type": "markdown",
   "metadata": {},
   "source": [
    "### - revisone in regola s/n\n",
    "\n",
    "Questa colonna contiene lo stato dell'obbligo di revisione del veicolo (S= SI, N=NO) ai fini della circolazione."
   ]
  },
  {
   "cell_type": "code",
   "execution_count": 84,
   "metadata": {},
   "outputs": [
    {
     "name": "stdout",
     "output_type": "stream",
     "text": [
      "record nulli: 0 - : 0.0% \n"
     ]
    }
   ],
   "source": [
    "print (\"record nulli: \"+ str(parco.revisione_in_regola.isnull().sum()) + \n",
    "       \" - : \"+ str(round((parco.revisione_in_regola.isnull().sum()/len(parco)*100),2))+ \"% \")"
   ]
  },
  {
   "cell_type": "markdown",
   "metadata": {},
   "source": [
    "### - assicurazione in regola s/n\n",
    "\n",
    "Questa colonna contiene lo stato dell'obbligo dell'assicurazione del veicolo (S= SI, N=NO) ai fini della circolazione."
   ]
  },
  {
   "cell_type": "code",
   "execution_count": 85,
   "metadata": {},
   "outputs": [
    {
     "name": "stdout",
     "output_type": "stream",
     "text": [
      "record nulli: 0 - : 0.0% \n"
     ]
    }
   ],
   "source": [
    "print (\"record nulli: \"+ str(parco.assicurazione_in_regola.isnull().sum()) + \n",
    "       \" - : \"+ str(round((parco.assicurazione_in_regola.isnull().sum()/len(parco)*100),2))+ \"% \")"
   ]
  },
  {
   "cell_type": "code",
   "execution_count": 16,
   "metadata": {},
   "outputs": [
    {
     "data": {
      "text/plain": [
       "count    4.631280e+07\n",
       "mean     5.372625e+01\n",
       "std      1.463911e+01\n",
       "min      0.000000e+00\n",
       "25%      4.300000e+01\n",
       "50%      5.300000e+01\n",
       "75%      6.400000e+01\n",
       "max      2.017000e+03\n",
       "Name: eta_intestatario, dtype: float64"
      ]
     },
     "execution_count": 16,
     "metadata": {},
     "output_type": "execute_result"
    }
   ],
   "source": [
    "auto['eta_intestatario'].describe()"
   ]
  },
  {
   "cell_type": "code",
   "execution_count": null,
   "metadata": {},
   "outputs": [],
   "source": []
  },
  {
   "cell_type": "code",
   "execution_count": null,
   "metadata": {},
   "outputs": [],
   "source": []
  },
  {
   "cell_type": "code",
   "execution_count": 43,
   "metadata": {},
   "outputs": [
    {
     "name": "stdout",
     "output_type": "stream",
     "text": [
      "total  0.0006182193756103516\n"
     ]
    }
   ],
   "source": [
    "from time import time\n",
    "t = time()\n",
    "auto.head()\n",
    "final = time() - t\n",
    "print(\"total \", final)"
   ]
  },
  {
   "cell_type": "code",
   "execution_count": 46,
   "metadata": {},
   "outputs": [],
   "source": [
    "auto = parco[parco.tipo_veicolo=='A']"
   ]
  },
  {
   "cell_type": "code",
   "execution_count": 47,
   "metadata": {},
   "outputs": [
    {
     "data": {
      "text/plain": [
       "44961663"
      ]
     },
     "execution_count": 47,
     "metadata": {},
     "output_type": "execute_result"
    }
   ],
   "source": [
    "len(auto)"
   ]
  },
  {
   "cell_type": "markdown",
   "metadata": {},
   "source": [
    "Sono 44.961.663 gli autoveicoli immatricolati nel nostro paese al 31 ottobre 2017.\n",
    "Considerando che la popolazione italiana si stima essere 60.905.976 abitanti (al 21 ottobre 2016), "
   ]
  },
  {
   "cell_type": "code",
   "execution_count": 48,
   "metadata": {},
   "outputs": [
    {
     "data": {
      "image/png": "[encoded data removed]",
      "text/plain": [
       "<Figure size 432x288 with 1 Axes>"
      ]
     },
     "metadata": {},
     "output_type": "display_data"
    }
   ],
   "source": [
    "#Generate histograms \n",
    "\n",
    "auto.eta_intestatario.hist(bins=200)\n",
    "plt.xlabel('tipo veicolo')\n",
    "plt.ylabel('Frequency')\n",
    "plt.title('Number of cars - tipo veicolo');\n",
    "\n",
    "plt.show();"
   ]
  },
  {
   "cell_type": "code",
   "execution_count": 60,
   "metadata": {},
   "outputs": [
    {
     "data": {
      "text/plain": [
       "PROPRIO                                  43152207\n",
       "DI TERZI DA LOCARE SENZA CONDUC.          1150721\n",
       "DI TERZI CON AUTORIZZAZIONE LIBERA         279608\n",
       "DI TERZI CON AUTORIZZAZIONI VINCOLATE      212676\n",
       "DI TERZI                                    80883\n",
       "DI TERZI DA NOLEGGIO CON CONDUC.            58698\n",
       "USO SPECIALE                                 4277\n",
       "PRIV.,LOCAZIONE FAC. COMPERA                    4\n",
       "Name: uso, dtype: int64"
      ]
     },
     "execution_count": 60,
     "metadata": {},
     "output_type": "execute_result"
    }
   ],
   "source": [
    "auto.uso.value_counts()"
   ]
  },
  {
   "cell_type": "code",
   "execution_count": 52,
   "metadata": {},
   "outputs": [],
   "source": [
    "tesla = parco[parco.marca==\"TESLA MOTORS\"]"
   ]
  },
  {
   "cell_type": "code",
   "execution_count": 54,
   "metadata": {},
   "outputs": [
    {
     "data": {
      "text/plain": [
       "648"
      ]
     },
     "execution_count": 54,
     "metadata": {},
     "output_type": "execute_result"
    }
   ],
   "source": [
    "len(tesla)"
   ]
  },
  {
   "cell_type": "code",
   "execution_count": null,
   "metadata": {},
   "outputs": [],
   "source": [
    "auto_green = "
   ]
  },
  {
   "cell_type": "code",
   "execution_count": null,
   "metadata": {},
   "outputs": [],
   "source": [
    "parco.sesso.value_counts()"
   ]
  },
  {
   "cell_type": "code",
   "execution_count": 5,
   "metadata": {},
   "outputs": [
    {
     "data": {
      "text/plain": [
       "LOMBARDIA                8214282\n",
       "LAZIO                    5341091\n",
       "CAMPANIA                 4591254\n",
       "SICILIA                  4487250\n",
       "VENETO                   4052513\n",
       "EMILIA-ROMAGNA           3859415\n",
       "PIEMONTE                 3858373\n",
       "TOSCANA                  3499371\n",
       "PUGLIA                   3050018\n",
       "CALABRIA                 1631868\n",
       "TRENTINO-ALTO-ADIGE      1397194\n",
       "LIGURIA                  1383184\n",
       "MARCHE                   1379921\n",
       "SARDEGNA                 1363193\n",
       "ABRUZZO                  1170438\n",
       "FRIULI-VENEZIA_GIULIA    1042494\n",
       "UMBRIA                    824464\n",
       "BASILICATA                476862\n",
       "MOLISE                    289473\n",
       "VALLE-D'AOSTA             252531\n",
       "Name: regione_residenza, dtype: int64"
      ]
     },
     "execution_count": 5,
     "metadata": {},
     "output_type": "execute_result"
    }
   ],
   "source": [
    "parco.regione_residenza.value_counts()"
   ]
  },
  {
   "cell_type": "code",
   "execution_count": null,
   "metadata": {},
   "outputs": [],
   "source": [
    "parco.destinazione.value_counts()"
   ]
  },
  {
   "cell_type": "markdown",
   "metadata": {},
   "source": [
    "### Campi di interesse Parco Macchine: \n",
    "\n",
    "- revisione_in_regola, \n",
    "\n",
    "- assicurazione_in_regola      "
   ]
  },
  {
   "cell_type": "code",
   "execution_count": 4,
   "metadata": {},
   "outputs": [
    {
     "data": {
      "text/plain": [
       "S    39096194\n",
       "N    13068995\n",
       "Name: revisione_in_regola, dtype: int64"
      ]
     },
     "execution_count": 4,
     "metadata": {},
     "output_type": "execute_result"
    }
   ],
   "source": [
    "parco.revisione_in_regola.value_counts()"
   ]
  },
  {
   "cell_type": "code",
   "execution_count": 3,
   "metadata": {},
   "outputs": [
    {
     "data": {
      "text/plain": [
       "S    38151309\n",
       "N    14013880\n",
       "Name: assicurazione_in_regola, dtype: int64"
      ]
     },
     "execution_count": 3,
     "metadata": {},
     "output_type": "execute_result"
    }
   ],
   "source": [
    "parco.assicurazione_in_regola.value_counts()"
   ]
  },
  {
   "cell_type": "code",
   "execution_count": null,
   "metadata": {},
   "outputs": [],
   "source": [
    "##\n",
    "- Dove si trovano le auto con le revisioni da effettuare?\n",
    "- Dove si trovano le auto con l'assicurazione da affettuare?\n",
    "- Fare normalizzazione tra abitanti e veicoli\n",
    "- vedere quali sono le regioni più inquinanti rapporttate con abitanti?"
   ]
  },
  {
   "cell_type": "markdown",
   "metadata": {},
   "source": [
    "## Part 3 - Focus Auto ecologiche\n",
    "\n",
    "#### Strip campo \"alimentazione\""
   ]
  },
  {
   "cell_type": "code",
   "execution_count": 10,
   "metadata": {},
   "outputs": [],
   "source": [
    "parco.alimentazione = parco.alimentazione.str.strip()"
   ]
  },
  {
   "cell_type": "markdown",
   "metadata": {},
   "source": [
    "#### Definisco i valori del campo alimentazioni classificati come auto \"ecologiche\""
   ]
  },
  {
   "cell_type": "code",
   "execution_count": 10,
   "metadata": {},
   "outputs": [],
   "source": [
    "eco_labels = ['METANO',\n",
    "              'ELETTR',\n",
    "              'GPL',\n",
    "              'B/GPL',\n",
    "              'B/MET',\n",
    "              'IBRIDO BENZINA/ELETTRICO',\n",
    "              'IBRIDO GASOLIO/ELETTRICO']"
   ]
  },
  {
   "cell_type": "markdown",
   "metadata": {},
   "source": [
    "#### ECO = dataframe con sottoinsieme di parco macchine eco\n",
    "##### Seziono su eco_labels l'interno parco macchine, comprensivo sia di autoveicoli che motoveicoli\n",
    "\n",
    "(A = Autoveicolo, M = Motoveicolo)"
   ]
  },
  {
   "cell_type": "code",
   "execution_count": 11,
   "metadata": {},
   "outputs": [],
   "source": [
    "eco = parco.loc[parco['alimentazione'].isin(eco_labels)]"
   ]
  },
  {
   "cell_type": "code",
   "execution_count": 12,
   "metadata": {},
   "outputs": [
    {
     "name": "stdout",
     "output_type": "stream",
     "text": [
      "52165189 Veicoli totali - 4259274 Veicoli ECOlogici\n"
     ]
    }
   ],
   "source": [
    "print (str(len(parco))+ \" Veicoli totali - \" +str(len(eco)) +\" Veicoli ECOlogici\")"
   ]
  },
  {
   "cell_type": "code",
   "execution_count": 13,
   "metadata": {},
   "outputs": [
    {
     "data": {
      "text/plain": [
       "A    4247580\n",
       "M      11694\n",
       "Name: tipo_veicolo, dtype: int64"
      ]
     },
     "execution_count": 13,
     "metadata": {},
     "output_type": "execute_result"
    }
   ],
   "source": [
    "eco.tipo_veicolo.value_counts()"
   ]
  },
  {
   "cell_type": "code",
   "execution_count": null,
   "metadata": {},
   "outputs": [],
   "source": [
    "\"Percentuale autoveicoli ecologici: \" +str(round(len(eco)/len(parco)*100,2))"
   ]
  },
  {
   "cell_type": "code",
   "execution_count": 14,
   "metadata": {},
   "outputs": [
    {
     "data": {
      "text/plain": [
       "B/GPL                       2961127\n",
       "B/MET                        991461\n",
       "IBRIDO BENZINA/ELETTRICO     171181\n",
       "METANO                       108573\n",
       "ELETTR                        22332\n",
       "IBRIDO GASOLIO/ELETTRICO       3778\n",
       "GPL                             822\n",
       "Name: alimentazione, dtype: int64"
      ]
     },
     "execution_count": 14,
     "metadata": {},
     "output_type": "execute_result"
    }
   ],
   "source": [
    "eco.alimentazione.value_counts()"
   ]
  },
  {
   "cell_type": "code",
   "execution_count": 15,
   "metadata": {},
   "outputs": [
    {
     "data": {
      "text/html": [
       "<div>\n",
       "<style scoped>\n",
       "    .dataframe tbody tr th:only-of-type {\n",
       "        vertical-align: middle;\n",
       "    }\n",
       "\n",
       "    .dataframe tbody tr th {\n",
       "        vertical-align: top;\n",
       "    }\n",
       "\n",
       "    .dataframe thead th {\n",
       "        text-align: right;\n",
       "    }\n",
       "</style>\n",
       "<table border=\"1\" class=\"dataframe\">\n",
       "  <thead>\n",
       "    <tr style=\"text-align: right;\">\n",
       "      <th></th>\n",
       "      <th>id</th>\n",
       "      <th>progressivo</th>\n",
       "      <th>tipo_veicolo</th>\n",
       "      <th>destinazione</th>\n",
       "      <th>uso</th>\n",
       "      <th>comune_residenza</th>\n",
       "      <th>provincia_residenza</th>\n",
       "      <th>regione_residenza</th>\n",
       "      <th>eta_intestatario</th>\n",
       "      <th>sesso</th>\n",
       "      <th>marca</th>\n",
       "      <th>cilindrata</th>\n",
       "      <th>alimentazione</th>\n",
       "      <th>kw</th>\n",
       "      <th>data_immatricolazione</th>\n",
       "      <th>classe_euro</th>\n",
       "      <th>emissioni_co2</th>\n",
       "      <th>massa_complessiva</th>\n",
       "      <th>revisione_in_regola</th>\n",
       "      <th>assicurazione_in_regola</th>\n",
       "    </tr>\n",
       "  </thead>\n",
       "  <tbody>\n",
       "    <tr>\n",
       "      <th>7</th>\n",
       "      <td>1647844</td>\n",
       "      <td>4927106</td>\n",
       "      <td>A</td>\n",
       "      <td>AUTOCARAVAN</td>\n",
       "      <td>PROPRIO</td>\n",
       "      <td>PALIZZI</td>\n",
       "      <td>REGGIO DI CALABRIA</td>\n",
       "      <td>CALABRIA</td>\n",
       "      <td>62.000</td>\n",
       "      <td>M</td>\n",
       "      <td>FORD</td>\n",
       "      <td>1993.00</td>\n",
       "      <td>B/GPL</td>\n",
       "      <td>55.000</td>\n",
       "      <td>1992-02-18 00:00:00</td>\n",
       "      <td>0.000</td>\n",
       "      <td>NaN</td>\n",
       "      <td>2390.000</td>\n",
       "      <td>N</td>\n",
       "      <td>S</td>\n",
       "    </tr>\n",
       "    <tr>\n",
       "      <th>84</th>\n",
       "      <td>1647309</td>\n",
       "      <td>82688</td>\n",
       "      <td>A</td>\n",
       "      <td>AUTOVETTURA PER TRASPORTO DI PERSONE</td>\n",
       "      <td>PROPRIO</td>\n",
       "      <td>CASALI DEL MANCO</td>\n",
       "      <td>COSENZA</td>\n",
       "      <td>CALABRIA</td>\n",
       "      <td>42.000</td>\n",
       "      <td>M</td>\n",
       "      <td>FIAT - INNOCENTI</td>\n",
       "      <td>1596.00</td>\n",
       "      <td>B/MET</td>\n",
       "      <td>76.000</td>\n",
       "      <td>2001-02-28 00:00:00</td>\n",
       "      <td>3.000</td>\n",
       "      <td>214</td>\n",
       "      <td>2050.000</td>\n",
       "      <td>N</td>\n",
       "      <td>N</td>\n",
       "    </tr>\n",
       "    <tr>\n",
       "      <th>175</th>\n",
       "      <td>1647404</td>\n",
       "      <td>1631179</td>\n",
       "      <td>A</td>\n",
       "      <td>AUTOVETTURA PER TRASPORTO DI PERSONE</td>\n",
       "      <td>PROPRIO</td>\n",
       "      <td>DIAMANTE</td>\n",
       "      <td>COSENZA</td>\n",
       "      <td>CALABRIA</td>\n",
       "      <td>89.000</td>\n",
       "      <td>F</td>\n",
       "      <td>CHEVROLET</td>\n",
       "      <td>1399.00</td>\n",
       "      <td>B/GPL</td>\n",
       "      <td>61.000</td>\n",
       "      <td>2005-10-28 00:00:00</td>\n",
       "      <td>3.000</td>\n",
       "      <td>175</td>\n",
       "      <td>1500.000</td>\n",
       "      <td>N</td>\n",
       "      <td>N</td>\n",
       "    </tr>\n",
       "    <tr>\n",
       "      <th>193</th>\n",
       "      <td>1647422</td>\n",
       "      <td>1779267</td>\n",
       "      <td>A</td>\n",
       "      <td>AUTOVETTURA PER TRASPORTO DI PERSONE</td>\n",
       "      <td>PROPRIO</td>\n",
       "      <td>COSENZA</td>\n",
       "      <td>COSENZA</td>\n",
       "      <td>CALABRIA</td>\n",
       "      <td>39.000</td>\n",
       "      <td>M</td>\n",
       "      <td>MAZDA</td>\n",
       "      <td>2967.00</td>\n",
       "      <td>B/GPL</td>\n",
       "      <td>145.000</td>\n",
       "      <td>2001-10-25 00:00:00</td>\n",
       "      <td>3.000</td>\n",
       "      <td>305</td>\n",
       "      <td>2075.000</td>\n",
       "      <td>N</td>\n",
       "      <td>N</td>\n",
       "    </tr>\n",
       "    <tr>\n",
       "      <th>209</th>\n",
       "      <td>1647438</td>\n",
       "      <td>1989672</td>\n",
       "      <td>A</td>\n",
       "      <td>AUTOVETTURA PER TRASPORTO DI PERSONE</td>\n",
       "      <td>PROPRIO</td>\n",
       "      <td>ACRI</td>\n",
       "      <td>COSENZA</td>\n",
       "      <td>CALABRIA</td>\n",
       "      <td>26.000</td>\n",
       "      <td>M</td>\n",
       "      <td>ALFA ROMEO</td>\n",
       "      <td>1368.00</td>\n",
       "      <td>B/GPL</td>\n",
       "      <td>88.000</td>\n",
       "      <td>2015-09-28 00:00:00</td>\n",
       "      <td>6.000</td>\n",
       "      <td>133</td>\n",
       "      <td>1820.000</td>\n",
       "      <td>S</td>\n",
       "      <td>S</td>\n",
       "    </tr>\n",
       "  </tbody>\n",
       "</table>\n",
       "</div>"
      ],
      "text/plain": [
       "          id  progressivo tipo_veicolo                          destinazione      uso  comune_residenza provincia_residenza regione_residenza  eta_intestatario sesso             marca cilindrata alimentazione      kw data_immatricolazione  classe_euro emissioni_co2  massa_complessiva revisione_in_regola assicurazione_in_regola\n",
       "7    1647844      4927106            A                           AUTOCARAVAN  PROPRIO           PALIZZI  REGGIO DI CALABRIA          CALABRIA            62.000     M              FORD    1993.00         B/GPL  55.000   1992-02-18 00:00:00        0.000           NaN           2390.000                   N                       S\n",
       "84   1647309        82688            A  AUTOVETTURA PER TRASPORTO DI PERSONE  PROPRIO  CASALI DEL MANCO             COSENZA          CALABRIA            42.000     M  FIAT - INNOCENTI    1596.00         B/MET  76.000   2001-02-28 00:00:00        3.000           214           2050.000                   N                       N\n",
       "175  1647404      1631179            A  AUTOVETTURA PER TRASPORTO DI PERSONE  PROPRIO          DIAMANTE             COSENZA          CALABRIA            89.000     F         CHEVROLET    1399.00         B/GPL  61.000   2005-10-28 00:00:00        3.000           175           1500.000                   N                       N\n",
       "193  1647422      1779267            A  AUTOVETTURA PER TRASPORTO DI PERSONE  PROPRIO           COSENZA             COSENZA          CALABRIA            39.000     M             MAZDA    2967.00         B/GPL 145.000   2001-10-25 00:00:00        3.000           305           2075.000                   N                       N\n",
       "209  1647438      1989672            A  AUTOVETTURA PER TRASPORTO DI PERSONE  PROPRIO              ACRI             COSENZA          CALABRIA            26.000     M        ALFA ROMEO    1368.00         B/GPL  88.000   2015-09-28 00:00:00        6.000           133           1820.000                   S                       S"
      ]
     },
     "execution_count": 15,
     "metadata": {},
     "output_type": "execute_result"
    }
   ],
   "source": [
    "eco.head(5)"
   ]
  },
  {
   "cell_type": "markdown",
   "metadata": {},
   "source": [
    "#### Rimuovo la colonna progressivo e id che non ci servono\n",
    "\n",
    "*progressivo* = Questa colonna contiene il numero progressivo del veicolo come record nel dataset"
   ]
  },
  {
   "cell_type": "code",
   "execution_count": 19,
   "metadata": {},
   "outputs": [],
   "source": [
    "eco = eco.drop('progressivo', axis=1)"
   ]
  },
  {
   "cell_type": "code",
   "execution_count": 21,
   "metadata": {},
   "outputs": [],
   "source": [
    "eco = eco.drop('id', axis=1)"
   ]
  },
  {
   "cell_type": "code",
   "execution_count": 22,
   "metadata": {},
   "outputs": [
    {
     "data": {
      "text/html": [
       "<div>\n",
       "<style scoped>\n",
       "    .dataframe tbody tr th:only-of-type {\n",
       "        vertical-align: middle;\n",
       "    }\n",
       "\n",
       "    .dataframe tbody tr th {\n",
       "        vertical-align: top;\n",
       "    }\n",
       "\n",
       "    .dataframe thead th {\n",
       "        text-align: right;\n",
       "    }\n",
       "</style>\n",
       "<table border=\"1\" class=\"dataframe\">\n",
       "  <thead>\n",
       "    <tr style=\"text-align: right;\">\n",
       "      <th></th>\n",
       "      <th>tipo_veicolo</th>\n",
       "      <th>destinazione</th>\n",
       "      <th>uso</th>\n",
       "      <th>comune_residenza</th>\n",
       "      <th>provincia_residenza</th>\n",
       "      <th>regione_residenza</th>\n",
       "      <th>eta_intestatario</th>\n",
       "      <th>sesso</th>\n",
       "      <th>marca</th>\n",
       "      <th>cilindrata</th>\n",
       "      <th>alimentazione</th>\n",
       "      <th>kw</th>\n",
       "      <th>data_immatricolazione</th>\n",
       "      <th>classe_euro</th>\n",
       "      <th>emissioni_co2</th>\n",
       "      <th>massa_complessiva</th>\n",
       "      <th>revisione_in_regola</th>\n",
       "      <th>assicurazione_in_regola</th>\n",
       "    </tr>\n",
       "  </thead>\n",
       "  <tbody>\n",
       "    <tr>\n",
       "      <th>7</th>\n",
       "      <td>A</td>\n",
       "      <td>AUTOCARAVAN</td>\n",
       "      <td>PROPRIO</td>\n",
       "      <td>PALIZZI</td>\n",
       "      <td>REGGIO DI CALABRIA</td>\n",
       "      <td>CALABRIA</td>\n",
       "      <td>62.000</td>\n",
       "      <td>M</td>\n",
       "      <td>FORD</td>\n",
       "      <td>1993.00</td>\n",
       "      <td>B/GPL</td>\n",
       "      <td>55.000</td>\n",
       "      <td>1992-02-18 00:00:00</td>\n",
       "      <td>0.000</td>\n",
       "      <td>NaN</td>\n",
       "      <td>2390.000</td>\n",
       "      <td>N</td>\n",
       "      <td>S</td>\n",
       "    </tr>\n",
       "    <tr>\n",
       "      <th>84</th>\n",
       "      <td>A</td>\n",
       "      <td>AUTOVETTURA PER TRASPORTO DI PERSONE</td>\n",
       "      <td>PROPRIO</td>\n",
       "      <td>CASALI DEL MANCO</td>\n",
       "      <td>COSENZA</td>\n",
       "      <td>CALABRIA</td>\n",
       "      <td>42.000</td>\n",
       "      <td>M</td>\n",
       "      <td>FIAT - INNOCENTI</td>\n",
       "      <td>1596.00</td>\n",
       "      <td>B/MET</td>\n",
       "      <td>76.000</td>\n",
       "      <td>2001-02-28 00:00:00</td>\n",
       "      <td>3.000</td>\n",
       "      <td>214</td>\n",
       "      <td>2050.000</td>\n",
       "      <td>N</td>\n",
       "      <td>N</td>\n",
       "    </tr>\n",
       "    <tr>\n",
       "      <th>175</th>\n",
       "      <td>A</td>\n",
       "      <td>AUTOVETTURA PER TRASPORTO DI PERSONE</td>\n",
       "      <td>PROPRIO</td>\n",
       "      <td>DIAMANTE</td>\n",
       "      <td>COSENZA</td>\n",
       "      <td>CALABRIA</td>\n",
       "      <td>89.000</td>\n",
       "      <td>F</td>\n",
       "      <td>CHEVROLET</td>\n",
       "      <td>1399.00</td>\n",
       "      <td>B/GPL</td>\n",
       "      <td>61.000</td>\n",
       "      <td>2005-10-28 00:00:00</td>\n",
       "      <td>3.000</td>\n",
       "      <td>175</td>\n",
       "      <td>1500.000</td>\n",
       "      <td>N</td>\n",
       "      <td>N</td>\n",
       "    </tr>\n",
       "    <tr>\n",
       "      <th>193</th>\n",
       "      <td>A</td>\n",
       "      <td>AUTOVETTURA PER TRASPORTO DI PERSONE</td>\n",
       "      <td>PROPRIO</td>\n",
       "      <td>COSENZA</td>\n",
       "      <td>COSENZA</td>\n",
       "      <td>CALABRIA</td>\n",
       "      <td>39.000</td>\n",
       "      <td>M</td>\n",
       "      <td>MAZDA</td>\n",
       "      <td>2967.00</td>\n",
       "      <td>B/GPL</td>\n",
       "      <td>145.000</td>\n",
       "      <td>2001-10-25 00:00:00</td>\n",
       "      <td>3.000</td>\n",
       "      <td>305</td>\n",
       "      <td>2075.000</td>\n",
       "      <td>N</td>\n",
       "      <td>N</td>\n",
       "    </tr>\n",
       "    <tr>\n",
       "      <th>209</th>\n",
       "      <td>A</td>\n",
       "      <td>AUTOVETTURA PER TRASPORTO DI PERSONE</td>\n",
       "      <td>PROPRIO</td>\n",
       "      <td>ACRI</td>\n",
       "      <td>COSENZA</td>\n",
       "      <td>CALABRIA</td>\n",
       "      <td>26.000</td>\n",
       "      <td>M</td>\n",
       "      <td>ALFA ROMEO</td>\n",
       "      <td>1368.00</td>\n",
       "      <td>B/GPL</td>\n",
       "      <td>88.000</td>\n",
       "      <td>2015-09-28 00:00:00</td>\n",
       "      <td>6.000</td>\n",
       "      <td>133</td>\n",
       "      <td>1820.000</td>\n",
       "      <td>S</td>\n",
       "      <td>S</td>\n",
       "    </tr>\n",
       "    <tr>\n",
       "      <th>216</th>\n",
       "      <td>A</td>\n",
       "      <td>AUTOVETTURA PER TRASPORTO DI PERSONE</td>\n",
       "      <td>PROPRIO</td>\n",
       "      <td>CROTONE</td>\n",
       "      <td>CROTONE</td>\n",
       "      <td>CALABRIA</td>\n",
       "      <td>51.000</td>\n",
       "      <td>F</td>\n",
       "      <td>SUZUKI</td>\n",
       "      <td>1586.00</td>\n",
       "      <td>B/GPL</td>\n",
       "      <td>79.000</td>\n",
       "      <td>2009-12-09 00:00:00</td>\n",
       "      <td>4.000</td>\n",
       "      <td>159</td>\n",
       "      <td>1650.000</td>\n",
       "      <td>S</td>\n",
       "      <td>S</td>\n",
       "    </tr>\n",
       "    <tr>\n",
       "      <th>279</th>\n",
       "      <td>A</td>\n",
       "      <td>AUTOVETTURA PER TRASPORTO DI PERSONE</td>\n",
       "      <td>PROPRIO</td>\n",
       "      <td>SETTINGIANO</td>\n",
       "      <td>CATANZARO</td>\n",
       "      <td>CALABRIA</td>\n",
       "      <td>50.000</td>\n",
       "      <td>F</td>\n",
       "      <td>NISSAN</td>\n",
       "      <td>1240.00</td>\n",
       "      <td>B/GPL</td>\n",
       "      <td>48.000</td>\n",
       "      <td>2008-04-30 00:00:00</td>\n",
       "      <td>4.000</td>\n",
       "      <td>139</td>\n",
       "      <td>1475.000</td>\n",
       "      <td>S</td>\n",
       "      <td>S</td>\n",
       "    </tr>\n",
       "    <tr>\n",
       "      <th>296</th>\n",
       "      <td>A</td>\n",
       "      <td>AUTOVETTURA PER TRASPORTO DI PERSONE</td>\n",
       "      <td>PROPRIO</td>\n",
       "      <td>ACRI</td>\n",
       "      <td>COSENZA</td>\n",
       "      <td>CALABRIA</td>\n",
       "      <td>85.000</td>\n",
       "      <td>M</td>\n",
       "      <td>FIAT - INNOCENTI</td>\n",
       "      <td>1108.00</td>\n",
       "      <td>B/MET</td>\n",
       "      <td>37.000</td>\n",
       "      <td>2006-11-23 00:00:00</td>\n",
       "      <td>0.000</td>\n",
       "      <td>NaN</td>\n",
       "      <td>1200.000</td>\n",
       "      <td>S</td>\n",
       "      <td>S</td>\n",
       "    </tr>\n",
       "    <tr>\n",
       "      <th>302</th>\n",
       "      <td>A</td>\n",
       "      <td>AUTOVETTURA PER TRASPORTO DI PERSONE</td>\n",
       "      <td>PROPRIO</td>\n",
       "      <td>CASABONA</td>\n",
       "      <td>CROTONE</td>\n",
       "      <td>CALABRIA</td>\n",
       "      <td>70.000</td>\n",
       "      <td>M</td>\n",
       "      <td>SUZUKI</td>\n",
       "      <td>1590.00</td>\n",
       "      <td>B/GPL</td>\n",
       "      <td>55.000</td>\n",
       "      <td>1990-02-05 00:00:00</td>\n",
       "      <td>0.000</td>\n",
       "      <td>NaN</td>\n",
       "      <td>1450.000</td>\n",
       "      <td>S</td>\n",
       "      <td>S</td>\n",
       "    </tr>\n",
       "    <tr>\n",
       "      <th>333</th>\n",
       "      <td>A</td>\n",
       "      <td>AUTOVETTURA PER TRASPORTO DI PERSONE</td>\n",
       "      <td>PROPRIO</td>\n",
       "      <td>AMANTEA</td>\n",
       "      <td>COSENZA</td>\n",
       "      <td>CALABRIA</td>\n",
       "      <td>49.000</td>\n",
       "      <td>F</td>\n",
       "      <td>OPEL</td>\n",
       "      <td>1598.00</td>\n",
       "      <td>B/GPL</td>\n",
       "      <td>74.000</td>\n",
       "      <td>2004-05-05 00:00:00</td>\n",
       "      <td>4.000</td>\n",
       "      <td>175</td>\n",
       "      <td>1855.000</td>\n",
       "      <td>S</td>\n",
       "      <td>S</td>\n",
       "    </tr>\n",
       "    <tr>\n",
       "      <th>345</th>\n",
       "      <td>A</td>\n",
       "      <td>AUTOVETTURA PER TRASPORTO DI PERSONE</td>\n",
       "      <td>PROPRIO</td>\n",
       "      <td>CETRARO</td>\n",
       "      <td>COSENZA</td>\n",
       "      <td>CALABRIA</td>\n",
       "      <td>72.000</td>\n",
       "      <td>F</td>\n",
       "      <td>FORD</td>\n",
       "      <td>1242.00</td>\n",
       "      <td>B/GPL</td>\n",
       "      <td>60.000</td>\n",
       "      <td>2009-04-10 00:00:00</td>\n",
       "      <td>4.000</td>\n",
       "      <td>133</td>\n",
       "      <td>1495.000</td>\n",
       "      <td>S</td>\n",
       "      <td>S</td>\n",
       "    </tr>\n",
       "    <tr>\n",
       "      <th>347</th>\n",
       "      <td>A</td>\n",
       "      <td>AUTOVETTURA PER TRASPORTO DI PERSONE</td>\n",
       "      <td>PROPRIO</td>\n",
       "      <td>RENDE</td>\n",
       "      <td>COSENZA</td>\n",
       "      <td>CALABRIA</td>\n",
       "      <td>46.000</td>\n",
       "      <td>M</td>\n",
       "      <td>FIAT - INNOCENTI</td>\n",
       "      <td>1242.00</td>\n",
       "      <td>B/GPL</td>\n",
       "      <td>44.000</td>\n",
       "      <td>2009-04-02 00:00:00</td>\n",
       "      <td>4.000</td>\n",
       "      <td>156</td>\n",
       "      <td>1425.000</td>\n",
       "      <td>S</td>\n",
       "      <td>S</td>\n",
       "    </tr>\n",
       "    <tr>\n",
       "      <th>466</th>\n",
       "      <td>A</td>\n",
       "      <td>AUTOVETTURA PER TRASPORTO DI PERSONE</td>\n",
       "      <td>PROPRIO</td>\n",
       "      <td>SOVERATO</td>\n",
       "      <td>CATANZARO</td>\n",
       "      <td>CALABRIA</td>\n",
       "      <td>70.000</td>\n",
       "      <td>M</td>\n",
       "      <td>AUDI</td>\n",
       "      <td>1984.00</td>\n",
       "      <td>B/GPL</td>\n",
       "      <td>85.000</td>\n",
       "      <td>1991-01-01 00:00:00</td>\n",
       "      <td>1.000</td>\n",
       "      <td>NaN</td>\n",
       "      <td>1875.000</td>\n",
       "      <td>S</td>\n",
       "      <td>S</td>\n",
       "    </tr>\n",
       "    <tr>\n",
       "      <th>615</th>\n",
       "      <td>A</td>\n",
       "      <td>AUTOVETTURA PER TRASPORTO DI PERSONE</td>\n",
       "      <td>PROPRIO</td>\n",
       "      <td>CROTONE</td>\n",
       "      <td>CROTONE</td>\n",
       "      <td>CALABRIA</td>\n",
       "      <td>63.000</td>\n",
       "      <td>M</td>\n",
       "      <td>BMW</td>\n",
       "      <td>1796.00</td>\n",
       "      <td>B/GPL</td>\n",
       "      <td>83.000</td>\n",
       "      <td>1993-04-09 00:00:00</td>\n",
       "      <td>1.000</td>\n",
       "      <td>NaN</td>\n",
       "      <td>1665.000</td>\n",
       "      <td>S</td>\n",
       "      <td>S</td>\n",
       "    </tr>\n",
       "    <tr>\n",
       "      <th>682</th>\n",
       "      <td>A</td>\n",
       "      <td>AUTOVETTURA PER TRASPORTO DI PERSONE</td>\n",
       "      <td>PROPRIO</td>\n",
       "      <td>PAOLA</td>\n",
       "      <td>COSENZA</td>\n",
       "      <td>CALABRIA</td>\n",
       "      <td>53.000</td>\n",
       "      <td>M</td>\n",
       "      <td>FORD</td>\n",
       "      <td>1388.00</td>\n",
       "      <td>B/GPL</td>\n",
       "      <td>71.000</td>\n",
       "      <td>2010-02-26 00:00:00</td>\n",
       "      <td>4.000</td>\n",
       "      <td>119</td>\n",
       "      <td>1530.000</td>\n",
       "      <td>S</td>\n",
       "      <td>S</td>\n",
       "    </tr>\n",
       "    <tr>\n",
       "      <th>730</th>\n",
       "      <td>A</td>\n",
       "      <td>AUTOVETTURA PER TRASPORTO DI PERSONE</td>\n",
       "      <td>PROPRIO</td>\n",
       "      <td>CARIATI</td>\n",
       "      <td>COSENZA</td>\n",
       "      <td>CALABRIA</td>\n",
       "      <td>44.000</td>\n",
       "      <td>M</td>\n",
       "      <td>OPEL</td>\n",
       "      <td>1796.00</td>\n",
       "      <td>B/GPL</td>\n",
       "      <td>103.000</td>\n",
       "      <td>2011-09-30 00:00:00</td>\n",
       "      <td>4.000</td>\n",
       "      <td>177</td>\n",
       "      <td>2095.000</td>\n",
       "      <td>S</td>\n",
       "      <td>S</td>\n",
       "    </tr>\n",
       "    <tr>\n",
       "      <th>794</th>\n",
       "      <td>A</td>\n",
       "      <td>AUTOVETTURA PER TRASPORTO DI PERSONE</td>\n",
       "      <td>PROPRIO</td>\n",
       "      <td>MONTALTO UFFUGO</td>\n",
       "      <td>COSENZA</td>\n",
       "      <td>CALABRIA</td>\n",
       "      <td>82.000</td>\n",
       "      <td>F</td>\n",
       "      <td>TOYOTA</td>\n",
       "      <td>1398.00</td>\n",
       "      <td>B/GPL</td>\n",
       "      <td>71.000</td>\n",
       "      <td>2010-04-08 00:00:00</td>\n",
       "      <td>4.000</td>\n",
       "      <td>163</td>\n",
       "      <td>1720.000</td>\n",
       "      <td>S</td>\n",
       "      <td>S</td>\n",
       "    </tr>\n",
       "    <tr>\n",
       "      <th>826</th>\n",
       "      <td>A</td>\n",
       "      <td>AUTOVETTURA PER TRASPORTO DI PERSONE</td>\n",
       "      <td>PROPRIO</td>\n",
       "      <td>AMENDOLARA</td>\n",
       "      <td>COSENZA</td>\n",
       "      <td>CALABRIA</td>\n",
       "      <td>30.000</td>\n",
       "      <td>M</td>\n",
       "      <td>RENAULT</td>\n",
       "      <td>1108.00</td>\n",
       "      <td>B/GPL</td>\n",
       "      <td>35.000</td>\n",
       "      <td>1985-06-19 00:00:00</td>\n",
       "      <td>0.000</td>\n",
       "      <td>NaN</td>\n",
       "      <td>1260.000</td>\n",
       "      <td>N</td>\n",
       "      <td>N</td>\n",
       "    </tr>\n",
       "    <tr>\n",
       "      <th>829</th>\n",
       "      <td>A</td>\n",
       "      <td>AUTOVETTURA PER TRASPORTO DI PERSONE</td>\n",
       "      <td>PROPRIO</td>\n",
       "      <td>LONGOBARDI</td>\n",
       "      <td>COSENZA</td>\n",
       "      <td>CALABRIA</td>\n",
       "      <td>75.000</td>\n",
       "      <td>F</td>\n",
       "      <td>CHEVROLET</td>\n",
       "      <td>1229.00</td>\n",
       "      <td>B/GPL</td>\n",
       "      <td>63.000</td>\n",
       "      <td>2012-04-30 00:00:00</td>\n",
       "      <td>5.000</td>\n",
       "      <td>129</td>\n",
       "      <td>1559.000</td>\n",
       "      <td>S</td>\n",
       "      <td>S</td>\n",
       "    </tr>\n",
       "    <tr>\n",
       "      <th>882</th>\n",
       "      <td>A</td>\n",
       "      <td>AUTOVETTURA PER TRASPORTO DI PERSONE</td>\n",
       "      <td>PROPRIO</td>\n",
       "      <td>ROSE</td>\n",
       "      <td>COSENZA</td>\n",
       "      <td>CALABRIA</td>\n",
       "      <td>58.000</td>\n",
       "      <td>F</td>\n",
       "      <td>LANCIA - AUTOBIANCHI</td>\n",
       "      <td>1368.00</td>\n",
       "      <td>B/GPL</td>\n",
       "      <td>57.000</td>\n",
       "      <td>2010-01-15 00:00:00</td>\n",
       "      <td>4.000</td>\n",
       "      <td>115</td>\n",
       "      <td>1490.000</td>\n",
       "      <td>S</td>\n",
       "      <td>S</td>\n",
       "    </tr>\n",
       "    <tr>\n",
       "      <th>928</th>\n",
       "      <td>A</td>\n",
       "      <td>AUTOVETTURA PER TRASPORTO DI PERSONE</td>\n",
       "      <td>PROPRIO</td>\n",
       "      <td>TIRIOLO</td>\n",
       "      <td>CATANZARO</td>\n",
       "      <td>CALABRIA</td>\n",
       "      <td>70.000</td>\n",
       "      <td>M</td>\n",
       "      <td>TOYOTA</td>\n",
       "      <td>998.00</td>\n",
       "      <td>B/GPL</td>\n",
       "      <td>51.000</td>\n",
       "      <td>2010-09-30 00:00:00</td>\n",
       "      <td>4.000</td>\n",
       "      <td>113</td>\n",
       "      <td>1440.000</td>\n",
       "      <td>S</td>\n",
       "      <td>S</td>\n",
       "    </tr>\n",
       "    <tr>\n",
       "      <th>962</th>\n",
       "      <td>A</td>\n",
       "      <td>AUTOCARRO PER TRASPORTO DI COSE</td>\n",
       "      <td>PROPRIO</td>\n",
       "      <td>BORGIA</td>\n",
       "      <td>CATANZARO</td>\n",
       "      <td>CALABRIA</td>\n",
       "      <td>63.000</td>\n",
       "      <td>M</td>\n",
       "      <td>GREAT WALL</td>\n",
       "      <td>2378.00</td>\n",
       "      <td>B/GPL</td>\n",
       "      <td>93.000</td>\n",
       "      <td>2010-10-12 00:00:00</td>\n",
       "      <td>4.000</td>\n",
       "      <td>236</td>\n",
       "      <td>2790.000</td>\n",
       "      <td>S</td>\n",
       "      <td>S</td>\n",
       "    </tr>\n",
       "    <tr>\n",
       "      <th>972</th>\n",
       "      <td>A</td>\n",
       "      <td>AUTOCARAVAN</td>\n",
       "      <td>PROPRIO</td>\n",
       "      <td>CROTONE</td>\n",
       "      <td>CROTONE</td>\n",
       "      <td>CALABRIA</td>\n",
       "      <td>33.000</td>\n",
       "      <td>M</td>\n",
       "      <td>NaN</td>\n",
       "      <td>1970.00</td>\n",
       "      <td>B/GPL</td>\n",
       "      <td>52.000</td>\n",
       "      <td>1983-09-01 00:00:00</td>\n",
       "      <td>0.000</td>\n",
       "      <td>NaN</td>\n",
       "      <td>2250.000</td>\n",
       "      <td>N</td>\n",
       "      <td>N</td>\n",
       "    </tr>\n",
       "    <tr>\n",
       "      <th>1072</th>\n",
       "      <td>A</td>\n",
       "      <td>AUTOVETTURA PER TRASPORTO DI PERSONE</td>\n",
       "      <td>PROPRIO</td>\n",
       "      <td>AMATO</td>\n",
       "      <td>CATANZARO</td>\n",
       "      <td>CALABRIA</td>\n",
       "      <td>62.000</td>\n",
       "      <td>M</td>\n",
       "      <td>AUDI</td>\n",
       "      <td>1595.00</td>\n",
       "      <td>B/GPL</td>\n",
       "      <td>75.000</td>\n",
       "      <td>2002-05-10 00:00:00</td>\n",
       "      <td>4.000</td>\n",
       "      <td>168</td>\n",
       "      <td>1650.000</td>\n",
       "      <td>S</td>\n",
       "      <td>S</td>\n",
       "    </tr>\n",
       "    <tr>\n",
       "      <th>1083</th>\n",
       "      <td>A</td>\n",
       "      <td>AUTOVEIC.TRASP.PROMISCUO PERSONE/COSE</td>\n",
       "      <td>PROPRIO</td>\n",
       "      <td>LUZZI</td>\n",
       "      <td>COSENZA</td>\n",
       "      <td>CALABRIA</td>\n",
       "      <td>65.000</td>\n",
       "      <td>M</td>\n",
       "      <td>SUZUKI</td>\n",
       "      <td>1590.00</td>\n",
       "      <td>B/GPL</td>\n",
       "      <td>55.000</td>\n",
       "      <td>1989-05-19 00:00:00</td>\n",
       "      <td>0.000</td>\n",
       "      <td>NaN</td>\n",
       "      <td>1450.000</td>\n",
       "      <td>N</td>\n",
       "      <td>N</td>\n",
       "    </tr>\n",
       "    <tr>\n",
       "      <th>1171</th>\n",
       "      <td>A</td>\n",
       "      <td>AUTOVETTURA PER TRASPORTO DI PERSONE</td>\n",
       "      <td>PROPRIO</td>\n",
       "      <td>ANTONIMINA</td>\n",
       "      <td>REGGIO DI CALABRIA</td>\n",
       "      <td>CALABRIA</td>\n",
       "      <td>54.000</td>\n",
       "      <td>M</td>\n",
       "      <td>SUZUKI</td>\n",
       "      <td>1590.00</td>\n",
       "      <td>B/GPL</td>\n",
       "      <td>59.000</td>\n",
       "      <td>1992-08-13 00:00:00</td>\n",
       "      <td>1.000</td>\n",
       "      <td>NaN</td>\n",
       "      <td>1450.000</td>\n",
       "      <td>S</td>\n",
       "      <td>S</td>\n",
       "    </tr>\n",
       "    <tr>\n",
       "      <th>1184</th>\n",
       "      <td>A</td>\n",
       "      <td>AUTOVETTURA PER TRASPORTO DI PERSONE</td>\n",
       "      <td>PROPRIO</td>\n",
       "      <td>SELLIA MARINA</td>\n",
       "      <td>CATANZARO</td>\n",
       "      <td>CALABRIA</td>\n",
       "      <td>54.000</td>\n",
       "      <td>M</td>\n",
       "      <td>FORD</td>\n",
       "      <td>1597.00</td>\n",
       "      <td>B/GPL</td>\n",
       "      <td>65.000</td>\n",
       "      <td>1992-04-07 00:00:00</td>\n",
       "      <td>0.000</td>\n",
       "      <td>NaN</td>\n",
       "      <td>1465.000</td>\n",
       "      <td>N</td>\n",
       "      <td>N</td>\n",
       "    </tr>\n",
       "    <tr>\n",
       "      <th>1231</th>\n",
       "      <td>A</td>\n",
       "      <td>AUTOVETTURA PER TRASPORTO DI PERSONE</td>\n",
       "      <td>PROPRIO</td>\n",
       "      <td>CATANZARO</td>\n",
       "      <td>CATANZARO</td>\n",
       "      <td>CALABRIA</td>\n",
       "      <td>36.000</td>\n",
       "      <td>M</td>\n",
       "      <td>ALFA ROMEO</td>\n",
       "      <td>1747.00</td>\n",
       "      <td>B/GPL</td>\n",
       "      <td>106.000</td>\n",
       "      <td>1998-01-07 00:00:00</td>\n",
       "      <td>2.000</td>\n",
       "      <td>196</td>\n",
       "      <td>1750.000</td>\n",
       "      <td>S</td>\n",
       "      <td>S</td>\n",
       "    </tr>\n",
       "    <tr>\n",
       "      <th>1235</th>\n",
       "      <td>A</td>\n",
       "      <td>AUTOVETTURA PER TRASPORTO DI PERSONE</td>\n",
       "      <td>PROPRIO</td>\n",
       "      <td>MOTTAFOLLONE</td>\n",
       "      <td>COSENZA</td>\n",
       "      <td>CALABRIA</td>\n",
       "      <td>30.000</td>\n",
       "      <td>F</td>\n",
       "      <td>FORD</td>\n",
       "      <td>1388.00</td>\n",
       "      <td>B/GPL</td>\n",
       "      <td>71.000</td>\n",
       "      <td>2012-06-29 00:00:00</td>\n",
       "      <td>5.000</td>\n",
       "      <td>114</td>\n",
       "      <td>1530.000</td>\n",
       "      <td>S</td>\n",
       "      <td>S</td>\n",
       "    </tr>\n",
       "    <tr>\n",
       "      <th>1337</th>\n",
       "      <td>A</td>\n",
       "      <td>AUTOVETTURA PER TRASPORTO DI PERSONE</td>\n",
       "      <td>PROPRIO</td>\n",
       "      <td>ACRI</td>\n",
       "      <td>COSENZA</td>\n",
       "      <td>CALABRIA</td>\n",
       "      <td>61.000</td>\n",
       "      <td>M</td>\n",
       "      <td>NaN</td>\n",
       "      <td>1592.00</td>\n",
       "      <td>B/GPL</td>\n",
       "      <td>80.000</td>\n",
       "      <td>1976-01-01 00:00:00</td>\n",
       "      <td>0.000</td>\n",
       "      <td>NaN</td>\n",
       "      <td>1315.000</td>\n",
       "      <td>N</td>\n",
       "      <td>N</td>\n",
       "    </tr>\n",
       "    <tr>\n",
       "      <th>...</th>\n",
       "      <td>...</td>\n",
       "      <td>...</td>\n",
       "      <td>...</td>\n",
       "      <td>...</td>\n",
       "      <td>...</td>\n",
       "      <td>...</td>\n",
       "      <td>...</td>\n",
       "      <td>...</td>\n",
       "      <td>...</td>\n",
       "      <td>...</td>\n",
       "      <td>...</td>\n",
       "      <td>...</td>\n",
       "      <td>...</td>\n",
       "      <td>...</td>\n",
       "      <td>...</td>\n",
       "      <td>...</td>\n",
       "      <td>...</td>\n",
       "      <td>...</td>\n",
       "    </tr>\n",
       "    <tr>\n",
       "      <th>4591004</th>\n",
       "      <td>A</td>\n",
       "      <td>AUTOVETTURA PER TRASPORTO DI PERSONE</td>\n",
       "      <td>PROPRIO</td>\n",
       "      <td>VOLLA</td>\n",
       "      <td>NAPOLI</td>\n",
       "      <td>CAMPANIA</td>\n",
       "      <td>32.000</td>\n",
       "      <td>M</td>\n",
       "      <td>FIAT - INNOCENTI</td>\n",
       "      <td>1242.00</td>\n",
       "      <td>B/MET</td>\n",
       "      <td>44.000</td>\n",
       "      <td>2009-03-10 00:00:00</td>\n",
       "      <td>4.000</td>\n",
       "      <td>113</td>\n",
       "      <td>1455.000</td>\n",
       "      <td>S</td>\n",
       "      <td>S</td>\n",
       "    </tr>\n",
       "    <tr>\n",
       "      <th>4591005</th>\n",
       "      <td>A</td>\n",
       "      <td>AUTOVETTURA PER TRASPORTO DI PERSONE</td>\n",
       "      <td>PROPRIO</td>\n",
       "      <td>NAPOLI</td>\n",
       "      <td>NAPOLI</td>\n",
       "      <td>CAMPANIA</td>\n",
       "      <td>35.000</td>\n",
       "      <td>M</td>\n",
       "      <td>FIAT - INNOCENTI</td>\n",
       "      <td>1242.00</td>\n",
       "      <td>B/GPL</td>\n",
       "      <td>51.000</td>\n",
       "      <td>2009-03-10 00:00:00</td>\n",
       "      <td>4.000</td>\n",
       "      <td>119</td>\n",
       "      <td>1305.000</td>\n",
       "      <td>N</td>\n",
       "      <td>S</td>\n",
       "    </tr>\n",
       "    <tr>\n",
       "      <th>4591025</th>\n",
       "      <td>A</td>\n",
       "      <td>AUTOVETTURA PER TRASPORTO DI PERSONE</td>\n",
       "      <td>PROPRIO</td>\n",
       "      <td>POMIGLIANO D'ARCO</td>\n",
       "      <td>NAPOLI</td>\n",
       "      <td>CAMPANIA</td>\n",
       "      <td>47.000</td>\n",
       "      <td>F</td>\n",
       "      <td>FIAT - INNOCENTI</td>\n",
       "      <td>1242.00</td>\n",
       "      <td>B/GPL</td>\n",
       "      <td>44.000</td>\n",
       "      <td>2006-05-23 00:00:00</td>\n",
       "      <td>4.000</td>\n",
       "      <td>133</td>\n",
       "      <td>1305.000</td>\n",
       "      <td>S</td>\n",
       "      <td>S</td>\n",
       "    </tr>\n",
       "    <tr>\n",
       "      <th>4591040</th>\n",
       "      <td>A</td>\n",
       "      <td>AUTOVETTURA PER TRASPORTO DI PERSONE</td>\n",
       "      <td>PROPRIO</td>\n",
       "      <td>MARCIANISE</td>\n",
       "      <td>CASERTA</td>\n",
       "      <td>CAMPANIA</td>\n",
       "      <td>57.000</td>\n",
       "      <td>F</td>\n",
       "      <td>FIAT - INNOCENTI</td>\n",
       "      <td>1242.00</td>\n",
       "      <td>B/MET</td>\n",
       "      <td>44.000</td>\n",
       "      <td>2009-03-11 00:00:00</td>\n",
       "      <td>4.000</td>\n",
       "      <td>113</td>\n",
       "      <td>1440.000</td>\n",
       "      <td>S</td>\n",
       "      <td>S</td>\n",
       "    </tr>\n",
       "    <tr>\n",
       "      <th>4591041</th>\n",
       "      <td>A</td>\n",
       "      <td>AUTOVETTURA PER TRASPORTO DI PERSONE</td>\n",
       "      <td>PROPRIO</td>\n",
       "      <td>FRAGNETO L'ABATE</td>\n",
       "      <td>BENEVENTO</td>\n",
       "      <td>CAMPANIA</td>\n",
       "      <td>46.000</td>\n",
       "      <td>M</td>\n",
       "      <td>FIAT - INNOCENTI</td>\n",
       "      <td>1242.00</td>\n",
       "      <td>B/MET</td>\n",
       "      <td>44.000</td>\n",
       "      <td>2009-03-11 00:00:00</td>\n",
       "      <td>4.000</td>\n",
       "      <td>113</td>\n",
       "      <td>1440.000</td>\n",
       "      <td>S</td>\n",
       "      <td>S</td>\n",
       "    </tr>\n",
       "    <tr>\n",
       "      <th>4591044</th>\n",
       "      <td>A</td>\n",
       "      <td>AUTOVETTURA PER TRASPORTO DI PERSONE</td>\n",
       "      <td>PROPRIO</td>\n",
       "      <td>ROCCAPIEMONTE</td>\n",
       "      <td>SALERNO</td>\n",
       "      <td>CAMPANIA</td>\n",
       "      <td>49.000</td>\n",
       "      <td>M</td>\n",
       "      <td>ALFA ROMEO</td>\n",
       "      <td>1368.00</td>\n",
       "      <td>B/GPL</td>\n",
       "      <td>58.000</td>\n",
       "      <td>2009-03-10 00:00:00</td>\n",
       "      <td>5.000</td>\n",
       "      <td>138</td>\n",
       "      <td>1560.000</td>\n",
       "      <td>S</td>\n",
       "      <td>S</td>\n",
       "    </tr>\n",
       "    <tr>\n",
       "      <th>4591051</th>\n",
       "      <td>A</td>\n",
       "      <td>AUTOVETTURA PER TRASPORTO DI PERSONE</td>\n",
       "      <td>PROPRIO</td>\n",
       "      <td>MINORI</td>\n",
       "      <td>SALERNO</td>\n",
       "      <td>CAMPANIA</td>\n",
       "      <td>65.000</td>\n",
       "      <td>F</td>\n",
       "      <td>FIAT - INNOCENTI</td>\n",
       "      <td>1108.00</td>\n",
       "      <td>B/GPL</td>\n",
       "      <td>40.000</td>\n",
       "      <td>2006-09-13 00:00:00</td>\n",
       "      <td>4.000</td>\n",
       "      <td>143</td>\n",
       "      <td>1200.000</td>\n",
       "      <td>S</td>\n",
       "      <td>S</td>\n",
       "    </tr>\n",
       "    <tr>\n",
       "      <th>4591055</th>\n",
       "      <td>A</td>\n",
       "      <td>AUTOVETTURA PER TRASPORTO DI PERSONE</td>\n",
       "      <td>PROPRIO</td>\n",
       "      <td>NAPOLI</td>\n",
       "      <td>NAPOLI</td>\n",
       "      <td>CAMPANIA</td>\n",
       "      <td>43.000</td>\n",
       "      <td>F</td>\n",
       "      <td>FIAT - INNOCENTI</td>\n",
       "      <td>1242.00</td>\n",
       "      <td>B/GPL</td>\n",
       "      <td>44.000</td>\n",
       "      <td>2009-03-10 00:00:00</td>\n",
       "      <td>4.000</td>\n",
       "      <td>138</td>\n",
       "      <td>1305.000</td>\n",
       "      <td>S</td>\n",
       "      <td>S</td>\n",
       "    </tr>\n",
       "    <tr>\n",
       "      <th>4591066</th>\n",
       "      <td>A</td>\n",
       "      <td>AUTOVETTURA PER TRASPORTO DI PERSONE</td>\n",
       "      <td>PROPRIO</td>\n",
       "      <td>CARDITO</td>\n",
       "      <td>NAPOLI</td>\n",
       "      <td>CAMPANIA</td>\n",
       "      <td>57.000</td>\n",
       "      <td>M</td>\n",
       "      <td>FIAT - INNOCENTI</td>\n",
       "      <td>1108.00</td>\n",
       "      <td>B/GPL</td>\n",
       "      <td>40.000</td>\n",
       "      <td>2005-07-29 00:00:00</td>\n",
       "      <td>4.000</td>\n",
       "      <td>143</td>\n",
       "      <td>1200.000</td>\n",
       "      <td>S</td>\n",
       "      <td>S</td>\n",
       "    </tr>\n",
       "    <tr>\n",
       "      <th>4591069</th>\n",
       "      <td>A</td>\n",
       "      <td>AUTOVETTURA PER TRASPORTO DI PERSONE</td>\n",
       "      <td>PROPRIO</td>\n",
       "      <td>BOSCOREALE</td>\n",
       "      <td>NAPOLI</td>\n",
       "      <td>CAMPANIA</td>\n",
       "      <td>35.000</td>\n",
       "      <td>F</td>\n",
       "      <td>LANCIA - AUTOBIANCHI</td>\n",
       "      <td>1368.00</td>\n",
       "      <td>B/GPL</td>\n",
       "      <td>70.000</td>\n",
       "      <td>2005-10-18 00:00:00</td>\n",
       "      <td>4.000</td>\n",
       "      <td>153</td>\n",
       "      <td>1660.000</td>\n",
       "      <td>S</td>\n",
       "      <td>S</td>\n",
       "    </tr>\n",
       "    <tr>\n",
       "      <th>4591084</th>\n",
       "      <td>A</td>\n",
       "      <td>AUTOVETTURA PER TRASPORTO DI PERSONE</td>\n",
       "      <td>DI TERZI</td>\n",
       "      <td>ROCCAPIEMONTE</td>\n",
       "      <td>SALERNO</td>\n",
       "      <td>CAMPANIA</td>\n",
       "      <td>36.000</td>\n",
       "      <td>M</td>\n",
       "      <td>FIAT - INNOCENTI</td>\n",
       "      <td>1596.00</td>\n",
       "      <td>B/MET</td>\n",
       "      <td>76.000</td>\n",
       "      <td>2005-10-26 00:00:00</td>\n",
       "      <td>4.000</td>\n",
       "      <td>161</td>\n",
       "      <td>2050.000</td>\n",
       "      <td>S</td>\n",
       "      <td>S</td>\n",
       "    </tr>\n",
       "    <tr>\n",
       "      <th>4591110</th>\n",
       "      <td>A</td>\n",
       "      <td>AUTOVETTURA PER TRASPORTO DI PERSONE</td>\n",
       "      <td>PROPRIO</td>\n",
       "      <td>SERRE</td>\n",
       "      <td>SALERNO</td>\n",
       "      <td>CAMPANIA</td>\n",
       "      <td>68.000</td>\n",
       "      <td>M</td>\n",
       "      <td>TOYOTA</td>\n",
       "      <td>998.00</td>\n",
       "      <td>B/GPL</td>\n",
       "      <td>51.000</td>\n",
       "      <td>2006-12-18 00:00:00</td>\n",
       "      <td>4.000</td>\n",
       "      <td>127</td>\n",
       "      <td>1440.000</td>\n",
       "      <td>S</td>\n",
       "      <td>S</td>\n",
       "    </tr>\n",
       "    <tr>\n",
       "      <th>4591118</th>\n",
       "      <td>A</td>\n",
       "      <td>AUTOVETTURA PER TRASPORTO DI PERSONE</td>\n",
       "      <td>PROPRIO</td>\n",
       "      <td>NAPOLI</td>\n",
       "      <td>NAPOLI</td>\n",
       "      <td>CAMPANIA</td>\n",
       "      <td>62.000</td>\n",
       "      <td>F</td>\n",
       "      <td>FIAT - INNOCENTI</td>\n",
       "      <td>1108.00</td>\n",
       "      <td>B/GPL</td>\n",
       "      <td>40.000</td>\n",
       "      <td>2005-11-28 00:00:00</td>\n",
       "      <td>4.000</td>\n",
       "      <td>135</td>\n",
       "      <td>1255.000</td>\n",
       "      <td>S</td>\n",
       "      <td>S</td>\n",
       "    </tr>\n",
       "    <tr>\n",
       "      <th>4591124</th>\n",
       "      <td>A</td>\n",
       "      <td>AUTOCARRO PER TRASPORTO DI COSE</td>\n",
       "      <td>PROPRIO</td>\n",
       "      <td>MONTEFORTE IRPINO</td>\n",
       "      <td>AVELLINO</td>\n",
       "      <td>CAMPANIA</td>\n",
       "      <td>nan</td>\n",
       "      <td>NaN</td>\n",
       "      <td>CITROEN</td>\n",
       "      <td>1587.00</td>\n",
       "      <td>B/GPL</td>\n",
       "      <td>66.000</td>\n",
       "      <td>2009-03-10 00:00:00</td>\n",
       "      <td>4.000</td>\n",
       "      <td>195</td>\n",
       "      <td>1980.000</td>\n",
       "      <td>S</td>\n",
       "      <td>S</td>\n",
       "    </tr>\n",
       "    <tr>\n",
       "      <th>4591143</th>\n",
       "      <td>A</td>\n",
       "      <td>AUTOVETTURA PER TRASPORTO DI PERSONE</td>\n",
       "      <td>PROPRIO</td>\n",
       "      <td>NOVI VELIA</td>\n",
       "      <td>SALERNO</td>\n",
       "      <td>CAMPANIA</td>\n",
       "      <td>52.000</td>\n",
       "      <td>M</td>\n",
       "      <td>KIA</td>\n",
       "      <td>999.00</td>\n",
       "      <td>B/GPL</td>\n",
       "      <td>44.000</td>\n",
       "      <td>2009-03-10 00:00:00</td>\n",
       "      <td>4.000</td>\n",
       "      <td>112</td>\n",
       "      <td>1350.000</td>\n",
       "      <td>S</td>\n",
       "      <td>S</td>\n",
       "    </tr>\n",
       "    <tr>\n",
       "      <th>4591145</th>\n",
       "      <td>A</td>\n",
       "      <td>AUTOVETTURA PER TRASPORTO DI PERSONE</td>\n",
       "      <td>PROPRIO</td>\n",
       "      <td>CASAVATORE</td>\n",
       "      <td>NAPOLI</td>\n",
       "      <td>CAMPANIA</td>\n",
       "      <td>26.000</td>\n",
       "      <td>F</td>\n",
       "      <td>LANCIA - AUTOBIANCHI</td>\n",
       "      <td>1242.00</td>\n",
       "      <td>B/GPL</td>\n",
       "      <td>44.000</td>\n",
       "      <td>2006-02-20 00:00:00</td>\n",
       "      <td>4.000</td>\n",
       "      <td>142</td>\n",
       "      <td>1460.000</td>\n",
       "      <td>S</td>\n",
       "      <td>S</td>\n",
       "    </tr>\n",
       "    <tr>\n",
       "      <th>4591149</th>\n",
       "      <td>A</td>\n",
       "      <td>AUTOVETTURA PER TRASPORTO DI PERSONE</td>\n",
       "      <td>PROPRIO</td>\n",
       "      <td>MUGNANO DI NAPOLI</td>\n",
       "      <td>NAPOLI</td>\n",
       "      <td>CAMPANIA</td>\n",
       "      <td>36.000</td>\n",
       "      <td>F</td>\n",
       "      <td>PEUGEOT</td>\n",
       "      <td>1360.00</td>\n",
       "      <td>B/GPL</td>\n",
       "      <td>65.000</td>\n",
       "      <td>2006-11-07 00:00:00</td>\n",
       "      <td>4.000</td>\n",
       "      <td>152</td>\n",
       "      <td>1620.000</td>\n",
       "      <td>S</td>\n",
       "      <td>S</td>\n",
       "    </tr>\n",
       "    <tr>\n",
       "      <th>4591168</th>\n",
       "      <td>A</td>\n",
       "      <td>AUTOVETTURA PER TRASPORTO DI PERSONE</td>\n",
       "      <td>PROPRIO</td>\n",
       "      <td>GIFFONI VALLE PIANA</td>\n",
       "      <td>SALERNO</td>\n",
       "      <td>CAMPANIA</td>\n",
       "      <td>71.000</td>\n",
       "      <td>M</td>\n",
       "      <td>FIAT - INNOCENTI</td>\n",
       "      <td>1242.00</td>\n",
       "      <td>B/MET</td>\n",
       "      <td>44.000</td>\n",
       "      <td>2004-11-16 00:00:00</td>\n",
       "      <td>3.000</td>\n",
       "      <td>133</td>\n",
       "      <td>1305.000</td>\n",
       "      <td>S</td>\n",
       "      <td>S</td>\n",
       "    </tr>\n",
       "    <tr>\n",
       "      <th>4591169</th>\n",
       "      <td>A</td>\n",
       "      <td>AUTOVETTURA PER TRASPORTO DI PERSONE</td>\n",
       "      <td>PROPRIO</td>\n",
       "      <td>SANT'ANASTASIA</td>\n",
       "      <td>NAPOLI</td>\n",
       "      <td>CAMPANIA</td>\n",
       "      <td>nan</td>\n",
       "      <td>NaN</td>\n",
       "      <td>FIAT - INNOCENTI</td>\n",
       "      <td>1242.00</td>\n",
       "      <td>B/GPL</td>\n",
       "      <td>44.000</td>\n",
       "      <td>2006-12-05 00:00:00</td>\n",
       "      <td>4.000</td>\n",
       "      <td>133</td>\n",
       "      <td>1310.000</td>\n",
       "      <td>S</td>\n",
       "      <td>S</td>\n",
       "    </tr>\n",
       "    <tr>\n",
       "      <th>4591171</th>\n",
       "      <td>A</td>\n",
       "      <td>AUTOVETTURA PER TRASPORTO DI PERSONE</td>\n",
       "      <td>DI TERZI DA NOLEGGIO CON CONDUC.</td>\n",
       "      <td>SUCCIVO</td>\n",
       "      <td>CASERTA</td>\n",
       "      <td>CAMPANIA</td>\n",
       "      <td>37.000</td>\n",
       "      <td>M</td>\n",
       "      <td>FIAT - INNOCENTI</td>\n",
       "      <td>1242.00</td>\n",
       "      <td>B/GPL</td>\n",
       "      <td>44.000</td>\n",
       "      <td>2007-01-31 00:00:00</td>\n",
       "      <td>4.000</td>\n",
       "      <td>133</td>\n",
       "      <td>1305.000</td>\n",
       "      <td>N</td>\n",
       "      <td>S</td>\n",
       "    </tr>\n",
       "    <tr>\n",
       "      <th>4591198</th>\n",
       "      <td>A</td>\n",
       "      <td>AUTOVETTURA PER TRASPORTO DI PERSONE</td>\n",
       "      <td>PROPRIO</td>\n",
       "      <td>NAPOLI</td>\n",
       "      <td>NAPOLI</td>\n",
       "      <td>CAMPANIA</td>\n",
       "      <td>46.000</td>\n",
       "      <td>M</td>\n",
       "      <td>FIAT - INNOCENTI</td>\n",
       "      <td>1242.00</td>\n",
       "      <td>B/GPL</td>\n",
       "      <td>44.000</td>\n",
       "      <td>2006-05-26 00:00:00</td>\n",
       "      <td>4.000</td>\n",
       "      <td>133</td>\n",
       "      <td>1305.000</td>\n",
       "      <td>S</td>\n",
       "      <td>S</td>\n",
       "    </tr>\n",
       "    <tr>\n",
       "      <th>4591212</th>\n",
       "      <td>A</td>\n",
       "      <td>AUTOVETTURA PER TRASPORTO DI PERSONE</td>\n",
       "      <td>PROPRIO</td>\n",
       "      <td>NAPOLI</td>\n",
       "      <td>NAPOLI</td>\n",
       "      <td>CAMPANIA</td>\n",
       "      <td>53.000</td>\n",
       "      <td>F</td>\n",
       "      <td>OPEL</td>\n",
       "      <td>1364.00</td>\n",
       "      <td>B/GPL</td>\n",
       "      <td>66.000</td>\n",
       "      <td>2006-12-21 00:00:00</td>\n",
       "      <td>4.000</td>\n",
       "      <td>154</td>\n",
       "      <td>1810.000</td>\n",
       "      <td>S</td>\n",
       "      <td>S</td>\n",
       "    </tr>\n",
       "    <tr>\n",
       "      <th>4591214</th>\n",
       "      <td>A</td>\n",
       "      <td>AUTOVETTURA PER TRASPORTO DI PERSONE</td>\n",
       "      <td>PROPRIO</td>\n",
       "      <td>MERCOGLIANO</td>\n",
       "      <td>AVELLINO</td>\n",
       "      <td>CAMPANIA</td>\n",
       "      <td>27.000</td>\n",
       "      <td>F</td>\n",
       "      <td>FIAT - INNOCENTI</td>\n",
       "      <td>1242.00</td>\n",
       "      <td>B/MET</td>\n",
       "      <td>44.000</td>\n",
       "      <td>2009-03-10 00:00:00</td>\n",
       "      <td>4.000</td>\n",
       "      <td>113</td>\n",
       "      <td>1455.000</td>\n",
       "      <td>S</td>\n",
       "      <td>S</td>\n",
       "    </tr>\n",
       "    <tr>\n",
       "      <th>4591215</th>\n",
       "      <td>A</td>\n",
       "      <td>AUTOVETTURA PER TRASPORTO DI PERSONE</td>\n",
       "      <td>PROPRIO</td>\n",
       "      <td>NAPOLI</td>\n",
       "      <td>NAPOLI</td>\n",
       "      <td>CAMPANIA</td>\n",
       "      <td>37.000</td>\n",
       "      <td>M</td>\n",
       "      <td>OPEL</td>\n",
       "      <td>1229.00</td>\n",
       "      <td>B/GPL</td>\n",
       "      <td>59.000</td>\n",
       "      <td>2009-03-10 00:00:00</td>\n",
       "      <td>4.000</td>\n",
       "      <td>139</td>\n",
       "      <td>1605.000</td>\n",
       "      <td>S</td>\n",
       "      <td>S</td>\n",
       "    </tr>\n",
       "    <tr>\n",
       "      <th>4591227</th>\n",
       "      <td>A</td>\n",
       "      <td>AUTOVETTURA PER TRASPORTO DI PERSONE</td>\n",
       "      <td>PROPRIO</td>\n",
       "      <td>NAPOLI</td>\n",
       "      <td>NAPOLI</td>\n",
       "      <td>CAMPANIA</td>\n",
       "      <td>70.000</td>\n",
       "      <td>F</td>\n",
       "      <td>FIAT - INNOCENTI</td>\n",
       "      <td>1242.00</td>\n",
       "      <td>B/MET</td>\n",
       "      <td>44.000</td>\n",
       "      <td>2009-03-10 00:00:00</td>\n",
       "      <td>4.000</td>\n",
       "      <td>113</td>\n",
       "      <td>1440.000</td>\n",
       "      <td>S</td>\n",
       "      <td>S</td>\n",
       "    </tr>\n",
       "    <tr>\n",
       "      <th>4591233</th>\n",
       "      <td>A</td>\n",
       "      <td>AUTOVETTURA PER TRASPORTO DI PERSONE</td>\n",
       "      <td>PROPRIO</td>\n",
       "      <td>TRAMONTI</td>\n",
       "      <td>SALERNO</td>\n",
       "      <td>CAMPANIA</td>\n",
       "      <td>54.000</td>\n",
       "      <td>M</td>\n",
       "      <td>KIA</td>\n",
       "      <td>999.00</td>\n",
       "      <td>B/GPL</td>\n",
       "      <td>44.000</td>\n",
       "      <td>2009-03-10 00:00:00</td>\n",
       "      <td>4.000</td>\n",
       "      <td>112</td>\n",
       "      <td>1350.000</td>\n",
       "      <td>S</td>\n",
       "      <td>S</td>\n",
       "    </tr>\n",
       "    <tr>\n",
       "      <th>4591240</th>\n",
       "      <td>A</td>\n",
       "      <td>AUTOVETTURA PER TRASPORTO DI PERSONE</td>\n",
       "      <td>PROPRIO</td>\n",
       "      <td>SARNO</td>\n",
       "      <td>SALERNO</td>\n",
       "      <td>CAMPANIA</td>\n",
       "      <td>81.000</td>\n",
       "      <td>M</td>\n",
       "      <td>FIAT - INNOCENTI</td>\n",
       "      <td>1108.00</td>\n",
       "      <td>B/GPL</td>\n",
       "      <td>40.000</td>\n",
       "      <td>2006-05-08 00:00:00</td>\n",
       "      <td>4.000</td>\n",
       "      <td>135</td>\n",
       "      <td>1255.000</td>\n",
       "      <td>S</td>\n",
       "      <td>S</td>\n",
       "    </tr>\n",
       "    <tr>\n",
       "      <th>4591242</th>\n",
       "      <td>A</td>\n",
       "      <td>AUTOVETTURA PER TRASPORTO DI PERSONE</td>\n",
       "      <td>PROPRIO</td>\n",
       "      <td>NAPOLI</td>\n",
       "      <td>NAPOLI</td>\n",
       "      <td>CAMPANIA</td>\n",
       "      <td>40.000</td>\n",
       "      <td>M</td>\n",
       "      <td>FIAT - INNOCENTI</td>\n",
       "      <td>1596.00</td>\n",
       "      <td>B/MET</td>\n",
       "      <td>76.000</td>\n",
       "      <td>2005-11-28 00:00:00</td>\n",
       "      <td>4.000</td>\n",
       "      <td>161</td>\n",
       "      <td>2050.000</td>\n",
       "      <td>S</td>\n",
       "      <td>S</td>\n",
       "    </tr>\n",
       "    <tr>\n",
       "      <th>4591244</th>\n",
       "      <td>A</td>\n",
       "      <td>AUTOVETTURA PER TRASPORTO DI PERSONE</td>\n",
       "      <td>PROPRIO</td>\n",
       "      <td>CASAPESENNA</td>\n",
       "      <td>CASERTA</td>\n",
       "      <td>CAMPANIA</td>\n",
       "      <td>31.000</td>\n",
       "      <td>M</td>\n",
       "      <td>FIAT - INNOCENTI</td>\n",
       "      <td>1242.00</td>\n",
       "      <td>B/GPL</td>\n",
       "      <td>44.000</td>\n",
       "      <td>2005-12-29 00:00:00</td>\n",
       "      <td>4.000</td>\n",
       "      <td>133</td>\n",
       "      <td>1305.000</td>\n",
       "      <td>S</td>\n",
       "      <td>S</td>\n",
       "    </tr>\n",
       "    <tr>\n",
       "      <th>4591248</th>\n",
       "      <td>A</td>\n",
       "      <td>AUTOVETTURA PER TRASPORTO DI PERSONE</td>\n",
       "      <td>PROPRIO</td>\n",
       "      <td>VILLARICCA</td>\n",
       "      <td>NAPOLI</td>\n",
       "      <td>CAMPANIA</td>\n",
       "      <td>52.000</td>\n",
       "      <td>F</td>\n",
       "      <td>MAZDA</td>\n",
       "      <td>1242.00</td>\n",
       "      <td>B/GPL</td>\n",
       "      <td>55.000</td>\n",
       "      <td>2005-10-26 00:00:00</td>\n",
       "      <td>4.000</td>\n",
       "      <td>150</td>\n",
       "      <td>1490.000</td>\n",
       "      <td>S</td>\n",
       "      <td>S</td>\n",
       "    </tr>\n",
       "  </tbody>\n",
       "</table>\n",
       "<p>4259274 rows × 18 columns</p>\n",
       "</div>"
      ],
      "text/plain": [
       "        tipo_veicolo                           destinazione                               uso     comune_residenza provincia_residenza regione_residenza  eta_intestatario sesso                 marca cilindrata alimentazione      kw data_immatricolazione  classe_euro emissioni_co2  massa_complessiva revisione_in_regola assicurazione_in_regola\n",
       "7                  A                            AUTOCARAVAN                           PROPRIO              PALIZZI  REGGIO DI CALABRIA          CALABRIA            62.000     M                  FORD    1993.00         B/GPL  55.000   1992-02-18 00:00:00        0.000           NaN           2390.000                   N                       S\n",
       "84                 A   AUTOVETTURA PER TRASPORTO DI PERSONE                           PROPRIO     CASALI DEL MANCO             COSENZA          CALABRIA            42.000     M      FIAT - INNOCENTI    1596.00         B/MET  76.000   2001-02-28 00:00:00        3.000           214           2050.000                   N                       N\n",
       "175                A   AUTOVETTURA PER TRASPORTO DI PERSONE                           PROPRIO             DIAMANTE             COSENZA          CALABRIA            89.000     F             CHEVROLET    1399.00         B/GPL  61.000   2005-10-28 00:00:00        3.000           175           1500.000                   N                       N\n",
       "193                A   AUTOVETTURA PER TRASPORTO DI PERSONE                           PROPRIO              COSENZA             COSENZA          CALABRIA            39.000     M                 MAZDA    2967.00         B/GPL 145.000   2001-10-25 00:00:00        3.000           305           2075.000                   N                       N\n",
       "209                A   AUTOVETTURA PER TRASPORTO DI PERSONE                           PROPRIO                 ACRI             COSENZA          CALABRIA            26.000     M            ALFA ROMEO    1368.00         B/GPL  88.000   2015-09-28 00:00:00        6.000           133           1820.000                   S                       S\n",
       "216                A   AUTOVETTURA PER TRASPORTO DI PERSONE                           PROPRIO              CROTONE             CROTONE          CALABRIA            51.000     F                SUZUKI    1586.00         B/GPL  79.000   2009-12-09 00:00:00        4.000           159           1650.000                   S                       S\n",
       "279                A   AUTOVETTURA PER TRASPORTO DI PERSONE                           PROPRIO          SETTINGIANO           CATANZARO          CALABRIA            50.000     F                NISSAN    1240.00         B/GPL  48.000   2008-04-30 00:00:00        4.000           139           1475.000                   S                       S\n",
       "296                A   AUTOVETTURA PER TRASPORTO DI PERSONE                           PROPRIO                 ACRI             COSENZA          CALABRIA            85.000     M      FIAT - INNOCENTI    1108.00         B/MET  37.000   2006-11-23 00:00:00        0.000           NaN           1200.000                   S                       S\n",
       "302                A   AUTOVETTURA PER TRASPORTO DI PERSONE                           PROPRIO             CASABONA             CROTONE          CALABRIA            70.000     M                SUZUKI    1590.00         B/GPL  55.000   1990-02-05 00:00:00        0.000           NaN           1450.000                   S                       S\n",
       "333                A   AUTOVETTURA PER TRASPORTO DI PERSONE                           PROPRIO              AMANTEA             COSENZA          CALABRIA            49.000     F                  OPEL    1598.00         B/GPL  74.000   2004-05-05 00:00:00        4.000           175           1855.000                   S                       S\n",
       "345                A   AUTOVETTURA PER TRASPORTO DI PERSONE                           PROPRIO              CETRARO             COSENZA          CALABRIA            72.000     F                  FORD    1242.00         B/GPL  60.000   2009-04-10 00:00:00        4.000           133           1495.000                   S                       S\n",
       "347                A   AUTOVETTURA PER TRASPORTO DI PERSONE                           PROPRIO                RENDE             COSENZA          CALABRIA            46.000     M      FIAT - INNOCENTI    1242.00         B/GPL  44.000   2009-04-02 00:00:00        4.000           156           1425.000                   S                       S\n",
       "466                A   AUTOVETTURA PER TRASPORTO DI PERSONE                           PROPRIO             SOVERATO           CATANZARO          CALABRIA            70.000     M                  AUDI    1984.00         B/GPL  85.000   1991-01-01 00:00:00        1.000           NaN           1875.000                   S                       S\n",
       "615                A   AUTOVETTURA PER TRASPORTO DI PERSONE                           PROPRIO              CROTONE             CROTONE          CALABRIA            63.000     M                   BMW    1796.00         B/GPL  83.000   1993-04-09 00:00:00        1.000           NaN           1665.000                   S                       S\n",
       "682                A   AUTOVETTURA PER TRASPORTO DI PERSONE                           PROPRIO                PAOLA             COSENZA          CALABRIA            53.000     M                  FORD    1388.00         B/GPL  71.000   2010-02-26 00:00:00        4.000           119           1530.000                   S                       S\n",
       "730                A   AUTOVETTURA PER TRASPORTO DI PERSONE                           PROPRIO              CARIATI             COSENZA          CALABRIA            44.000     M                  OPEL    1796.00         B/GPL 103.000   2011-09-30 00:00:00        4.000           177           2095.000                   S                       S\n",
       "794                A   AUTOVETTURA PER TRASPORTO DI PERSONE                           PROPRIO      MONTALTO UFFUGO             COSENZA          CALABRIA            82.000     F                TOYOTA    1398.00         B/GPL  71.000   2010-04-08 00:00:00        4.000           163           1720.000                   S                       S\n",
       "826                A   AUTOVETTURA PER TRASPORTO DI PERSONE                           PROPRIO           AMENDOLARA             COSENZA          CALABRIA            30.000     M               RENAULT    1108.00         B/GPL  35.000   1985-06-19 00:00:00        0.000           NaN           1260.000                   N                       N\n",
       "829                A   AUTOVETTURA PER TRASPORTO DI PERSONE                           PROPRIO           LONGOBARDI             COSENZA          CALABRIA            75.000     F             CHEVROLET    1229.00         B/GPL  63.000   2012-04-30 00:00:00        5.000           129           1559.000                   S                       S\n",
       "882                A   AUTOVETTURA PER TRASPORTO DI PERSONE                           PROPRIO                 ROSE             COSENZA          CALABRIA            58.000     F  LANCIA - AUTOBIANCHI    1368.00         B/GPL  57.000   2010-01-15 00:00:00        4.000           115           1490.000                   S                       S\n",
       "928                A   AUTOVETTURA PER TRASPORTO DI PERSONE                           PROPRIO              TIRIOLO           CATANZARO          CALABRIA            70.000     M                TOYOTA     998.00         B/GPL  51.000   2010-09-30 00:00:00        4.000           113           1440.000                   S                       S\n",
       "962                A        AUTOCARRO PER TRASPORTO DI COSE                           PROPRIO               BORGIA           CATANZARO          CALABRIA            63.000     M            GREAT WALL    2378.00         B/GPL  93.000   2010-10-12 00:00:00        4.000           236           2790.000                   S                       S\n",
       "972                A                            AUTOCARAVAN                           PROPRIO              CROTONE             CROTONE          CALABRIA            33.000     M                   NaN    1970.00         B/GPL  52.000   1983-09-01 00:00:00        0.000           NaN           2250.000                   N                       N\n",
       "1072               A   AUTOVETTURA PER TRASPORTO DI PERSONE                           PROPRIO                AMATO           CATANZARO          CALABRIA            62.000     M                  AUDI    1595.00         B/GPL  75.000   2002-05-10 00:00:00        4.000           168           1650.000                   S                       S\n",
       "1083               A  AUTOVEIC.TRASP.PROMISCUO PERSONE/COSE                           PROPRIO                LUZZI             COSENZA          CALABRIA            65.000     M                SUZUKI    1590.00         B/GPL  55.000   1989-05-19 00:00:00        0.000           NaN           1450.000                   N                       N\n",
       "1171               A   AUTOVETTURA PER TRASPORTO DI PERSONE                           PROPRIO           ANTONIMINA  REGGIO DI CALABRIA          CALABRIA            54.000     M                SUZUKI    1590.00         B/GPL  59.000   1992-08-13 00:00:00        1.000           NaN           1450.000                   S                       S\n",
       "1184               A   AUTOVETTURA PER TRASPORTO DI PERSONE                           PROPRIO        SELLIA MARINA           CATANZARO          CALABRIA            54.000     M                  FORD    1597.00         B/GPL  65.000   1992-04-07 00:00:00        0.000           NaN           1465.000                   N                       N\n",
       "1231               A   AUTOVETTURA PER TRASPORTO DI PERSONE                           PROPRIO            CATANZARO           CATANZARO          CALABRIA            36.000     M            ALFA ROMEO    1747.00         B/GPL 106.000   1998-01-07 00:00:00        2.000           196           1750.000                   S                       S\n",
       "1235               A   AUTOVETTURA PER TRASPORTO DI PERSONE                           PROPRIO         MOTTAFOLLONE             COSENZA          CALABRIA            30.000     F                  FORD    1388.00         B/GPL  71.000   2012-06-29 00:00:00        5.000           114           1530.000                   S                       S\n",
       "1337               A   AUTOVETTURA PER TRASPORTO DI PERSONE                           PROPRIO                 ACRI             COSENZA          CALABRIA            61.000     M                   NaN    1592.00         B/GPL  80.000   1976-01-01 00:00:00        0.000           NaN           1315.000                   N                       N\n",
       "...              ...                                    ...                               ...                  ...                 ...               ...               ...   ...                   ...        ...           ...     ...                   ...          ...           ...                ...                 ...                     ...\n",
       "4591004            A   AUTOVETTURA PER TRASPORTO DI PERSONE                           PROPRIO                VOLLA              NAPOLI          CAMPANIA            32.000     M      FIAT - INNOCENTI    1242.00         B/MET  44.000   2009-03-10 00:00:00        4.000           113           1455.000                   S                       S\n",
       "4591005            A   AUTOVETTURA PER TRASPORTO DI PERSONE                           PROPRIO               NAPOLI              NAPOLI          CAMPANIA            35.000     M      FIAT - INNOCENTI    1242.00         B/GPL  51.000   2009-03-10 00:00:00        4.000           119           1305.000                   N                       S\n",
       "4591025            A   AUTOVETTURA PER TRASPORTO DI PERSONE                           PROPRIO    POMIGLIANO D'ARCO              NAPOLI          CAMPANIA            47.000     F      FIAT - INNOCENTI    1242.00         B/GPL  44.000   2006-05-23 00:00:00        4.000           133           1305.000                   S                       S\n",
       "4591040            A   AUTOVETTURA PER TRASPORTO DI PERSONE                           PROPRIO           MARCIANISE             CASERTA          CAMPANIA            57.000     F      FIAT - INNOCENTI    1242.00         B/MET  44.000   2009-03-11 00:00:00        4.000           113           1440.000                   S                       S\n",
       "4591041            A   AUTOVETTURA PER TRASPORTO DI PERSONE                           PROPRIO     FRAGNETO L'ABATE           BENEVENTO          CAMPANIA            46.000     M      FIAT - INNOCENTI    1242.00         B/MET  44.000   2009-03-11 00:00:00        4.000           113           1440.000                   S                       S\n",
       "4591044            A   AUTOVETTURA PER TRASPORTO DI PERSONE                           PROPRIO        ROCCAPIEMONTE             SALERNO          CAMPANIA            49.000     M            ALFA ROMEO    1368.00         B/GPL  58.000   2009-03-10 00:00:00        5.000           138           1560.000                   S                       S\n",
       "4591051            A   AUTOVETTURA PER TRASPORTO DI PERSONE                           PROPRIO               MINORI             SALERNO          CAMPANIA            65.000     F      FIAT - INNOCENTI    1108.00         B/GPL  40.000   2006-09-13 00:00:00        4.000           143           1200.000                   S                       S\n",
       "4591055            A   AUTOVETTURA PER TRASPORTO DI PERSONE                           PROPRIO               NAPOLI              NAPOLI          CAMPANIA            43.000     F      FIAT - INNOCENTI    1242.00         B/GPL  44.000   2009-03-10 00:00:00        4.000           138           1305.000                   S                       S\n",
       "4591066            A   AUTOVETTURA PER TRASPORTO DI PERSONE                           PROPRIO              CARDITO              NAPOLI          CAMPANIA            57.000     M      FIAT - INNOCENTI    1108.00         B/GPL  40.000   2005-07-29 00:00:00        4.000           143           1200.000                   S                       S\n",
       "4591069            A   AUTOVETTURA PER TRASPORTO DI PERSONE                           PROPRIO           BOSCOREALE              NAPOLI          CAMPANIA            35.000     F  LANCIA - AUTOBIANCHI    1368.00         B/GPL  70.000   2005-10-18 00:00:00        4.000           153           1660.000                   S                       S\n",
       "4591084            A   AUTOVETTURA PER TRASPORTO DI PERSONE                          DI TERZI        ROCCAPIEMONTE             SALERNO          CAMPANIA            36.000     M      FIAT - INNOCENTI    1596.00         B/MET  76.000   2005-10-26 00:00:00        4.000           161           2050.000                   S                       S\n",
       "4591110            A   AUTOVETTURA PER TRASPORTO DI PERSONE                           PROPRIO                SERRE             SALERNO          CAMPANIA            68.000     M                TOYOTA     998.00         B/GPL  51.000   2006-12-18 00:00:00        4.000           127           1440.000                   S                       S\n",
       "4591118            A   AUTOVETTURA PER TRASPORTO DI PERSONE                           PROPRIO               NAPOLI              NAPOLI          CAMPANIA            62.000     F      FIAT - INNOCENTI    1108.00         B/GPL  40.000   2005-11-28 00:00:00        4.000           135           1255.000                   S                       S\n",
       "4591124            A        AUTOCARRO PER TRASPORTO DI COSE                           PROPRIO    MONTEFORTE IRPINO            AVELLINO          CAMPANIA               nan   NaN               CITROEN    1587.00         B/GPL  66.000   2009-03-10 00:00:00        4.000           195           1980.000                   S                       S\n",
       "4591143            A   AUTOVETTURA PER TRASPORTO DI PERSONE                           PROPRIO           NOVI VELIA             SALERNO          CAMPANIA            52.000     M                   KIA     999.00         B/GPL  44.000   2009-03-10 00:00:00        4.000           112           1350.000                   S                       S\n",
       "4591145            A   AUTOVETTURA PER TRASPORTO DI PERSONE                           PROPRIO           CASAVATORE              NAPOLI          CAMPANIA            26.000     F  LANCIA - AUTOBIANCHI    1242.00         B/GPL  44.000   2006-02-20 00:00:00        4.000           142           1460.000                   S                       S\n",
       "4591149            A   AUTOVETTURA PER TRASPORTO DI PERSONE                           PROPRIO    MUGNANO DI NAPOLI              NAPOLI          CAMPANIA            36.000     F               PEUGEOT    1360.00         B/GPL  65.000   2006-11-07 00:00:00        4.000           152           1620.000                   S                       S\n",
       "4591168            A   AUTOVETTURA PER TRASPORTO DI PERSONE                           PROPRIO  GIFFONI VALLE PIANA             SALERNO          CAMPANIA            71.000     M      FIAT - INNOCENTI    1242.00         B/MET  44.000   2004-11-16 00:00:00        3.000           133           1305.000                   S                       S\n",
       "4591169            A   AUTOVETTURA PER TRASPORTO DI PERSONE                           PROPRIO       SANT'ANASTASIA              NAPOLI          CAMPANIA               nan   NaN      FIAT - INNOCENTI    1242.00         B/GPL  44.000   2006-12-05 00:00:00        4.000           133           1310.000                   S                       S\n",
       "4591171            A   AUTOVETTURA PER TRASPORTO DI PERSONE  DI TERZI DA NOLEGGIO CON CONDUC.              SUCCIVO             CASERTA          CAMPANIA            37.000     M      FIAT - INNOCENTI    1242.00         B/GPL  44.000   2007-01-31 00:00:00        4.000           133           1305.000                   N                       S\n",
       "4591198            A   AUTOVETTURA PER TRASPORTO DI PERSONE                           PROPRIO               NAPOLI              NAPOLI          CAMPANIA            46.000     M      FIAT - INNOCENTI    1242.00         B/GPL  44.000   2006-05-26 00:00:00        4.000           133           1305.000                   S                       S\n",
       "4591212            A   AUTOVETTURA PER TRASPORTO DI PERSONE                           PROPRIO               NAPOLI              NAPOLI          CAMPANIA            53.000     F                  OPEL    1364.00         B/GPL  66.000   2006-12-21 00:00:00        4.000           154           1810.000                   S                       S\n",
       "4591214            A   AUTOVETTURA PER TRASPORTO DI PERSONE                           PROPRIO          MERCOGLIANO            AVELLINO          CAMPANIA            27.000     F      FIAT - INNOCENTI    1242.00         B/MET  44.000   2009-03-10 00:00:00        4.000           113           1455.000                   S                       S\n",
       "4591215            A   AUTOVETTURA PER TRASPORTO DI PERSONE                           PROPRIO               NAPOLI              NAPOLI          CAMPANIA            37.000     M                  OPEL    1229.00         B/GPL  59.000   2009-03-10 00:00:00        4.000           139           1605.000                   S                       S\n",
       "4591227            A   AUTOVETTURA PER TRASPORTO DI PERSONE                           PROPRIO               NAPOLI              NAPOLI          CAMPANIA            70.000     F      FIAT - INNOCENTI    1242.00         B/MET  44.000   2009-03-10 00:00:00        4.000           113           1440.000                   S                       S\n",
       "4591233            A   AUTOVETTURA PER TRASPORTO DI PERSONE                           PROPRIO             TRAMONTI             SALERNO          CAMPANIA            54.000     M                   KIA     999.00         B/GPL  44.000   2009-03-10 00:00:00        4.000           112           1350.000                   S                       S\n",
       "4591240            A   AUTOVETTURA PER TRASPORTO DI PERSONE                           PROPRIO                SARNO             SALERNO          CAMPANIA            81.000     M      FIAT - INNOCENTI    1108.00         B/GPL  40.000   2006-05-08 00:00:00        4.000           135           1255.000                   S                       S\n",
       "4591242            A   AUTOVETTURA PER TRASPORTO DI PERSONE                           PROPRIO               NAPOLI              NAPOLI          CAMPANIA            40.000     M      FIAT - INNOCENTI    1596.00         B/MET  76.000   2005-11-28 00:00:00        4.000           161           2050.000                   S                       S\n",
       "4591244            A   AUTOVETTURA PER TRASPORTO DI PERSONE                           PROPRIO          CASAPESENNA             CASERTA          CAMPANIA            31.000     M      FIAT - INNOCENTI    1242.00         B/GPL  44.000   2005-12-29 00:00:00        4.000           133           1305.000                   S                       S\n",
       "4591248            A   AUTOVETTURA PER TRASPORTO DI PERSONE                           PROPRIO           VILLARICCA              NAPOLI          CAMPANIA            52.000     F                 MAZDA    1242.00         B/GPL  55.000   2005-10-26 00:00:00        4.000           150           1490.000                   S                       S\n",
       "\n",
       "[4259274 rows x 18 columns]"
      ]
     },
     "execution_count": 22,
     "metadata": {},
     "output_type": "execute_result"
    }
   ],
   "source": [
    "eco"
   ]
  },
  {
   "cell_type": "code",
   "execution_count": 24,
   "metadata": {},
   "outputs": [
    {
     "data": {
      "text/plain": [
       "4259274"
      ]
     },
     "execution_count": 24,
     "metadata": {},
     "output_type": "execute_result"
    }
   ],
   "source": [
    "len(eco)"
   ]
  },
  {
   "cell_type": "markdown",
   "metadata": {},
   "source": [
    "#### Salvo il dataset derivato \"auto_eco\" solo con gli autoveicoli ecologici"
   ]
  },
  {
   "cell_type": "code",
   "execution_count": 26,
   "metadata": {},
   "outputs": [],
   "source": [
    "eco.to_csv('../data/output/eco_2017.csv',sep=';', encoding='utf-8', index=False)"
   ]
  }
 ],
 "metadata": {
  "kernelspec": {
   "display_name": "Python 3",
   "language": "python",
   "name": "python3"
  },
  "language_info": {
   "codemirror_mode": {
    "name": "ipython",
    "version": 3
   },
   "file_extension": ".py",
   "mimetype": "text/x-python",
   "name": "python",
   "nbconvert_exporter": "python",
   "pygments_lexer": "ipython3",
   "version": "3.6.4"
  }
 },
 "nbformat": 4,
 "nbformat_minor": 2
}
