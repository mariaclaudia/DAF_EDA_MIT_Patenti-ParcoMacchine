{
 "cells": [
  {
   "cell_type": "markdown",
   "metadata": {},
   "source": [
    "# MIT Parco Macchine Italia\n",
    "\n",
    "## Data description and Data preparation\n",
    "\n",
    "\n",
    "Il Ministero dei Trasporti pubblica in formato aperto i dati relativi al parco macchine circolante e le patenti di guida regione per regione.\n",
    "\n",
    "\n",
    "### Parco circolante veicoli\n",
    "- [Parco Circolante](http://dati.mit.gov.it/catalog/dataset/parco-circolante-dei-veicoli)\n",
    "\n",
    "Questo dataset contiene il parco circolante dei veicoli su strada ( categorie Autoveicoli e Motoveicoli ) diviso per regione estratto dall'archivio nazionale dei veicoli gestito dalla Motorizzazione.\n",
    "\n",
    "I dati si riferiscono alla situazione del parco vetture al 31/10/2017\n",
    "\n",
    "-[Qui](http://dati.mit.gov.it/catalog/dataset/60a57c60-758c-4bd9-8d87-c286b797c289/resource/5d21aa87-a57d-42ee-b504-7da3218152be/download/metadata-parco-circolante-vetture.pdf) la scheda contenente i metadati\n",
    "\n",
    "\n",
    "### Auto Eco friendly\n",
    "Inoltre in questo notebook verrà segmentato il dataset complessivo del parco macchine sui veicoli \"Eco_friendly\" in modo da condurre un'analisi esplorativa nel notebook successivo\n",
    "\n",
    "Questo primo notebook si occupa quindi di caricare tutti i dati del parco macchine regione per regione, eseguire alcune operazioni di utilità ed infine estratte un unico dataframe con solamente le auto che appartengono alle categorie scelte.\n",
    "In particolare verrà filtrato il campo \"alimentazione\" per i seguenti valori:\n",
    "\n",
    "- 'METANO'\n",
    "- 'ELETTR'\n",
    "- 'GPL'\n",
    "- 'B/GPL'\n",
    "- 'B/MET'\n",
    "- 'IBRIDO BENZINA/ELETTRICO'\n",
    "- 'IBRIDO GASOLIO/ELETTRICO'"
   ]
  },
  {
   "cell_type": "code",
   "execution_count": 1,
   "metadata": {},
   "outputs": [],
   "source": [
    "%matplotlib inline\n",
    "import numpy as np\n",
    "import os\n",
    "import glob\n",
    "import matplotlib.pyplot as plt\n",
    "import pandas as pd\n",
    "import seaborn as sns\n",
    "pd.set_option('display.width', 500)\n",
    "pd.set_option('display.max_columns', 100)"
   ]
  },
  {
   "cell_type": "code",
   "execution_count": 2,
   "metadata": {},
   "outputs": [],
   "source": [
    "pd.set_option('display.float_format', lambda x: '%.3f' % x)"
   ]
  },
  {
   "cell_type": "code",
   "execution_count": 29,
   "metadata": {},
   "outputs": [],
   "source": [
    "# Seaborn for pairplots\n",
    "sns.set_context('talk', font_scale=1.2);"
   ]
  },
  {
   "cell_type": "markdown",
   "metadata": {},
   "source": [
    "## Parco Macchine\n",
    "### Part 1: Loading and Cleaning with Pandas - quick checks Parco macchine\n",
    "\n"
   ]
  },
  {
   "cell_type": "code",
   "execution_count": 3,
   "metadata": {},
   "outputs": [
    {
     "name": "stdout",
     "output_type": "stream",
     "text": [
      "./../data/parco/parco_circolante_Calabria.csv\n",
      "./../data/parco/parco_circolante_Molise.csv\n",
      "./../data/parco/parco_circolante_EmiliaRomagna.csv\n",
      "./../data/parco/parco_circolante_Veneto.csv\n",
      "./../data/parco/parco_circolante_Umbria.csv\n",
      "./../data/parco/parco_circolante_Sardegna.csv\n",
      "./../data/parco/parco_circolante_Liguria.csv\n",
      "./../data/parco/parco_circolante_Puglia.csv\n",
      "./../data/parco/parco_circolante_Abruzzo.csv\n",
      "./../data/parco/parco_circolante_Lazio.csv\n",
      "./../data/parco/parco_circolante_Piemonte.csv\n",
      "./../data/parco/parco_circolante_FriuliVeneziaGiulia.csv\n",
      "./../data/parco/parco_circolante_Lombardia.csv\n",
      "./../data/parco/parco_circolante_Marche.csv\n",
      "./../data/parco/parco_circolante_ValleAosta.csv\n",
      "./../data/parco/parco_circolante_Basilicata.csv\n",
      "./../data/parco/parco_circolante_Toscana.csv\n",
      "./../data/parco/parco_circolante_TrentinoAltoAdige.csv\n",
      "./../data/parco/parco_circolante_Sicilia.csv\n",
      "./../data/parco/parco_circolante_Campania.csv\n"
     ]
    },
    {
     "data": {
      "text/plain": [
       "52165189"
      ]
     },
     "execution_count": 3,
     "metadata": {},
     "output_type": "execute_result"
    }
   ],
   "source": [
    "folder_dati = \"../data/parco\"\n",
    "folder = glob.glob('./'+folder_dati+'/*.csv')\n",
    "\n",
    "list_ =[]\n",
    "for file_ in folder:\n",
    "    print (file_)\n",
    "    name = (os.path.basename(file_)).split(\".\")[0]\n",
    "    \n",
    "    #leggo il dataset originario\n",
    "    df = pd.read_csv(file_, sep=\",\", encoding=\"ISO-8859-1\", decimal=\",\",low_memory=False)\n",
    "    list_.append(df)\n",
    "parco = pd.concat(list_)\n",
    "len(parco)"
   ]
  },
  {
   "cell_type": "markdown",
   "metadata": {},
   "source": [
    "Il totale del parco macchine ammonta a **52.165.189 veicoli** (autoveicoli e motoveicoli)\n",
    "Calcola il rapporto con il numero di abitanti."
   ]
  },
  {
   "cell_type": "code",
   "execution_count": 4,
   "metadata": {},
   "outputs": [],
   "source": [
    "#Cast data_immatricolazione to datetime\n",
    "parco['data_immatricolazione'] = pd.to_datetime(parco['data_immatricolazione'])"
   ]
  },
  {
   "cell_type": "code",
   "execution_count": 5,
   "metadata": {},
   "outputs": [
    {
     "data": {
      "text/plain": [
       "id                                  int64\n",
       "progressivo                         int64\n",
       "tipo_veicolo                       object\n",
       "destinazione                       object\n",
       "uso                                object\n",
       "comune_residenza                   object\n",
       "provincia_residenza                object\n",
       "regione_residenza                  object\n",
       "eta_intestatario                  float64\n",
       "sesso                              object\n",
       "marca                              object\n",
       "cilindrata                         object\n",
       "alimentazione                      object\n",
       "kw                                float64\n",
       "data_immatricolazione      datetime64[ns]\n",
       "classe_euro                       float64\n",
       "emissioni_co2                      object\n",
       "massa_complessiva                 float64\n",
       "revisione_in_regola                object\n",
       "assicurazione_in_regola            object\n",
       "dtype: object"
      ]
     },
     "execution_count": 5,
     "metadata": {},
     "output_type": "execute_result"
    }
   ],
   "source": [
    "parco.dtypes"
   ]
  },
  {
   "cell_type": "code",
   "execution_count": 7,
   "metadata": {},
   "outputs": [
    {
     "name": "stdout",
     "output_type": "stream",
     "text": [
      "(52165189, 20)\n"
     ]
    }
   ],
   "source": [
    "print(parco.shape)"
   ]
  },
  {
   "cell_type": "code",
   "execution_count": 6,
   "metadata": {},
   "outputs": [
    {
     "data": {
      "text/html": [
       "<div>\n",
       "<style scoped>\n",
       "    .dataframe tbody tr th:only-of-type {\n",
       "        vertical-align: middle;\n",
       "    }\n",
       "\n",
       "    .dataframe tbody tr th {\n",
       "        vertical-align: top;\n",
       "    }\n",
       "\n",
       "    .dataframe thead th {\n",
       "        text-align: right;\n",
       "    }\n",
       "</style>\n",
       "<table border=\"1\" class=\"dataframe\">\n",
       "  <thead>\n",
       "    <tr style=\"text-align: right;\">\n",
       "      <th></th>\n",
       "      <th>id</th>\n",
       "      <th>progressivo</th>\n",
       "      <th>tipo_veicolo</th>\n",
       "      <th>destinazione</th>\n",
       "      <th>uso</th>\n",
       "      <th>comune_residenza</th>\n",
       "      <th>provincia_residenza</th>\n",
       "      <th>regione_residenza</th>\n",
       "      <th>eta_intestatario</th>\n",
       "      <th>sesso</th>\n",
       "      <th>marca</th>\n",
       "      <th>cilindrata</th>\n",
       "      <th>alimentazione</th>\n",
       "      <th>kw</th>\n",
       "      <th>data_immatricolazione</th>\n",
       "      <th>classe_euro</th>\n",
       "      <th>emissioni_co2</th>\n",
       "      <th>massa_complessiva</th>\n",
       "      <th>revisione_in_regola</th>\n",
       "      <th>assicurazione_in_regola</th>\n",
       "    </tr>\n",
       "  </thead>\n",
       "  <tbody>\n",
       "    <tr>\n",
       "      <th>0</th>\n",
       "      <td>1647312</td>\n",
       "      <td>124592</td>\n",
       "      <td>A</td>\n",
       "      <td>AUTOVETTURA PER TRASPORTO DI PERSONE</td>\n",
       "      <td>PROPRIO</td>\n",
       "      <td>ZUMPANO</td>\n",
       "      <td>COSENZA</td>\n",
       "      <td>CALABRIA</td>\n",
       "      <td>65.000</td>\n",
       "      <td>M</td>\n",
       "      <td>NaN</td>\n",
       "      <td>1990.00</td>\n",
       "      <td>BENZ</td>\n",
       "      <td>96.000</td>\n",
       "      <td>1974-01-01</td>\n",
       "      <td>0.000</td>\n",
       "      <td>NaN</td>\n",
       "      <td>1390.000</td>\n",
       "      <td>N</td>\n",
       "      <td>N</td>\n",
       "    </tr>\n",
       "    <tr>\n",
       "      <th>1</th>\n",
       "      <td>1647313</td>\n",
       "      <td>139878</td>\n",
       "      <td>M</td>\n",
       "      <td>TRICICLO PER TRASPORTO COSE</td>\n",
       "      <td>PROPRIO</td>\n",
       "      <td>MELICUCCO</td>\n",
       "      <td>REGGIO DI CALABRIA</td>\n",
       "      <td>CALABRIA</td>\n",
       "      <td>85.000</td>\n",
       "      <td>M</td>\n",
       "      <td>NaN</td>\n",
       "      <td>218.00</td>\n",
       "      <td>B/OLIO</td>\n",
       "      <td>8.000</td>\n",
       "      <td>NaT</td>\n",
       "      <td>0.000</td>\n",
       "      <td>NaN</td>\n",
       "      <td>1160.000</td>\n",
       "      <td>N</td>\n",
       "      <td>S</td>\n",
       "    </tr>\n",
       "    <tr>\n",
       "      <th>2</th>\n",
       "      <td>1647314</td>\n",
       "      <td>184563</td>\n",
       "      <td>M</td>\n",
       "      <td>MOTOCICLO PER TRASPORTO PERSONE</td>\n",
       "      <td>PROPRIO</td>\n",
       "      <td>CROTONE</td>\n",
       "      <td>CROTONE</td>\n",
       "      <td>CALABRIA</td>\n",
       "      <td>51.000</td>\n",
       "      <td>M</td>\n",
       "      <td>NaN</td>\n",
       "      <td>903.00</td>\n",
       "      <td>BENZ</td>\n",
       "      <td>56.000</td>\n",
       "      <td>1976-01-01</td>\n",
       "      <td>0.000</td>\n",
       "      <td>NaN</td>\n",
       "      <td>nan</td>\n",
       "      <td>S</td>\n",
       "      <td>S</td>\n",
       "    </tr>\n",
       "    <tr>\n",
       "      <th>3</th>\n",
       "      <td>1647363</td>\n",
       "      <td>957766</td>\n",
       "      <td>A</td>\n",
       "      <td>AUTOCARRO PER TRASPORTO DI COSE</td>\n",
       "      <td>PROPRIO</td>\n",
       "      <td>RENDE</td>\n",
       "      <td>COSENZA</td>\n",
       "      <td>CALABRIA</td>\n",
       "      <td>46.000</td>\n",
       "      <td>M</td>\n",
       "      <td>OPEL</td>\n",
       "      <td>1995.00</td>\n",
       "      <td>GASOL</td>\n",
       "      <td>84.000</td>\n",
       "      <td>2009-02-16</td>\n",
       "      <td>4.000</td>\n",
       "      <td>NaN</td>\n",
       "      <td>2770.000</td>\n",
       "      <td>N</td>\n",
       "      <td>N</td>\n",
       "    </tr>\n",
       "    <tr>\n",
       "      <th>4</th>\n",
       "      <td>1647602</td>\n",
       "      <td>4068491</td>\n",
       "      <td>A</td>\n",
       "      <td>AUTOCARRO PER TRASPORTO DI COSE</td>\n",
       "      <td>PROPRIO</td>\n",
       "      <td>CUTRO</td>\n",
       "      <td>CROTONE</td>\n",
       "      <td>CALABRIA</td>\n",
       "      <td>30.000</td>\n",
       "      <td>M</td>\n",
       "      <td>NaN</td>\n",
       "      <td>3455.00</td>\n",
       "      <td>GASOL</td>\n",
       "      <td>60.000</td>\n",
       "      <td>1976-01-01</td>\n",
       "      <td>0.000</td>\n",
       "      <td>NaN</td>\n",
       "      <td>3500.000</td>\n",
       "      <td>S</td>\n",
       "      <td>S</td>\n",
       "    </tr>\n",
       "  </tbody>\n",
       "</table>\n",
       "</div>"
      ],
      "text/plain": [
       "        id  progressivo tipo_veicolo                          destinazione      uso comune_residenza provincia_residenza regione_residenza  eta_intestatario sesso marca cilindrata alimentazione     kw data_immatricolazione  classe_euro emissioni_co2  massa_complessiva revisione_in_regola assicurazione_in_regola\n",
       "0  1647312       124592            A  AUTOVETTURA PER TRASPORTO DI PERSONE  PROPRIO          ZUMPANO             COSENZA          CALABRIA            65.000     M   NaN    1990.00          BENZ 96.000            1974-01-01        0.000           NaN           1390.000                   N                       N\n",
       "1  1647313       139878            M           TRICICLO PER TRASPORTO COSE  PROPRIO        MELICUCCO  REGGIO DI CALABRIA          CALABRIA            85.000     M   NaN     218.00        B/OLIO  8.000                   NaT        0.000           NaN           1160.000                   N                       S\n",
       "2  1647314       184563            M       MOTOCICLO PER TRASPORTO PERSONE  PROPRIO          CROTONE             CROTONE          CALABRIA            51.000     M   NaN     903.00          BENZ 56.000            1976-01-01        0.000           NaN                nan                   S                       S\n",
       "3  1647363       957766            A       AUTOCARRO PER TRASPORTO DI COSE  PROPRIO            RENDE             COSENZA          CALABRIA            46.000     M  OPEL    1995.00         GASOL 84.000            2009-02-16        4.000           NaN           2770.000                   N                       N\n",
       "4  1647602      4068491            A       AUTOCARRO PER TRASPORTO DI COSE  PROPRIO            CUTRO             CROTONE          CALABRIA            30.000     M   NaN    3455.00         GASOL 60.000            1976-01-01        0.000           NaN           3500.000                   S                       S"
      ]
     },
     "execution_count": 6,
     "metadata": {},
     "output_type": "execute_result"
    }
   ],
   "source": [
    "parco.head(5)"
   ]
  },
  {
   "cell_type": "code",
   "execution_count": 8,
   "metadata": {},
   "outputs": [
    {
     "data": {
      "text/html": [
       "<div>\n",
       "<style scoped>\n",
       "    .dataframe tbody tr th:only-of-type {\n",
       "        vertical-align: middle;\n",
       "    }\n",
       "\n",
       "    .dataframe tbody tr th {\n",
       "        vertical-align: top;\n",
       "    }\n",
       "\n",
       "    .dataframe thead th {\n",
       "        text-align: right;\n",
       "    }\n",
       "</style>\n",
       "<table border=\"1\" class=\"dataframe\">\n",
       "  <thead>\n",
       "    <tr style=\"text-align: right;\">\n",
       "      <th></th>\n",
       "      <th>id</th>\n",
       "      <th>progressivo</th>\n",
       "      <th>eta_intestatario</th>\n",
       "      <th>kw</th>\n",
       "      <th>classe_euro</th>\n",
       "      <th>massa_complessiva</th>\n",
       "    </tr>\n",
       "  </thead>\n",
       "  <tbody>\n",
       "    <tr>\n",
       "      <th>count</th>\n",
       "      <td>52165189.000</td>\n",
       "      <td>52165189.000</td>\n",
       "      <td>46312796.000</td>\n",
       "      <td>52116408.000</td>\n",
       "      <td>52165175.000</td>\n",
       "      <td>51906600.000</td>\n",
       "    </tr>\n",
       "    <tr>\n",
       "      <th>mean</th>\n",
       "      <td>26082595.000</td>\n",
       "      <td>26082595.000</td>\n",
       "      <td>53.726</td>\n",
       "      <td>65.268</td>\n",
       "      <td>3.240</td>\n",
       "      <td>1808.169</td>\n",
       "    </tr>\n",
       "    <tr>\n",
       "      <th>std</th>\n",
       "      <td>15058793.100</td>\n",
       "      <td>15058793.100</td>\n",
       "      <td>14.639</td>\n",
       "      <td>40.385</td>\n",
       "      <td>1.786</td>\n",
       "      <td>2268.266</td>\n",
       "    </tr>\n",
       "    <tr>\n",
       "      <th>min</th>\n",
       "      <td>1.000</td>\n",
       "      <td>1.000</td>\n",
       "      <td>0.000</td>\n",
       "      <td>0.000</td>\n",
       "      <td>0.000</td>\n",
       "      <td>0.000</td>\n",
       "    </tr>\n",
       "    <tr>\n",
       "      <th>25%</th>\n",
       "      <td>13041298.000</td>\n",
       "      <td>13041298.000</td>\n",
       "      <td>43.000</td>\n",
       "      <td>44.000</td>\n",
       "      <td>2.000</td>\n",
       "      <td>1305.000</td>\n",
       "    </tr>\n",
       "    <tr>\n",
       "      <th>50%</th>\n",
       "      <td>26082595.000</td>\n",
       "      <td>26082595.000</td>\n",
       "      <td>53.000</td>\n",
       "      <td>57.000</td>\n",
       "      <td>4.000</td>\n",
       "      <td>1560.000</td>\n",
       "    </tr>\n",
       "    <tr>\n",
       "      <th>75%</th>\n",
       "      <td>39123892.000</td>\n",
       "      <td>39123892.000</td>\n",
       "      <td>64.000</td>\n",
       "      <td>81.000</td>\n",
       "      <td>5.000</td>\n",
       "      <td>1885.000</td>\n",
       "    </tr>\n",
       "    <tr>\n",
       "      <th>max</th>\n",
       "      <td>52165189.000</td>\n",
       "      <td>52165189.000</td>\n",
       "      <td>2017.000</td>\n",
       "      <td>1000.000</td>\n",
       "      <td>6.000</td>\n",
       "      <td>99999.000</td>\n",
       "    </tr>\n",
       "  </tbody>\n",
       "</table>\n",
       "</div>"
      ],
      "text/plain": [
       "                id  progressivo  eta_intestatario           kw  classe_euro  massa_complessiva\n",
       "count 52165189.000 52165189.000      46312796.000 52116408.000 52165175.000       51906600.000\n",
       "mean  26082595.000 26082595.000            53.726       65.268        3.240           1808.169\n",
       "std   15058793.100 15058793.100            14.639       40.385        1.786           2268.266\n",
       "min          1.000        1.000             0.000        0.000        0.000              0.000\n",
       "25%   13041298.000 13041298.000            43.000       44.000        2.000           1305.000\n",
       "50%   26082595.000 26082595.000            53.000       57.000        4.000           1560.000\n",
       "75%   39123892.000 39123892.000            64.000       81.000        5.000           1885.000\n",
       "max   52165189.000 52165189.000          2017.000     1000.000        6.000          99999.000"
      ]
     },
     "execution_count": 8,
     "metadata": {},
     "output_type": "execute_result"
    }
   ],
   "source": [
    "parco.describe()"
   ]
  },
  {
   "cell_type": "markdown",
   "metadata": {},
   "source": [
    "#### Check Valori nulli nel DataFrame Parco macchine completo"
   ]
  },
  {
   "cell_type": "code",
   "execution_count": 9,
   "metadata": {},
   "outputs": [
    {
     "data": {
      "text/plain": [
       "id                                0\n",
       "progressivo                       0\n",
       "tipo_veicolo                      0\n",
       "destinazione                  31003\n",
       "uso                           31043\n",
       "comune_residenza              17731\n",
       "provincia_residenza               0\n",
       "regione_residenza                 0\n",
       "eta_intestatario            5852393\n",
       "sesso                       6144681\n",
       "marca                       2946408\n",
       "cilindrata                    69755\n",
       "alimentazione                 48578\n",
       "kw                            48781\n",
       "data_immatricolazione        134237\n",
       "classe_euro                      14\n",
       "emissioni_co2              18866494\n",
       "massa_complessiva            258589\n",
       "revisione_in_regola               0\n",
       "assicurazione_in_regola           0\n",
       "dtype: int64"
      ]
     },
     "execution_count": 9,
     "metadata": {},
     "output_type": "execute_result"
    }
   ],
   "source": [
    "parco.isnull().sum()"
   ]
  },
  {
   "cell_type": "markdown",
   "metadata": {},
   "source": [
    "### Seziono il campo tipo_veicolo, solo su autoveicoli:"
   ]
  },
  {
   "cell_type": "code",
   "execution_count": 45,
   "metadata": {},
   "outputs": [
    {
     "data": {
      "text/plain": [
       "A    44961663\n",
       "M     7203526\n",
       "Name: tipo_veicolo, dtype: int64"
      ]
     },
     "execution_count": 45,
     "metadata": {},
     "output_type": "execute_result"
    }
   ],
   "source": [
    "parco.tipo_veicolo.value_counts()"
   ]
  },
  {
   "cell_type": "code",
   "execution_count": null,
   "metadata": {},
   "outputs": [],
   "source": [
    "auto = parco[parco.tipo_veicolo==\"A\"]"
   ]
  },
  {
   "cell_type": "code",
   "execution_count": 88,
   "metadata": {},
   "outputs": [
    {
     "data": {
      "text/plain": [
       "44961663"
      ]
     },
     "execution_count": 88,
     "metadata": {},
     "output_type": "execute_result"
    }
   ],
   "source": [
    "len(auto)"
   ]
  },
  {
   "cell_type": "markdown",
   "metadata": {},
   "source": [
    "## Focus Auto ecologiche\n",
    "\n",
    "#### Strip campo \"alimentazione\""
   ]
  },
  {
   "cell_type": "code",
   "execution_count": 10,
   "metadata": {},
   "outputs": [],
   "source": [
    "parco.alimentazione = parco.alimentazione.str.strip()"
   ]
  },
  {
   "cell_type": "markdown",
   "metadata": {},
   "source": [
    "#### Definisco i valori del campo alimentazioni classificati come auto \"ecologiche\""
   ]
  },
  {
   "cell_type": "code",
   "execution_count": 11,
   "metadata": {},
   "outputs": [],
   "source": [
    "eco_labels = ['METANO',\n",
    "              'ELETTR',\n",
    "              'GPL',\n",
    "              'B/GPL',\n",
    "              'B/MET',\n",
    "              'IBRIDO BENZINA/ELETTRICO',\n",
    "              'IBRIDO GASOLIO/ELETTRICO']"
   ]
  },
  {
   "cell_type": "markdown",
   "metadata": {},
   "source": [
    "#### ECO = dataframe con sottoinsieme di parco macchine eco\n",
    "##### Seziono su eco_labels l'interno parco macchine, comprensivo sia di autoveicoli che motoveicoli\n",
    "\n",
    "(A = Autoveicolo, M = Motoveicolo)"
   ]
  },
  {
   "cell_type": "code",
   "execution_count": 13,
   "metadata": {},
   "outputs": [],
   "source": [
    "eco = parco.loc[parco['alimentazione'].isin(eco_labels)]"
   ]
  },
  {
   "cell_type": "code",
   "execution_count": 15,
   "metadata": {},
   "outputs": [
    {
     "data": {
      "text/plain": [
       "'52165189 veicoli totali - 4259274 veicoli ecologici'"
      ]
     },
     "execution_count": 15,
     "metadata": {},
     "output_type": "execute_result"
    }
   ],
   "source": [
    "str(len(parco))+ \" veicoli totali - \" +str(len(eco)) +\" veicoli ecologici\""
   ]
  },
  {
   "cell_type": "code",
   "execution_count": 17,
   "metadata": {},
   "outputs": [
    {
     "data": {
      "text/plain": [
       "A    4247580\n",
       "M      11694\n",
       "Name: tipo_veicolo, dtype: int64"
      ]
     },
     "execution_count": 17,
     "metadata": {},
     "output_type": "execute_result"
    }
   ],
   "source": [
    "eco.tipo_veicolo.value_counts()"
   ]
  },
  {
   "cell_type": "code",
   "execution_count": 18,
   "metadata": {},
   "outputs": [
    {
     "data": {
      "text/plain": [
       "'Percentuale autoveicoli ecologici: 8.16'"
      ]
     },
     "execution_count": 18,
     "metadata": {},
     "output_type": "execute_result"
    }
   ],
   "source": [
    "\"Percentuale autoveicoli ecologici: \" +str(round(len(eco)/len(parco)*100,2))"
   ]
  },
  {
   "cell_type": "markdown",
   "metadata": {},
   "source": [
    "#### Salvo il dataset derivato \"auto_eco\" solo con gli autoveicoli ecologici"
   ]
  },
  {
   "cell_type": "code",
   "execution_count": 19,
   "metadata": {},
   "outputs": [],
   "source": [
    "eco.to_csv('../data/output/veicoli_eco.csv',sep='\\t', encoding='utf-8', index=False)"
   ]
  },
  {
   "cell_type": "markdown",
   "metadata": {},
   "source": [
    "### EDA - Global properties "
   ]
  },
  {
   "cell_type": "code",
   "execution_count": null,
   "metadata": {},
   "outputs": [],
   "source": [
    "auto.data_immatricolazione.describe()"
   ]
  },
  {
   "cell_type": "code",
   "execution_count": 16,
   "metadata": {},
   "outputs": [
    {
     "data": {
      "text/plain": [
       "count    4.631280e+07\n",
       "mean     5.372625e+01\n",
       "std      1.463911e+01\n",
       "min      0.000000e+00\n",
       "25%      4.300000e+01\n",
       "50%      5.300000e+01\n",
       "75%      6.400000e+01\n",
       "max      2.017000e+03\n",
       "Name: eta_intestatario, dtype: float64"
      ]
     },
     "execution_count": 16,
     "metadata": {},
     "output_type": "execute_result"
    }
   ],
   "source": [
    "auto['eta_intestatario'].describe()"
   ]
  },
  {
   "cell_type": "code",
   "execution_count": null,
   "metadata": {},
   "outputs": [],
   "source": [
    "#SEt data immatricolazione as index\n",
    "auto = auto.set_index('data_immatricolazione')"
   ]
  },
  {
   "cell_type": "code",
   "execution_count": 37,
   "metadata": {},
   "outputs": [],
   "source": [
    "# ci sono delle stagionalità sulle immatricolazioni?\n",
    "monthly = auto.resample(rule='M').count()"
   ]
  },
  {
   "cell_type": "code",
   "execution_count": 43,
   "metadata": {},
   "outputs": [
    {
     "name": "stdout",
     "output_type": "stream",
     "text": [
      "total  0.0006182193756103516\n"
     ]
    }
   ],
   "source": [
    "from time import time\n",
    "t = time()\n",
    "auto.head()\n",
    "final = time() - t\n",
    "print(\"total \", final)"
   ]
  },
  {
   "cell_type": "code",
   "execution_count": 46,
   "metadata": {},
   "outputs": [],
   "source": [
    "auto = parco[parco.tipo_veicolo=='A']"
   ]
  },
  {
   "cell_type": "code",
   "execution_count": 47,
   "metadata": {},
   "outputs": [
    {
     "data": {
      "text/plain": [
       "44961663"
      ]
     },
     "execution_count": 47,
     "metadata": {},
     "output_type": "execute_result"
    }
   ],
   "source": [
    "len(auto)"
   ]
  },
  {
   "cell_type": "markdown",
   "metadata": {},
   "source": [
    "Sono 44.961.663 gli autoveicoli immatricolati nel nostro paese al 31 ottobre 2017.\n",
    "Considerando che la popolazione italiana si stima essere 60.905.976 abitanti (al 21 ottobre 2016), "
   ]
  },
  {
   "cell_type": "code",
   "execution_count": 48,
   "metadata": {},
   "outputs": [
    {
     "data": {
      "image/png": "[encoded data removed]",
      "text/plain": [
       "<Figure size 432x288 with 1 Axes>"
      ]
     },
     "metadata": {},
     "output_type": "display_data"
    }
   ],
   "source": [
    "#Generate histograms \n",
    "\n",
    "auto.eta_intestatario.hist(bins=200)\n",
    "plt.xlabel('tipo veicolo')\n",
    "plt.ylabel('Frequency')\n",
    "plt.title('Number of cars - tipo veicolo');\n",
    "\n",
    "plt.show();"
   ]
  },
  {
   "cell_type": "code",
   "execution_count": 59,
   "metadata": {},
   "outputs": [
    {
     "data": {
      "text/plain": [
       "AUTOVETTURA PER TRASPORTO DI PERSONE                     39161407\n",
       "AUTOCARRO PER TRASPORTO DI COSE                           4151272\n",
       "AUTOVEIC.TRASP.PROMISCUO PERSONE/COSE                      601596\n",
       "AUTOCARAVAN                                                279698\n",
       "AUTOVEICOLO PER TRASPORTO SPECIFICO                        274121\n",
       "AUTOVEICOLO PER USO SPECIALE                               193042\n",
       "TRATTORE PER SEMIRIMORCHIO                                 167726\n",
       "AUTOBUS PER TRASPORTO DI PERSONE                            96479\n",
       "AUTOVEICOLO USO ESCLUSIVO DI POLIZIA                         7849\n",
       "TRAS.SPECIFICO PERSONE PART.CONDIZIONI                       4964\n",
       "TRATTORE STRADALE PER RIMORCHIO                               488\n",
       "AUTOVEICOLO IN SERVIZIO PUBBLICO DI LINEA INTEGRATIVO         346\n",
       "VEICOLO SPECIALE USO AUTOSCUOLA                                77\n",
       "AUTOVEICOLO PER USO SPECIALE DELLA POLIZIA LOCALE              29\n",
       "Name: destinazione, dtype: int64"
      ]
     },
     "execution_count": 59,
     "metadata": {},
     "output_type": "execute_result"
    }
   ],
   "source": [
    "auto.destinazione.value_counts()"
   ]
  },
  {
   "cell_type": "code",
   "execution_count": 60,
   "metadata": {},
   "outputs": [
    {
     "data": {
      "text/plain": [
       "PROPRIO                                  43152207\n",
       "DI TERZI DA LOCARE SENZA CONDUC.          1150721\n",
       "DI TERZI CON AUTORIZZAZIONE LIBERA         279608\n",
       "DI TERZI CON AUTORIZZAZIONI VINCOLATE      212676\n",
       "DI TERZI                                    80883\n",
       "DI TERZI DA NOLEGGIO CON CONDUC.            58698\n",
       "USO SPECIALE                                 4277\n",
       "PRIV.,LOCAZIONE FAC. COMPERA                    4\n",
       "Name: uso, dtype: int64"
      ]
     },
     "execution_count": 60,
     "metadata": {},
     "output_type": "execute_result"
    }
   ],
   "source": [
    "auto.uso.value_counts()"
   ]
  },
  {
   "cell_type": "code",
   "execution_count": 61,
   "metadata": {},
   "outputs": [
    {
     "data": {
      "text/plain": [
       "FIAT - INNOCENTI                                                11775799\n",
       "FORD                                                             3165904\n",
       "VOLKSWAGEN                                                       2970088\n",
       "OPEL                                                             2461750\n",
       "RENAULT                                                          2374495\n",
       "LANCIA - AUTOBIANCHI                                             1984163\n",
       "PEUGEOT                                                          1820632\n",
       "CITROEN                                                          1753210\n",
       "MERCEDES                                                         1710339\n",
       "TOYOTA                                                           1598468\n",
       "ALFA ROMEO                                                       1228028\n",
       "NISSAN                                                           1201664\n",
       "AUDI                                                             1149314\n",
       "IVECO - FIAT                                                      994697\n",
       "BMW                                                               990227\n",
       "HYUNDAI                                                           712793\n",
       "SMART                                                             560677\n",
       "SUZUKI                                                            554113\n",
       "CHEVROLET                                                         464975\n",
       "KIA                                                               435307\n",
       "SEAT                                                              433438\n",
       "CHRYSLER                                                          331630\n",
       "DACIA                                                             328074\n",
       "VOLVO                                                             327980\n",
       "MINI                                                              309537\n",
       "MITSUBISHI                                                        289260\n",
       "LAND ROVER                                                        280976\n",
       "SKODA                                                             238609\n",
       "HONDA                                                             224891\n",
       "MAZDA                                                             172919\n",
       "                                                                  ...   \n",
       "BUICK                                                                 89\n",
       "GOES                                                                  35\n",
       "MARUTI                                                                29\n",
       "MV AGUSTA - CAGIVA - HUSQVARNA                                        16\n",
       "ELLEBI                                                                16\n",
       "CARGOBULL                                                             13\n",
       "DE TOMASO                                                             13\n",
       "CAMPER MONOSCOCCA S.R.L.                                              13\n",
       "LANCIA - AUTOBIANCHI                                                  12\n",
       "KAWASAKI                                                              12\n",
       "KTM                                                                   12\n",
       "MALAGUTI                                                              10\n",
       "SEA                                                                    8\n",
       "AUTOSAN                                                                7\n",
       "MICROCAR                                                               7\n",
       "KYMCO                                                                  7\n",
       "PIACENZA                                                               4\n",
       "ADRIA MOBIL                                                            4\n",
       "BENELLI                                                                3\n",
       "AIXAM MEGA                                                             3\n",
       "PIACENZA                                                               2\n",
       "DRESEL MOTORCYCLETRADING GMBH & CO.KG                                  2\n",
       "TRIUMPH                                                                2\n",
       "BIGA'                                                                  2\n",
       "FIAT - INNOCENTI                                                       1\n",
       "BIMOTA                                                                 1\n",
       "MAGGIORA                                                               1\n",
       "LML ITALIA                                                             1\n",
       "TRIGANO                                                                1\n",
       "INDUSTRIE RIMORCHI VERONA                                              1\n",
       "Name: marca, Length: 108, dtype: int64"
      ]
     },
     "execution_count": 61,
     "metadata": {},
     "output_type": "execute_result"
    }
   ],
   "source": [
    "auto.marca.value_counts()"
   ]
  },
  {
   "cell_type": "code",
   "execution_count": 52,
   "metadata": {},
   "outputs": [],
   "source": [
    "tesla = parco[parco.marca==\"TESLA MOTORS\"]"
   ]
  },
  {
   "cell_type": "code",
   "execution_count": 54,
   "metadata": {},
   "outputs": [
    {
     "data": {
      "text/plain": [
       "648"
      ]
     },
     "execution_count": 54,
     "metadata": {},
     "output_type": "execute_result"
    }
   ],
   "source": [
    "len(tesla)"
   ]
  },
  {
   "cell_type": "code",
   "execution_count": null,
   "metadata": {},
   "outputs": [],
   "source": [
    "auto_green = "
   ]
  },
  {
   "cell_type": "code",
   "execution_count": null,
   "metadata": {},
   "outputs": [],
   "source": [
    "parco.sesso.value_counts()"
   ]
  },
  {
   "cell_type": "code",
   "execution_count": 5,
   "metadata": {},
   "outputs": [
    {
     "data": {
      "text/plain": [
       "LOMBARDIA                8214282\n",
       "LAZIO                    5341091\n",
       "CAMPANIA                 4591254\n",
       "SICILIA                  4487250\n",
       "VENETO                   4052513\n",
       "EMILIA-ROMAGNA           3859415\n",
       "PIEMONTE                 3858373\n",
       "TOSCANA                  3499371\n",
       "PUGLIA                   3050018\n",
       "CALABRIA                 1631868\n",
       "TRENTINO-ALTO-ADIGE      1397194\n",
       "LIGURIA                  1383184\n",
       "MARCHE                   1379921\n",
       "SARDEGNA                 1363193\n",
       "ABRUZZO                  1170438\n",
       "FRIULI-VENEZIA_GIULIA    1042494\n",
       "UMBRIA                    824464\n",
       "BASILICATA                476862\n",
       "MOLISE                    289473\n",
       "VALLE-D'AOSTA             252531\n",
       "Name: regione_residenza, dtype: int64"
      ]
     },
     "execution_count": 5,
     "metadata": {},
     "output_type": "execute_result"
    }
   ],
   "source": [
    "parco.regione_residenza.value_counts()"
   ]
  },
  {
   "cell_type": "code",
   "execution_count": null,
   "metadata": {},
   "outputs": [],
   "source": [
    "parco.destinazione.value_counts()"
   ]
  },
  {
   "cell_type": "markdown",
   "metadata": {},
   "source": [
    "### Campi di interesse Parco Macchine: \n",
    "\n",
    "- revisione_in_regola, \n",
    "\n",
    "- assicurazione_in_regola      "
   ]
  },
  {
   "cell_type": "code",
   "execution_count": 4,
   "metadata": {},
   "outputs": [
    {
     "data": {
      "text/plain": [
       "S    39096194\n",
       "N    13068995\n",
       "Name: revisione_in_regola, dtype: int64"
      ]
     },
     "execution_count": 4,
     "metadata": {},
     "output_type": "execute_result"
    }
   ],
   "source": [
    "parco.revisione_in_regola.value_counts()"
   ]
  },
  {
   "cell_type": "code",
   "execution_count": 3,
   "metadata": {},
   "outputs": [
    {
     "data": {
      "text/plain": [
       "S    38151309\n",
       "N    14013880\n",
       "Name: assicurazione_in_regola, dtype: int64"
      ]
     },
     "execution_count": 3,
     "metadata": {},
     "output_type": "execute_result"
    }
   ],
   "source": [
    "parco.assicurazione_in_regola.value_counts()"
   ]
  },
  {
   "cell_type": "code",
   "execution_count": null,
   "metadata": {},
   "outputs": [],
   "source": [
    "##\n",
    "- Dove si trovano le auto con le revisioni da effettuare?\n",
    "- Dove si trovano le auto con l'assicurazione da affettuare?\n",
    "- Fare normalizzazione tra abitanti e veicoli\n",
    "- vedere quali sono le regioni più inquinanti rapporttate con abitanti?"
   ]
  },
  {
   "cell_type": "code",
   "execution_count": null,
   "metadata": {},
   "outputs": [],
   "source": []
  }
 ],
 "metadata": {
  "kernelspec": {
   "display_name": "Python 3",
   "language": "python",
   "name": "python3"
  },
  "language_info": {
   "codemirror_mode": {
    "name": "ipython",
    "version": 3
   },
   "file_extension": ".py",
   "mimetype": "text/x-python",
   "name": "python",
   "nbconvert_exporter": "python",
   "pygments_lexer": "ipython3",
   "version": "3.6.4"
  }
 },
 "nbformat": 4,
 "nbformat_minor": 2
}
