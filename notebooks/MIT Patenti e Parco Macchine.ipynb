{
 "cells": [
  {
   "cell_type": "markdown",
   "metadata": {},
   "source": [
    "# MIT Patenti e Parco Macchine\n",
    "\n",
    "\n",
    "Il Ministero dei Trasporti pubblica in formato aperto i dati relativi al parco macchine circolante e le patenti di guida regione per regione.\n",
    "\n",
    "### Parco circolante\n",
    "- [Parco Circolante](http://dati.mit.gov.it/catalog/dataset/parco-circolante-dei-veicoli)\n",
    "\n",
    "Questo dataset contiene il parco circolante dei veicoli su strada ( categorie Autoveicoli e Motoveicoli ) diviso per regione estratto dall'archivio nazionale dei veicoli gestito dalla Motorizzazione.\n",
    "\n",
    "Attenzione: Data la grande mole di dati l'anteprima delle risorse, a seconda della connessione e del traffico sul server, può richiedere anche alcuni minuti.\n",
    "\n",
    "I dati si riferiscono alla situazione del parco vetture al 31/10/2017\n",
    "\n",
    "### Patenti di guida\n",
    "\n",
    "- [Patenti di guida](http://dati.mit.gov.it/catalog/dataset/patenti)\n",
    "\n",
    "Descrizione: Il dataset contiene l'elenco delle patenti di guida attive, ossia delle autorizzazioni amministrative alla guida di autoveicoli e motoveicoli, provenienti dall'archivio nazionale abilitati alla guida su strada gestito dalla Motorizzazione.\n",
    "\n",
    "Attenzione: Data la grande mole di dati l'anteprima delle risorse, a seconda della connessione e del traffico sul server, può richiedere anche alcuni minuti.\n",
    "\n",
    "I dati si riferiscono alla situazione dell'archivio dei conducenti al 26/05/2017\n"
   ]
  },
  {
   "cell_type": "code",
   "execution_count": 1,
   "metadata": {},
   "outputs": [],
   "source": [
    "import pandas as pd\n",
    "import os\n",
    "import glob"
   ]
  },
  {
   "cell_type": "markdown",
   "metadata": {},
   "source": [
    "## Patenti"
   ]
  },
  {
   "cell_type": "code",
   "execution_count": 3,
   "metadata": {},
   "outputs": [
    {
     "name": "stdout",
     "output_type": "stream",
     "text": [
      "./../data/patenti/patenti_Molise.csv\n",
      "./../data/patenti/patenti_ValleAosta.csv\n"
     ]
    },
    {
     "data": {
      "text/plain": [
       "286166"
      ]
     },
     "execution_count": 3,
     "metadata": {},
     "output_type": "execute_result"
    }
   ],
   "source": [
    "folder_dati = \"../data/patenti\"\n",
    "folder = glob.glob('./'+folder_dati+'/*.csv')\n",
    "\n",
    "list_ =[]\n",
    "for file_ in folder:\n",
    "    print (file_)\n",
    "    name = (os.path.basename(file_)).split(\".\")[0]\n",
    "    \n",
    "    #leggo il dataset originario\n",
    "    df = pd.read_csv(file_, sep=\",\", encoding=\"ISO-8859-1\", decimal=\",\",low_memory=False)\n",
    "    list_.append(df)\n",
    "patenti = pd.concat(list_)\n",
    "len(patenti)"
   ]
  },
  {
   "cell_type": "code",
   "execution_count": 14,
   "metadata": {},
   "outputs": [
    {
     "data": {
      "text/plain": [
       "id                               int64\n",
       "anno_nascita                   float64\n",
       "comune_residenza                object\n",
       "provincia_residenza             object\n",
       "regione_residenza               object\n",
       "stato_estero_nascita            object\n",
       "sesso                           object\n",
       "categoria_patente               object\n",
       "data_rilascio                   object\n",
       "abilitato_a                     object\n",
       "data_abilitazione_a             object\n",
       "data_scadenza                   object\n",
       "stato_estero_primo_rilascio     object\n",
       "punti_patente                    int64\n",
       "dtype: object"
      ]
     },
     "execution_count": 14,
     "metadata": {},
     "output_type": "execute_result"
    }
   ],
   "source": [
    "patenti.dtypes"
   ]
  },
  {
   "cell_type": "code",
   "execution_count": 15,
   "metadata": {},
   "outputs": [
    {
     "data": {
      "text/html": [
       "<div>\n",
       "<style scoped>\n",
       "    .dataframe tbody tr th:only-of-type {\n",
       "        vertical-align: middle;\n",
       "    }\n",
       "\n",
       "    .dataframe tbody tr th {\n",
       "        vertical-align: top;\n",
       "    }\n",
       "\n",
       "    .dataframe thead th {\n",
       "        text-align: right;\n",
       "    }\n",
       "</style>\n",
       "<table border=\"1\" class=\"dataframe\">\n",
       "  <thead>\n",
       "    <tr style=\"text-align: right;\">\n",
       "      <th></th>\n",
       "      <th>id</th>\n",
       "      <th>anno_nascita</th>\n",
       "      <th>comune_residenza</th>\n",
       "      <th>provincia_residenza</th>\n",
       "      <th>regione_residenza</th>\n",
       "      <th>stato_estero_nascita</th>\n",
       "      <th>sesso</th>\n",
       "      <th>categoria_patente</th>\n",
       "      <th>data_rilascio</th>\n",
       "      <th>abilitato_a</th>\n",
       "      <th>data_abilitazione_a</th>\n",
       "      <th>data_scadenza</th>\n",
       "      <th>stato_estero_primo_rilascio</th>\n",
       "      <th>punti_patente</th>\n",
       "    </tr>\n",
       "  </thead>\n",
       "  <tbody>\n",
       "    <tr>\n",
       "      <th>0</th>\n",
       "      <td>29768021</td>\n",
       "      <td>1969.0</td>\n",
       "      <td>PIZZONE</td>\n",
       "      <td>ISERNIA</td>\n",
       "      <td>MOLISE</td>\n",
       "      <td>NaN</td>\n",
       "      <td>F</td>\n",
       "      <td>B</td>\n",
       "      <td>1990-10-26 00:00:00</td>\n",
       "      <td>N</td>\n",
       "      <td>1990-10-26 00:00:00</td>\n",
       "      <td>2020-12-20 00:00:00</td>\n",
       "      <td>NaN</td>\n",
       "      <td>30</td>\n",
       "    </tr>\n",
       "    <tr>\n",
       "      <th>1</th>\n",
       "      <td>50428563</td>\n",
       "      <td>1983.0</td>\n",
       "      <td>BARANELLO</td>\n",
       "      <td>CAMPOBASSO</td>\n",
       "      <td>MOLISE</td>\n",
       "      <td>NaN</td>\n",
       "      <td>F</td>\n",
       "      <td>B</td>\n",
       "      <td>2002-11-25 00:00:00</td>\n",
       "      <td>N</td>\n",
       "      <td>2002-11-25 00:00:00</td>\n",
       "      <td>2023-08-11 00:00:00</td>\n",
       "      <td>NaN</td>\n",
       "      <td>30</td>\n",
       "    </tr>\n",
       "    <tr>\n",
       "      <th>2</th>\n",
       "      <td>47513723</td>\n",
       "      <td>1977.0</td>\n",
       "      <td>VENAFRO</td>\n",
       "      <td>ISERNIA</td>\n",
       "      <td>MOLISE</td>\n",
       "      <td>NaN</td>\n",
       "      <td>F</td>\n",
       "      <td>B</td>\n",
       "      <td>1998-06-29 00:00:00</td>\n",
       "      <td>N</td>\n",
       "      <td>1998-06-29 00:00:00</td>\n",
       "      <td>2018-06-24 00:00:00</td>\n",
       "      <td>NaN</td>\n",
       "      <td>30</td>\n",
       "    </tr>\n",
       "    <tr>\n",
       "      <th>3</th>\n",
       "      <td>51766645</td>\n",
       "      <td>1984.0</td>\n",
       "      <td>TORO</td>\n",
       "      <td>CAMPOBASSO</td>\n",
       "      <td>MOLISE</td>\n",
       "      <td>NaN</td>\n",
       "      <td>F</td>\n",
       "      <td>B</td>\n",
       "      <td>2004-06-21 00:00:00</td>\n",
       "      <td>N</td>\n",
       "      <td>2014-06-17 00:00:00</td>\n",
       "      <td>2024-12-28 00:00:00</td>\n",
       "      <td>NaN</td>\n",
       "      <td>30</td>\n",
       "    </tr>\n",
       "    <tr>\n",
       "      <th>4</th>\n",
       "      <td>34715483</td>\n",
       "      <td>1969.0</td>\n",
       "      <td>ORATINO</td>\n",
       "      <td>CAMPOBASSO</td>\n",
       "      <td>MOLISE</td>\n",
       "      <td>NaN</td>\n",
       "      <td>M</td>\n",
       "      <td>DE</td>\n",
       "      <td>1990-02-02 00:00:00</td>\n",
       "      <td>S</td>\n",
       "      <td>2015-01-23 00:00:00</td>\n",
       "      <td>2020-01-22 00:00:00</td>\n",
       "      <td>NaN</td>\n",
       "      <td>30</td>\n",
       "    </tr>\n",
       "    <tr>\n",
       "      <th>5</th>\n",
       "      <td>54158448</td>\n",
       "      <td>1986.0</td>\n",
       "      <td>TERMOLI</td>\n",
       "      <td>CAMPOBASSO</td>\n",
       "      <td>MOLISE</td>\n",
       "      <td>NaN</td>\n",
       "      <td>F</td>\n",
       "      <td>B</td>\n",
       "      <td>2005-06-04 00:00:00</td>\n",
       "      <td>N</td>\n",
       "      <td>2015-06-10 00:00:00</td>\n",
       "      <td>2025-08-09 00:00:00</td>\n",
       "      <td>NaN</td>\n",
       "      <td>30</td>\n",
       "    </tr>\n",
       "    <tr>\n",
       "      <th>6</th>\n",
       "      <td>38879641</td>\n",
       "      <td>1942.0</td>\n",
       "      <td>RICCIA</td>\n",
       "      <td>CAMPOBASSO</td>\n",
       "      <td>MOLISE</td>\n",
       "      <td>NaN</td>\n",
       "      <td>F</td>\n",
       "      <td>B</td>\n",
       "      <td>1984-07-09 00:00:00</td>\n",
       "      <td>S</td>\n",
       "      <td>2016-03-01 00:00:00</td>\n",
       "      <td>2018-03-01 00:00:00</td>\n",
       "      <td>NaN</td>\n",
       "      <td>30</td>\n",
       "    </tr>\n",
       "    <tr>\n",
       "      <th>7</th>\n",
       "      <td>34834217</td>\n",
       "      <td>1964.0</td>\n",
       "      <td>TERMOLI</td>\n",
       "      <td>CAMPOBASSO</td>\n",
       "      <td>MOLISE</td>\n",
       "      <td>NaN</td>\n",
       "      <td>F</td>\n",
       "      <td>B</td>\n",
       "      <td>1985-11-21 00:00:00</td>\n",
       "      <td>S</td>\n",
       "      <td>2016-03-31 00:00:00</td>\n",
       "      <td>2022-03-15 00:00:00</td>\n",
       "      <td>NaN</td>\n",
       "      <td>30</td>\n",
       "    </tr>\n",
       "    <tr>\n",
       "      <th>8</th>\n",
       "      <td>34725697</td>\n",
       "      <td>1977.0</td>\n",
       "      <td>BOIANO</td>\n",
       "      <td>CAMPOBASSO</td>\n",
       "      <td>MOLISE</td>\n",
       "      <td>NaN</td>\n",
       "      <td>F</td>\n",
       "      <td>B</td>\n",
       "      <td>1997-10-28 00:00:00</td>\n",
       "      <td>N</td>\n",
       "      <td>1997-10-28 00:00:00</td>\n",
       "      <td>2017-09-24 00:00:00</td>\n",
       "      <td>NaN</td>\n",
       "      <td>30</td>\n",
       "    </tr>\n",
       "    <tr>\n",
       "      <th>9</th>\n",
       "      <td>47439931</td>\n",
       "      <td>1957.0</td>\n",
       "      <td>AGNONE</td>\n",
       "      <td>ISERNIA</td>\n",
       "      <td>MOLISE</td>\n",
       "      <td>NaN</td>\n",
       "      <td>NaN</td>\n",
       "      <td>B</td>\n",
       "      <td>1985-12-31 00:00:00</td>\n",
       "      <td>S</td>\n",
       "      <td>1985-12-31 00:00:00</td>\n",
       "      <td>2019-02-23 00:00:00</td>\n",
       "      <td>NaN</td>\n",
       "      <td>30</td>\n",
       "    </tr>\n",
       "  </tbody>\n",
       "</table>\n",
       "</div>"
      ],
      "text/plain": [
       "         id  anno_nascita comune_residenza provincia_residenza  \\\n",
       "0  29768021        1969.0          PIZZONE             ISERNIA   \n",
       "1  50428563        1983.0        BARANELLO          CAMPOBASSO   \n",
       "2  47513723        1977.0          VENAFRO             ISERNIA   \n",
       "3  51766645        1984.0             TORO          CAMPOBASSO   \n",
       "4  34715483        1969.0          ORATINO          CAMPOBASSO   \n",
       "5  54158448        1986.0          TERMOLI          CAMPOBASSO   \n",
       "6  38879641        1942.0           RICCIA          CAMPOBASSO   \n",
       "7  34834217        1964.0          TERMOLI          CAMPOBASSO   \n",
       "8  34725697        1977.0           BOIANO          CAMPOBASSO   \n",
       "9  47439931        1957.0           AGNONE             ISERNIA   \n",
       "\n",
       "  regione_residenza stato_estero_nascita sesso categoria_patente  \\\n",
       "0            MOLISE                  NaN     F                 B   \n",
       "1            MOLISE                  NaN     F                 B   \n",
       "2            MOLISE                  NaN     F                 B   \n",
       "3            MOLISE                  NaN     F                 B   \n",
       "4            MOLISE                  NaN     M                DE   \n",
       "5            MOLISE                  NaN     F                 B   \n",
       "6            MOLISE                  NaN     F                 B   \n",
       "7            MOLISE                  NaN     F                 B   \n",
       "8            MOLISE                  NaN     F                 B   \n",
       "9            MOLISE                  NaN   NaN                 B   \n",
       "\n",
       "         data_rilascio abilitato_a  data_abilitazione_a        data_scadenza  \\\n",
       "0  1990-10-26 00:00:00           N  1990-10-26 00:00:00  2020-12-20 00:00:00   \n",
       "1  2002-11-25 00:00:00           N  2002-11-25 00:00:00  2023-08-11 00:00:00   \n",
       "2  1998-06-29 00:00:00           N  1998-06-29 00:00:00  2018-06-24 00:00:00   \n",
       "3  2004-06-21 00:00:00           N  2014-06-17 00:00:00  2024-12-28 00:00:00   \n",
       "4  1990-02-02 00:00:00           S  2015-01-23 00:00:00  2020-01-22 00:00:00   \n",
       "5  2005-06-04 00:00:00           N  2015-06-10 00:00:00  2025-08-09 00:00:00   \n",
       "6  1984-07-09 00:00:00           S  2016-03-01 00:00:00  2018-03-01 00:00:00   \n",
       "7  1985-11-21 00:00:00           S  2016-03-31 00:00:00  2022-03-15 00:00:00   \n",
       "8  1997-10-28 00:00:00           N  1997-10-28 00:00:00  2017-09-24 00:00:00   \n",
       "9  1985-12-31 00:00:00           S  1985-12-31 00:00:00  2019-02-23 00:00:00   \n",
       "\n",
       "  stato_estero_primo_rilascio  punti_patente  \n",
       "0                         NaN             30  \n",
       "1                         NaN             30  \n",
       "2                         NaN             30  \n",
       "3                         NaN             30  \n",
       "4                         NaN             30  \n",
       "5                         NaN             30  \n",
       "6                         NaN             30  \n",
       "7                         NaN             30  \n",
       "8                         NaN             30  \n",
       "9                         NaN             30  "
      ]
     },
     "execution_count": 15,
     "metadata": {},
     "output_type": "execute_result"
    }
   ],
   "source": [
    "patenti.head(10)"
   ]
  },
  {
   "cell_type": "markdown",
   "metadata": {},
   "source": [
    "### Campi di interesse Parco Macchine: \n",
    "\n",
    "- punti_patenti"
   ]
  },
  {
   "cell_type": "code",
   "execution_count": null,
   "metadata": {},
   "outputs": [],
   "source": [
    "patenti.punti_patente.value_counts()"
   ]
  },
  {
   "cell_type": "markdown",
   "metadata": {},
   "source": [
    "## Parco Macchine\n"
   ]
  },
  {
   "cell_type": "code",
   "execution_count": 2,
   "metadata": {},
   "outputs": [
    {
     "name": "stdout",
     "output_type": "stream",
     "text": [
      "./../data/parco/parco_circolante_Calabria.csv\n",
      "./../data/parco/parco_circolante_Molise.csv\n",
      "./../data/parco/parco_circolante_EmiliaRomagna.csv\n",
      "./../data/parco/parco_circolante_Veneto.csv\n",
      "./../data/parco/parco_circolante_Umbria.csv\n",
      "./../data/parco/parco_circolante_Sardegna.csv\n",
      "./../data/parco/parco_circolante_Liguria.csv\n",
      "./../data/parco/parco_circolante_Puglia.csv\n",
      "./../data/parco/parco_circolante_Abruzzo.csv\n",
      "./../data/parco/parco_circolante_Lazio.csv\n",
      "./../data/parco/parco_circolante_Piemonte.csv\n",
      "./../data/parco/parco_circolante_FriuliVeneziaGiulia.csv\n",
      "./../data/parco/parco_circolante_Lombardia.csv\n",
      "./../data/parco/parco_circolante_Marche.csv\n",
      "./../data/parco/parco_circolante_ValleAosta.csv\n",
      "./../data/parco/parco_circolante_Basilicata.csv\n",
      "./../data/parco/parco_circolante_Toscana.csv\n",
      "./../data/parco/parco_circolante_TrentinoAltoAdige.csv\n",
      "./../data/parco/parco_circolante_Sicilia.csv\n",
      "./../data/parco/parco_circolante_Campania.csv\n"
     ]
    },
    {
     "data": {
      "text/plain": [
       "52165189"
      ]
     },
     "execution_count": 2,
     "metadata": {},
     "output_type": "execute_result"
    }
   ],
   "source": [
    "folder_dati = \"../data/parco\"\n",
    "folder = glob.glob('./'+folder_dati+'/*.csv')\n",
    "\n",
    "list_ =[]\n",
    "for file_ in folder:\n",
    "    print (file_)\n",
    "    name = (os.path.basename(file_)).split(\".\")[0]\n",
    "    \n",
    "    #leggo il dataset originario\n",
    "    df = pd.read_csv(file_, sep=\",\", encoding=\"ISO-8859-1\", decimal=\",\",low_memory=False)\n",
    "    list_.append(df)\n",
    "parco = pd.concat(list_)\n",
    "len(parco)"
   ]
  },
  {
   "cell_type": "code",
   "execution_count": 4,
   "metadata": {},
   "outputs": [
    {
     "data": {
      "text/plain": [
       "id                           int64\n",
       "progressivo                  int64\n",
       "tipo_veicolo                object\n",
       "destinazione                object\n",
       "uso                         object\n",
       "comune_residenza            object\n",
       "provincia_residenza         object\n",
       "regione_residenza           object\n",
       "eta_intestatario           float64\n",
       "sesso                       object\n",
       "marca                       object\n",
       "cilindrata                  object\n",
       "alimentazione               object\n",
       "kw                         float64\n",
       "data_immatricolazione       object\n",
       "classe_euro                float64\n",
       "emissioni_co2               object\n",
       "massa_complessiva          float64\n",
       "revisione_in_regola         object\n",
       "assicurazione_in_regola     object\n",
       "dtype: object"
      ]
     },
     "execution_count": 4,
     "metadata": {},
     "output_type": "execute_result"
    }
   ],
   "source": [
    "parco.dtypes"
   ]
  },
  {
   "cell_type": "code",
   "execution_count": 3,
   "metadata": {},
   "outputs": [
    {
     "data": {
      "text/plain": [
       "52165189"
      ]
     },
     "execution_count": 3,
     "metadata": {},
     "output_type": "execute_result"
    }
   ],
   "source": [
    "len(parco)"
   ]
  },
  {
   "cell_type": "code",
   "execution_count": 5,
   "metadata": {},
   "outputs": [
    {
     "data": {
      "text/plain": [
       "A    44961663\n",
       "M     7203526\n",
       "Name: tipo_veicolo, dtype: int64"
      ]
     },
     "execution_count": 5,
     "metadata": {},
     "output_type": "execute_result"
    }
   ],
   "source": [
    "parco.tipo_veicolo.value_counts()"
   ]
  },
  {
   "cell_type": "code",
   "execution_count": 7,
   "metadata": {},
   "outputs": [
    {
     "data": {
      "text/plain": [
       "AUTOVETTURA PER TRASPORTO DI PERSONE                     39161407\n",
       "MOTOCICLO PER TRASPORTO PERSONE                           6847043\n",
       "AUTOCARRO PER TRASPORTO DI COSE                           4151272\n",
       "AUTOVEIC.TRASP.PROMISCUO PERSONE/COSE                      601596\n",
       "AUTOCARAVAN                                                279698\n",
       "AUTOVEICOLO PER TRASPORTO SPECIFICO                        274121\n",
       "TRICICLO PER TRASPORTO COSE                                211595\n",
       "AUTOVEICOLO PER USO SPECIALE                               193042\n",
       "TRATTORE PER SEMIRIMORCHIO                                 167726\n",
       "AUTOBUS PER TRASPORTO DI PERSONE                            96479\n",
       "QUADRICICLO PER TRASP. DI PERSONE                           83499\n",
       "QUADRICICLO PER TRASP.DI COSE                               37320\n",
       "TRICICLO PER TRASPORTO DI PERSONE                           10012\n",
       "AUTOVEICOLO USO ESCLUSIVO DI POLIZIA                         7849\n",
       "TRAS.SPECIFICO PERSONE PART.CONDIZIONI                       4964\n",
       "MOTOVEICOLO USO ESCLUSIVO DI POLIZIA                         2437\n",
       "TRICICLO PER TRASPORTO SPECIFICO                             2128\n",
       "TRICICLO PER USO SPECIALE                                     694\n",
       "TRATTORE STRADALE PER RIMORCHIO                               488\n",
       "AUTOVEICOLO IN SERVIZIO PUBBLICO DI LINEA INTEGRATIVO         346\n",
       "TRICICLO PER TRASPORTO PROMISCUO                              135\n",
       "QUADRICICLO PER USO SPECIALE                                  118\n",
       "QUADRICICLO TRASP. SPECIFICO                                  111\n",
       "VEICOLO SPECIALE USO AUTOSCUOLA                                77\n",
       "AUTOVEICOLO PER USO SPECIALE DELLA POLIZIA LOCALE              29\n",
       "Name: destinazione, dtype: int64"
      ]
     },
     "execution_count": 7,
     "metadata": {},
     "output_type": "execute_result"
    }
   ],
   "source": [
    "parco.destinazione.value_counts()"
   ]
  },
  {
   "cell_type": "code",
   "execution_count": 8,
   "metadata": {},
   "outputs": [
    {
     "data": {
      "text/plain": [
       "PROPRIO                                  50324634\n",
       "DI TERZI DA LOCARE SENZA CONDUC.          1171487\n",
       "DI TERZI CON AUTORIZZAZIONE LIBERA         280779\n",
       "DI TERZI CON AUTORIZZAZIONI VINCOLATE      213182\n",
       "DI TERZI                                    80944\n",
       "DI TERZI DA NOLEGGIO CON CONDUC.            58839\n",
       "USO SPECIALE                                 4277\n",
       "PRIV.,LOCAZIONE FAC. COMPERA                    4\n",
       "Name: uso, dtype: int64"
      ]
     },
     "execution_count": 8,
     "metadata": {},
     "output_type": "execute_result"
    }
   ],
   "source": [
    "parco.uso.value_counts()"
   ]
  },
  {
   "cell_type": "code",
   "execution_count": 10,
   "metadata": {},
   "outputs": [
    {
     "data": {
      "text/plain": [
       "FIAT - INNOCENTI                                                11791694\n",
       "FORD                                                             3166917\n",
       "VOLKSWAGEN                                                       2970094\n",
       "OPEL                                                             2519635\n",
       "RENAULT                                                          2385051\n",
       "LANCIA - AUTOBIANCHI                                             1984195\n",
       "PEUGEOT                                                          1885137\n",
       "CITROEN                                                          1753326\n",
       "MERCEDES                                                         1713200\n",
       "TOYOTA                                                           1598859\n",
       "HONDA                                                            1332819\n",
       "ALFA ROMEO                                                       1228145\n",
       "BMW                                                              1209371\n",
       "NISSAN                                                           1202021\n",
       "AUDI                                                             1149314\n",
       "PIAGGIO                                                          1084541\n",
       "IVECO - FIAT                                                     1005531\n",
       "SUZUKI                                                            887619\n",
       "HYUNDAI                                                           716250\n",
       "YAMAHA                                                            696322\n",
       "SMART                                                             560678\n",
       "CHEVROLET                                                         465063\n",
       "KIA                                                               435307\n",
       "SEAT                                                              433462\n",
       "KYMCO                                                             391701\n",
       "APRILIA                                                           356122\n",
       "CHRYSLER                                                          331799\n",
       "DACIA                                                             328074\n",
       "VOLVO                                                             327990\n",
       "MINI                                                              309537\n",
       "                                                                  ...   \n",
       "OMCI                                                                 305\n",
       "JIANGSU DAFIER MOTORCYCLE CO. LTD.                                   271\n",
       "REGAL-RAPTOR                                                         230\n",
       "ZHEYIANG LINGYU VEHICLE CO. LTD                                      178\n",
       "CARPIMOTOR IMPORT EXPORT                                             125\n",
       "MICROCAR                                                             112\n",
       "SETRA                                                                110\n",
       "MOBILVETTA                                                           107\n",
       "LAMBERT                                                              102\n",
       "CASALINI                                                              97\n",
       "BUICK                                                                 89\n",
       "MARUTI                                                                66\n",
       "KREIDLER                                                              29\n",
       "TRIGANO                                                               22\n",
       "DE TOMASO                                                             18\n",
       "LANCIA - AUTOBIANCHI                                                  17\n",
       "ELLEBI                                                                17\n",
       "CAMPER MONOSCOCCA S.R.L.                                              13\n",
       "CARGOBULL                                                             13\n",
       "MAURI BUS                                                             10\n",
       "TIEMME RIMORCHI S.R.L.                                                10\n",
       "SEA                                                                    9\n",
       "AUTOSAN                                                                7\n",
       "INDUSTRIE RIMORCHI VERONA                                              6\n",
       "PIACENZA                                                               4\n",
       "ADRIA MOBIL                                                            4\n",
       "PIACENZA                                                               4\n",
       "BIGA'                                                                  3\n",
       "DUCATI ENERGIA                                                         3\n",
       "FIAT - INNOCENTI                                                       2\n",
       "Name: marca, Length: 152, dtype: int64"
      ]
     },
     "execution_count": 10,
     "metadata": {},
     "output_type": "execute_result"
    }
   ],
   "source": [
    "parco.marca.value_counts()"
   ]
  },
  {
   "cell_type": "code",
   "execution_count": null,
   "metadata": {},
   "outputs": [],
   "source": [
    "parco.sesso.value_counts()"
   ]
  },
  {
   "cell_type": "code",
   "execution_count": 9,
   "metadata": {},
   "outputs": [
    {
     "data": {
      "text/plain": [
       "A    44961663\n",
       "M     7203526\n",
       "Name: tipo_veicolo, dtype: int64"
      ]
     },
     "execution_count": 9,
     "metadata": {},
     "output_type": "execute_result"
    }
   ],
   "source": [
    "parco.tipo_veicolo.value_counts()"
   ]
  },
  {
   "cell_type": "code",
   "execution_count": 5,
   "metadata": {},
   "outputs": [
    {
     "data": {
      "text/plain": [
       "LOMBARDIA                8214282\n",
       "LAZIO                    5341091\n",
       "CAMPANIA                 4591254\n",
       "SICILIA                  4487250\n",
       "VENETO                   4052513\n",
       "EMILIA-ROMAGNA           3859415\n",
       "PIEMONTE                 3858373\n",
       "TOSCANA                  3499371\n",
       "PUGLIA                   3050018\n",
       "CALABRIA                 1631868\n",
       "TRENTINO-ALTO-ADIGE      1397194\n",
       "LIGURIA                  1383184\n",
       "MARCHE                   1379921\n",
       "SARDEGNA                 1363193\n",
       "ABRUZZO                  1170438\n",
       "FRIULI-VENEZIA_GIULIA    1042494\n",
       "UMBRIA                    824464\n",
       "BASILICATA                476862\n",
       "MOLISE                    289473\n",
       "VALLE-D'AOSTA             252531\n",
       "Name: regione_residenza, dtype: int64"
      ]
     },
     "execution_count": 5,
     "metadata": {},
     "output_type": "execute_result"
    }
   ],
   "source": [
    "parco.regione_residenza.value_counts()"
   ]
  },
  {
   "cell_type": "code",
   "execution_count": null,
   "metadata": {},
   "outputs": [],
   "source": [
    "parco.destinazione.value_counts()"
   ]
  },
  {
   "cell_type": "markdown",
   "metadata": {},
   "source": [
    "### Campi di interesse Parco Macchine: \n",
    "\n",
    "- revisione_in_regola, \n",
    "\n",
    "- assicurazione_in_regola      "
   ]
  },
  {
   "cell_type": "code",
   "execution_count": 4,
   "metadata": {},
   "outputs": [
    {
     "data": {
      "text/plain": [
       "S    39096194\n",
       "N    13068995\n",
       "Name: revisione_in_regola, dtype: int64"
      ]
     },
     "execution_count": 4,
     "metadata": {},
     "output_type": "execute_result"
    }
   ],
   "source": [
    "parco.revisione_in_regola.value_counts()"
   ]
  },
  {
   "cell_type": "code",
   "execution_count": 3,
   "metadata": {},
   "outputs": [
    {
     "data": {
      "text/plain": [
       "S    38151309\n",
       "N    14013880\n",
       "Name: assicurazione_in_regola, dtype: int64"
      ]
     },
     "execution_count": 3,
     "metadata": {},
     "output_type": "execute_result"
    }
   ],
   "source": [
    "parco.assicurazione_in_regola.value_counts()"
   ]
  },
  {
   "cell_type": "code",
   "execution_count": null,
   "metadata": {},
   "outputs": [],
   "source": [
    "##\n",
    "- Dove si trovano le auto con le revisioni da effettuare?\n",
    "- Dove si trovano le auto con l'assicurazione da affettuare?\n",
    "- Fare normalizzazione tra abitanti e veicoli\n",
    "- vedere quali sono le regioni più inquinanti rapporttate con abitanti?"
   ]
  },
  {
   "cell_type": "markdown",
   "metadata": {},
   "source": [
    "## Comune di residenza: join sui due dataset"
   ]
  },
  {
   "cell_type": "code",
   "execution_count": 5,
   "metadata": {},
   "outputs": [
    {
     "ename": "TypeError",
     "evalue": "merge() missing 1 required positional argument: 'right'",
     "output_type": "error",
     "traceback": [
      "\u001b[0;31m---------------------------------------------------------------------------\u001b[0m",
      "\u001b[0;31mTypeError\u001b[0m                                 Traceback (most recent call last)",
      "\u001b[0;32m<ipython-input-5-4f85ec291d27>\u001b[0m in \u001b[0;36m<module>\u001b[0;34m()\u001b[0m\n\u001b[0;32m----> 1\u001b[0;31m \u001b[0mfull\u001b[0m \u001b[0;34m=\u001b[0m \u001b[0mparco\u001b[0m\u001b[0;34m.\u001b[0m\u001b[0mmerge\u001b[0m\u001b[0;34m(\u001b[0m\u001b[0mon\u001b[0m\u001b[0;34m=\u001b[0m\u001b[0;34m'comune_residenza'\u001b[0m\u001b[0;34m,\u001b[0m \u001b[0mhow\u001b[0m\u001b[0;34m=\u001b[0m\u001b[0;34m'inner'\u001b[0m\u001b[0;34m)\u001b[0m\u001b[0;34m\u001b[0m\u001b[0m\n\u001b[0m",
      "\u001b[0;31mTypeError\u001b[0m: merge() missing 1 required positional argument: 'right'"
     ]
    }
   ],
   "source": [
    "full = parco.merge(on='comune_residenza', how='inner')"
   ]
  },
  {
   "cell_type": "code",
   "execution_count": null,
   "metadata": {},
   "outputs": [],
   "source": []
  }
 ],
 "metadata": {
  "kernelspec": {
   "display_name": "Python 3",
   "language": "python",
   "name": "python3"
  },
  "language_info": {
   "codemirror_mode": {
    "name": "ipython",
    "version": 3
   },
   "file_extension": ".py",
   "mimetype": "text/x-python",
   "name": "python",
   "nbconvert_exporter": "python",
   "pygments_lexer": "ipython3",
   "version": "3.6.4"
  }
 },
 "nbformat": 4,
 "nbformat_minor": 2
}
